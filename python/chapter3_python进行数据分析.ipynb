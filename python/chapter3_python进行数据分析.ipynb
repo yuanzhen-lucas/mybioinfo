{
 "cells": [
  {
   "cell_type": "markdown",
   "source": [
    "# 描述统计：单变量\r\n",
    "<!-- scipy 包含计算统计量等基础函数 -->"
   ],
   "metadata": {}
  },
  {
   "cell_type": "code",
   "execution_count": 39,
   "source": [
    "import numpy as np\r\n",
    "import scipy as sp\r\n",
    "# scipy 包含计算统计量等基础函数 \r\n",
    "# 设置精度\r\n",
    "%precision 3\r\n"
   ],
   "outputs": [
    {
     "output_type": "execute_result",
     "data": {
      "text/plain": [
       "'%.3f'"
      ]
     },
     "metadata": {},
     "execution_count": 39
    }
   ],
   "metadata": {}
  },
  {
   "cell_type": "code",
   "execution_count": 2,
   "source": [
    "# 单变量的数据操作\r\n",
    "fish_data = np.array([2,3,3,4,4,4,4,5,5,6])\r\n",
    "fish_data"
   ],
   "outputs": [
    {
     "output_type": "execute_result",
     "data": {
      "text/plain": [
       "array([2, 3, 3, 4, 4, 4, 4, 5, 5, 6])"
      ]
     },
     "metadata": {},
     "execution_count": 2
    }
   ],
   "metadata": {}
  },
  {
   "cell_type": "markdown",
   "source": [
    "### 总和 & 样本容量"
   ],
   "metadata": {}
  },
  {
   "cell_type": "code",
   "execution_count": null,
   "source": [
    "sp.sum(fish_data)\r\n",
    "np.sum(fish_data)\r\n",
    "len(fish_data)"
   ],
   "outputs": [],
   "metadata": {}
  },
  {
   "cell_type": "markdown",
   "source": [
    "### 均值（期望值）"
   ],
   "metadata": {}
  },
  {
   "cell_type": "code",
   "execution_count": 12,
   "source": [
    "N = len(fish_data)\r\n",
    "sum_value = sp.sum(fish_data)\r\n",
    "expection = sum_value / N\r\n",
    "expection\r\n",
    "\r\n",
    "# 或者使用scipy中的mean函数\r\n",
    "sp.mean(fish_data)"
   ],
   "outputs": [
    {
     "output_type": "stream",
     "name": "stderr",
     "text": [
      "C:\\Users\\Cherry\\AppData\\Roaming\\Python\\Python37\\site-packages\\ipykernel_launcher.py:2: DeprecationWarning: scipy.sum is deprecated and will be removed in SciPy 2.0.0, use numpy.sum instead\n",
      "  \n",
      "C:\\Users\\Cherry\\AppData\\Roaming\\Python\\Python37\\site-packages\\ipykernel_launcher.py:7: DeprecationWarning: scipy.mean is deprecated and will be removed in SciPy 2.0.0, use numpy.mean instead\n",
      "  import sys\n"
     ]
    },
    {
     "output_type": "execute_result",
     "data": {
      "text/plain": [
       "4.0"
      ]
     },
     "metadata": {},
     "execution_count": 12
    }
   ],
   "metadata": {}
  },
  {
   "cell_type": "markdown",
   "source": [
    "### 样本方差 & 无偏方差"
   ],
   "metadata": {}
  },
  {
   "cell_type": "code",
   "execution_count": 25,
   "source": [
    "sigma_2 = np.sum((fish_data - expection) ** 2) / N\r\n",
    "sigma_2\r\n",
    "np.var(fish_data, ddof = 0)\r\n",
    "sigma = np.sum((fish_data - expection)  ** 2) / (N - 1)\r\n",
    "np.var(fish_data, ddof = 1)"
   ],
   "outputs": [
    {
     "output_type": "execute_result",
     "data": {
      "text/plain": [
       "1.3333333333333333"
      ]
     },
     "metadata": {},
     "execution_count": 25
    }
   ],
   "metadata": {}
  },
  {
   "cell_type": "markdown",
   "source": [
    "### 标准差 & 标准化"
   ],
   "metadata": {}
  },
  {
   "cell_type": "code",
   "execution_count": 28,
   "source": [
    "sigma = np.sqrt(sigma_2)\r\n",
    "np.std(fish_data, ddof=1)"
   ],
   "outputs": [
    {
     "output_type": "execute_result",
     "data": {
      "text/plain": [
       "1.1547005383792515"
      ]
     },
     "metadata": {},
     "execution_count": 28
    }
   ],
   "metadata": {}
  },
  {
   "cell_type": "markdown",
   "source": [
    "### 标准化\r\n",
    "-   均值转换为0\r\n",
    "-   标准差（方差）转化为1"
   ],
   "metadata": {}
  },
  {
   "cell_type": "code",
   "execution_count": null,
   "source": [
    "fish_data - expection\r\n",
    "sp.mean(fish_data - expection)\r\n",
    "# 转换方差\r\n",
    "fish_data / sigma\r\n",
    "sp.std(fish_data / sigma, ddof = 1)\r\n",
    "\r\n",
    "# 执行这两种转化，就可以转化数据\r\n",
    "standard = (fish_data -  expection) / sigma\r\n",
    "standard\r\n",
    "sp.mean(standard)"
   ],
   "outputs": [],
   "metadata": {}
  },
  {
   "cell_type": "markdown",
   "source": [
    "## 其他统计量"
   ],
   "metadata": {}
  },
  {
   "cell_type": "code",
   "execution_count": null,
   "source": [
    "# 最大值\r\n",
    "sp.amax(fish_data)\r\n",
    "# 最小值\r\n",
    "sp.amin(fish_data)\r\n",
    "\r\n",
    "# 中位数\r\n",
    "sp.median(fish_data)\r\n",
    "\r\n",
    "# 中位数相比较于极端值更具有稳健性\r\n"
   ],
   "outputs": [],
   "metadata": {}
  },
  {
   "cell_type": "markdown",
   "source": [
    "## scipy.stats 与四分位数"
   ],
   "metadata": {}
  },
  {
   "cell_type": "code",
   "execution_count": 46,
   "source": [
    "from scipy import stats\r\n",
    "fish_data_3 = np.array([1, 2, 3, 4, 5, 6, 7, 8])\r\n",
    "stats.scoreatpercentile(fish_data_3, 25)"
   ],
   "outputs": [
    {
     "output_type": "execute_result",
     "data": {
      "text/plain": [
       "2.75"
      ]
     },
     "metadata": {},
     "execution_count": 46
    }
   ],
   "metadata": {}
  },
  {
   "cell_type": "markdown",
   "source": [
    "#### 从小到大数，`75%`的位置"
   ],
   "metadata": {}
  },
  {
   "cell_type": "code",
   "execution_count": null,
   "source": [
    "stats.scoreatpercentile(fish_data_3, 75)"
   ],
   "outputs": [],
   "metadata": {}
  }
 ],
 "metadata": {
  "orig_nbformat": 4,
  "language_info": {
   "name": "python",
   "version": "3.7.8",
   "mimetype": "text/x-python",
   "codemirror_mode": {
    "name": "ipython",
    "version": 3
   },
   "pygments_lexer": "ipython3",
   "nbconvert_exporter": "python",
   "file_extension": ".py"
  },
  "kernelspec": {
   "name": "python3",
   "display_name": "Python 3.7.8 64-bit"
  },
  "interpreter": {
   "hash": "5eb28d37f67e3c7de6734a9961b262f30b15700927acf945dd85fe9d5c2ccba0"
  }
 },
 "nbformat": 4,
 "nbformat_minor": 2
}