{
 "cells": [
  {
   "cell_type": "markdown",
   "source": [
    "# 描述统计：单变量\r\n",
    "<!-- scipy 包含计算统计量等基础函数 -->"
   ],
   "metadata": {}
  },
  {
   "cell_type": "code",
   "execution_count": 1,
   "source": [
    "import numpy as np\r\n",
    "import scipy as sp\r\n",
    "# scipy 包含计算统计量等基础函数 \r\n",
    "# 设置精度\r\n",
    "%precision 3\r\n"
   ],
   "outputs": [
    {
     "output_type": "execute_result",
     "data": {
      "text/plain": [
       "'%.3f'"
      ]
     },
     "metadata": {},
     "execution_count": 1
    }
   ],
   "metadata": {}
  },
  {
   "cell_type": "code",
   "execution_count": 2,
   "source": [
    "# 单变量的数据操作\r\n",
    "fish_data = np.array([2,3,3,4,4,4,4,5,5,6])\r\n",
    "fish_data"
   ],
   "outputs": [
    {
     "output_type": "execute_result",
     "data": {
      "text/plain": [
       "array([2, 3, 3, 4, 4, 4, 4, 5, 5, 6])"
      ]
     },
     "metadata": {},
     "execution_count": 2
    }
   ],
   "metadata": {}
  },
  {
   "cell_type": "markdown",
   "source": [
    "### 总和 & 样本容量"
   ],
   "metadata": {}
  },
  {
   "cell_type": "code",
   "execution_count": 3,
   "source": [
    "sp.sum(fish_data)\r\n",
    "np.sum(fish_data)\r\n",
    "len(fish_data)"
   ],
   "outputs": [
    {
     "output_type": "stream",
     "name": "stderr",
     "text": [
      "ipykernel_launcher:1: DeprecationWarning: scipy.sum is deprecated and will be removed in SciPy 2.0.0, use numpy.sum instead\n"
     ]
    },
    {
     "output_type": "execute_result",
     "data": {
      "text/plain": [
       "10"
      ]
     },
     "metadata": {},
     "execution_count": 3
    }
   ],
   "metadata": {}
  },
  {
   "cell_type": "markdown",
   "source": [
    "### 均值（期望值）"
   ],
   "metadata": {}
  },
  {
   "cell_type": "code",
   "execution_count": 4,
   "source": [
    "N = len(fish_data)\r\n",
    "sum_value = sp.sum(fish_data)\r\n",
    "expection = sum_value / N\r\n",
    "expection\r\n",
    "\r\n",
    "# 或者使用scipy中的mean函数\r\n",
    "sp.mean(fish_data)"
   ],
   "outputs": [
    {
     "output_type": "stream",
     "name": "stderr",
     "text": [
      "ipykernel_launcher:2: DeprecationWarning: scipy.sum is deprecated and will be removed in SciPy 2.0.0, use numpy.sum instead\n",
      "ipykernel_launcher:7: DeprecationWarning: scipy.mean is deprecated and will be removed in SciPy 2.0.0, use numpy.mean instead\n"
     ]
    },
    {
     "output_type": "execute_result",
     "data": {
      "text/plain": [
       "4.0"
      ]
     },
     "metadata": {},
     "execution_count": 4
    }
   ],
   "metadata": {}
  },
  {
   "cell_type": "markdown",
   "source": [
    "### 样本方差 & 无偏方差"
   ],
   "metadata": {}
  },
  {
   "cell_type": "code",
   "execution_count": 5,
   "source": [
    "sigma_2 = np.sum((fish_data - expection) ** 2) / N\r\n",
    "sigma_2\r\n",
    "np.var(fish_data, ddof = 0)\r\n",
    "sigma = np.sum((fish_data - expection)  ** 2) / (N - 1)\r\n",
    "np.var(fish_data, ddof = 1)"
   ],
   "outputs": [
    {
     "output_type": "execute_result",
     "data": {
      "text/plain": [
       "1.3333333333333333"
      ]
     },
     "metadata": {},
     "execution_count": 5
    }
   ],
   "metadata": {}
  },
  {
   "cell_type": "markdown",
   "source": [
    "### 标准差 & 标准化"
   ],
   "metadata": {}
  },
  {
   "cell_type": "code",
   "execution_count": 6,
   "source": [
    "sigma = np.sqrt(sigma_2)\r\n",
    "np.std(fish_data, ddof=1)"
   ],
   "outputs": [
    {
     "output_type": "execute_result",
     "data": {
      "text/plain": [
       "1.1547005383792515"
      ]
     },
     "metadata": {},
     "execution_count": 6
    }
   ],
   "metadata": {}
  },
  {
   "cell_type": "markdown",
   "source": [
    "### 标准化\r\n",
    "-   均值转换为0\r\n",
    "-   标准差（方差）转化为1"
   ],
   "metadata": {}
  },
  {
   "cell_type": "code",
   "execution_count": 7,
   "source": [
    "fish_data - expection\r\n",
    "sp.mean(fish_data - expection)\r\n",
    "# 转换方差\r\n",
    "fish_data / sigma\r\n",
    "sp.std(fish_data / sigma, ddof = 1)\r\n",
    "\r\n",
    "# 执行这两种转化，就可以转化数据\r\n",
    "standard = (fish_data -  expection) / sigma\r\n",
    "standard\r\n",
    "sp.mean(standard)"
   ],
   "outputs": [
    {
     "output_type": "stream",
     "name": "stderr",
     "text": [
      "ipykernel_launcher:2: DeprecationWarning: scipy.mean is deprecated and will be removed in SciPy 2.0.0, use numpy.mean instead\n",
      "ipykernel_launcher:5: DeprecationWarning: scipy.std is deprecated and will be removed in SciPy 2.0.0, use numpy.std instead\n",
      "ipykernel_launcher:10: DeprecationWarning: scipy.mean is deprecated and will be removed in SciPy 2.0.0, use numpy.mean instead\n"
     ]
    },
    {
     "output_type": "execute_result",
     "data": {
      "text/plain": [
       "2.2204460492503132e-17"
      ]
     },
     "metadata": {},
     "execution_count": 7
    }
   ],
   "metadata": {}
  },
  {
   "cell_type": "markdown",
   "source": [
    "## 其他统计量"
   ],
   "metadata": {}
  },
  {
   "cell_type": "code",
   "execution_count": 8,
   "source": [
    "# 最大值\r\n",
    "sp.amax(fish_data)\r\n",
    "# 最小值\r\n",
    "sp.amin(fish_data)\r\n",
    "\r\n",
    "# 中位数\r\n",
    "sp.median(fish_data)\r\n",
    "\r\n",
    "# 中位数相比较于极端值更具有稳健性\r\n"
   ],
   "outputs": [
    {
     "output_type": "stream",
     "name": "stderr",
     "text": [
      "ipykernel_launcher:2: DeprecationWarning: scipy.amax is deprecated and will be removed in SciPy 2.0.0, use numpy.amax instead\n",
      "ipykernel_launcher:4: DeprecationWarning: scipy.amin is deprecated and will be removed in SciPy 2.0.0, use numpy.amin instead\n",
      "ipykernel_launcher:7: DeprecationWarning: scipy.median is deprecated and will be removed in SciPy 2.0.0, use numpy.median instead\n"
     ]
    },
    {
     "output_type": "execute_result",
     "data": {
      "text/plain": [
       "4.0"
      ]
     },
     "metadata": {},
     "execution_count": 8
    }
   ],
   "metadata": {}
  },
  {
   "cell_type": "markdown",
   "source": [
    "## scipy.stats 与四分位数"
   ],
   "metadata": {}
  },
  {
   "cell_type": "code",
   "execution_count": 9,
   "source": [
    "from scipy import stats\r\n",
    "fish_data_3 = np.array([1, 2, 3, 4, 5, 6, 7, 8])\r\n",
    "stats.scoreatpercentile(fish_data_3, 25)"
   ],
   "outputs": [
    {
     "output_type": "execute_result",
     "data": {
      "text/plain": [
       "2.75"
      ]
     },
     "metadata": {},
     "execution_count": 9
    }
   ],
   "metadata": {}
  },
  {
   "cell_type": "markdown",
   "source": [
    "#### 从小到大数，`75%`的位置"
   ],
   "metadata": {}
  },
  {
   "cell_type": "code",
   "execution_count": 10,
   "source": [
    "stats.scoreatpercentile(fish_data_3, 75)"
   ],
   "outputs": [
    {
     "output_type": "execute_result",
     "data": {
      "text/plain": [
       "6.25"
      ]
     },
     "metadata": {},
     "execution_count": 10
    }
   ],
   "metadata": {}
  },
  {
   "cell_type": "markdown",
   "source": [
    "# 多变量\r\n",
    "## 整洁数据\r\n",
    "根据哈德利·威科姆（Hadley Wickham)的定义：\r\n",
    "-   每个单元格代表一个数值\r\n",
    "-   每个变量一列\r\n",
    "-   每项观察构成一行\r\n",
    "-   每种类型的观察单元构成一个表格\r\n",
    "### 列联表（交叉分类表）"
   ],
   "metadata": {}
  },
  {
   "cell_type": "code",
   "execution_count": 11,
   "source": [
    "import pandas as pd\r\n",
    "import scipy as sp\r\n",
    "%precision 3\r\n",
    "fish_multi = pd.read_csv(\"./data/3-2-1-fish_multi.csv\")\r\n",
    "print(fish_multi)\r\n",
    "# 求各组分的统计量\r\n",
    "group = fish_multi.groupby(\"species\")\r\n",
    "print(group.mean())\r\n",
    "# 求标准差\r\n",
    "print(group.std(ddof=1))\r\n",
    "# 整个的架构\r\n",
    "group.describe()"
   ],
   "outputs": [
    {
     "output_type": "stream",
     "name": "stdout",
     "text": [
      "  species  length\n",
      "0       A       2\n",
      "1       A       3\n",
      "2       A       4\n",
      "3       B       6\n",
      "4       B       8\n",
      "5       B      10\n",
      "         length\n",
      "species        \n",
      "A             3\n",
      "B             8\n",
      "         length\n",
      "species        \n",
      "A           1.0\n",
      "B           2.0\n"
     ]
    },
    {
     "output_type": "execute_result",
     "data": {
      "text/plain": [
       "        length                                    \n",
       "         count mean  std  min  25%  50%  75%   max\n",
       "species                                           \n",
       "A          3.0  3.0  1.0  2.0  2.5  3.0  3.5   4.0\n",
       "B          3.0  8.0  2.0  6.0  7.0  8.0  9.0  10.0"
      ],
      "text/html": [
       "<div>\n",
       "<style scoped>\n",
       "    .dataframe tbody tr th:only-of-type {\n",
       "        vertical-align: middle;\n",
       "    }\n",
       "\n",
       "    .dataframe tbody tr th {\n",
       "        vertical-align: top;\n",
       "    }\n",
       "\n",
       "    .dataframe thead tr th {\n",
       "        text-align: left;\n",
       "    }\n",
       "\n",
       "    .dataframe thead tr:last-of-type th {\n",
       "        text-align: right;\n",
       "    }\n",
       "</style>\n",
       "<table border=\"1\" class=\"dataframe\">\n",
       "  <thead>\n",
       "    <tr>\n",
       "      <th></th>\n",
       "      <th colspan=\"8\" halign=\"left\">length</th>\n",
       "    </tr>\n",
       "    <tr>\n",
       "      <th></th>\n",
       "      <th>count</th>\n",
       "      <th>mean</th>\n",
       "      <th>std</th>\n",
       "      <th>min</th>\n",
       "      <th>25%</th>\n",
       "      <th>50%</th>\n",
       "      <th>75%</th>\n",
       "      <th>max</th>\n",
       "    </tr>\n",
       "    <tr>\n",
       "      <th>species</th>\n",
       "      <th></th>\n",
       "      <th></th>\n",
       "      <th></th>\n",
       "      <th></th>\n",
       "      <th></th>\n",
       "      <th></th>\n",
       "      <th></th>\n",
       "      <th></th>\n",
       "    </tr>\n",
       "  </thead>\n",
       "  <tbody>\n",
       "    <tr>\n",
       "      <th>A</th>\n",
       "      <td>3.0</td>\n",
       "      <td>3.0</td>\n",
       "      <td>1.0</td>\n",
       "      <td>2.0</td>\n",
       "      <td>2.5</td>\n",
       "      <td>3.0</td>\n",
       "      <td>3.5</td>\n",
       "      <td>4.0</td>\n",
       "    </tr>\n",
       "    <tr>\n",
       "      <th>B</th>\n",
       "      <td>3.0</td>\n",
       "      <td>8.0</td>\n",
       "      <td>2.0</td>\n",
       "      <td>6.0</td>\n",
       "      <td>7.0</td>\n",
       "      <td>8.0</td>\n",
       "      <td>9.0</td>\n",
       "      <td>10.0</td>\n",
       "    </tr>\n",
       "  </tbody>\n",
       "</table>\n",
       "</div>"
      ]
     },
     "metadata": {},
     "execution_count": 11
    }
   ],
   "metadata": {}
  },
  {
   "cell_type": "markdown",
   "source": [
    "### 列联表"
   ],
   "metadata": {}
  },
  {
   "cell_type": "code",
   "execution_count": 12,
   "source": [
    "shoes = pd.read_csv(\"./data/3-2-2-shoes.csv\")\r\n",
    "print(shoes)\r\n",
    "cross = pd.pivot_table(\r\n",
    "    data = shoes,         # 指定数据\r\n",
    "    values = \"sales\",     # 指定统计的的对象\r\n",
    "    aggfunc = \"sum\",      # 指定统计所用的函数\r\n",
    "    index = \"store\",      # 行\r\n",
    "    columns = 'color'     # 列\r\n",
    ")\r\n",
    "print(cross)"
   ],
   "outputs": [
    {
     "output_type": "stream",
     "name": "stdout",
     "text": [
      "   store color  sales\n",
      "0  tokyo  blue     10\n",
      "1  tokyo   red     15\n",
      "2  osaka  blue     13\n",
      "3  osaka   red      9\n",
      "color  blue  red\n",
      "store           \n",
      "osaka    13    9\n",
      "tokyo    10   15\n"
     ]
    }
   ],
   "metadata": {}
  },
  {
   "cell_type": "markdown",
   "source": [
    "### 协方差(Covariance)\r\n",
    "研究两个连续变量之间的关系，与方差有一点点区别哟"
   ],
   "metadata": {}
  },
  {
   "cell_type": "code",
   "execution_count": 13,
   "source": [
    "import pandas as pd\r\n",
    "import numpy as np\r\n",
    "cov_data = pd.read_csv(\"./data/3-2-3-cov.csv\")\r\n",
    "print(cov_data)\r\n",
    "# 读取数据的列\r\n",
    "x = cov_data['x']\r\n",
    "y = cov_data['y']\r\n",
    "# 求样本容量\r\n",
    "N = len(cov_data)\r\n",
    "# 求各变量均值\r\n",
    "mu_x = np.mean(x)\r\n",
    "mu_y = np.mean(y)\r\n",
    "print(mu_x, mu_y)\r\n",
    "# 计算样本的协方差\r\n",
    "cov_sample = sum((x - mu_x) * (y - mu_y)) / N\r\n",
    "cov_sample\r\n",
    "# 计算分母为N - 1的协方差矩阵\r\n",
    "cov = sum((x - mu_x) * (y - mu_y)) / (N - 1)\r\n"
   ],
   "outputs": [
    {
     "output_type": "stream",
     "name": "stdout",
     "text": [
      "      x   y\n",
      "0  18.5  34\n",
      "1  18.7  39\n",
      "2  19.1  41\n",
      "3  19.7  38\n",
      "4  21.5  45\n",
      "5  21.7  41\n",
      "6  21.8  52\n",
      "7  22.0  44\n",
      "8  23.4  44\n",
      "9  23.8  49\n",
      "21.020000000000003 42.7\n"
     ]
    }
   ],
   "metadata": {}
  },
  {
   "cell_type": "markdown",
   "source": [
    "### 协方差矩阵\r\n",
    "使用 scipy / numpy 中的 cov函数可以便捷地计算协方差矩阵\r\n",
    "> 把多个变量的方差和协方差形成的矩阵叫做协方差矩阵"
   ],
   "metadata": {}
  },
  {
   "cell_type": "code",
   "execution_count": 14,
   "source": [
    "sp.cov(x, y, ddof=0)\r\n",
    "# 计算分母为N -1的协方差矩阵\r\n",
    "sp.cov(x, y, ddof=1)"
   ],
   "outputs": [
    {
     "output_type": "stream",
     "name": "stderr",
     "text": [
      "ipykernel_launcher:1: DeprecationWarning: scipy.cov is deprecated and will be removed in SciPy 2.0.0, use numpy.cov instead\n",
      "ipykernel_launcher:3: DeprecationWarning: scipy.cov is deprecated and will be removed in SciPy 2.0.0, use numpy.cov instead\n"
     ]
    },
    {
     "output_type": "execute_result",
     "data": {
      "text/plain": [
       "array([[ 3.646,  7.673],\n",
       "       [ 7.673, 28.011]])"
      ]
     },
     "metadata": {},
     "execution_count": 14
    }
   ],
   "metadata": {}
  },
  {
   "cell_type": "markdown",
   "source": [
    "### 相关系数（皮尔逊矩相关系数）\r\n",
    "一般是将协方差标准化成最大值为1，最小值为-1得出的\r\n",
    "![avatar](./image/pierxun.png)"
   ],
   "metadata": {}
  },
  {
   "cell_type": "code",
   "execution_count": 15,
   "source": [
    "# 计算相关系数\r\n",
    "sigma_2_x = np.var(x, ddof = 1)\r\n",
    "sigma_2_y = np.var(y, ddof = 1)\r\n",
    "\r\n",
    "# 计算相关系数\r\n",
    "rho = cov / sp.sqrt(sigma_2_x * sigma_2_y)\r\n",
    "print(rho)\r\n",
    "\r\n",
    "# 计算两个变量的方差\r\n",
    "sigma_2_x_sample = sp.var(x, ddof = 0)\r\n",
    "sigma_2_y_sample = sp.var(y, ddof = 0)\r\n",
    "# 计算相关系数\r\n",
    "rho2 = cov_sample / sp.sqrt(sigma_2_x_sample * sigma_2_y_sample)\r\n",
    "print(rho2)\r\n",
    "sp.corrcoef(x, y)"
   ],
   "outputs": [
    {
     "output_type": "stream",
     "name": "stdout",
     "text": [
      "0.7592719041137088\n",
      "0.7592719041137087\n"
     ]
    },
    {
     "output_type": "stream",
     "name": "stderr",
     "text": [
      "ipykernel_launcher:6: DeprecationWarning: scipy.sqrt is deprecated and will be removed in SciPy 2.0.0, use numpy.lib.scimath.sqrt instead\n",
      "ipykernel_launcher:10: DeprecationWarning: scipy.var is deprecated and will be removed in SciPy 2.0.0, use numpy.var instead\n",
      "ipykernel_launcher:11: DeprecationWarning: scipy.var is deprecated and will be removed in SciPy 2.0.0, use numpy.var instead\n",
      "ipykernel_launcher:13: DeprecationWarning: scipy.sqrt is deprecated and will be removed in SciPy 2.0.0, use numpy.lib.scimath.sqrt instead\n",
      "ipykernel_launcher:15: DeprecationWarning: scipy.corrcoef is deprecated and will be removed in SciPy 2.0.0, use numpy.corrcoef instead\n"
     ]
    },
    {
     "output_type": "execute_result",
     "data": {
      "text/plain": [
       "array([[1.   , 0.759],\n",
       "       [0.759, 1.   ]])"
      ]
     },
     "metadata": {},
     "execution_count": 15
    }
   ],
   "metadata": {}
  },
  {
   "cell_type": "markdown",
   "source": [
    "## 用python 模拟抽样"
   ],
   "metadata": {}
  },
  {
   "cell_type": "code",
   "execution_count": 16,
   "source": [
    "import numpy as np\r\n",
    "import pandas as pd\r\n",
    "import scipy as sp\r\n",
    "from scipy import stats\r\n",
    "# 绘图的库\r\n",
    "from matplotlib import pyplot as plt\r\n",
    "import seaborn as sns\r\n",
    "sns.set()\r\n",
    "# 设置浮点数精度\r\n",
    "%precision 3\r\n",
    "# 在 Jupter Notebook 中显示图形\r\n",
    "%matplotlib inline\r\n",
    "fish_5 = np.array([2, 3, 4, 5, 6])\r\n",
    "# 随机抽样,抽取的样本是随机变化的，所以每次都在变\r\n",
    "np.random.choice(fish_5, size = 3, replace = False)\r\n",
    "\r\n",
    "# 随机种子的使用\r\n",
    "# 其实，我们所使用的随机数也是伪随机数\r\n",
    "np.random.seed(1)\r\n",
    "np.random.choice(fish_5, size = 3, replace = False)\r\n",
    "np.mean(\r\n",
    "    np.random.choice(fish_5, size = 3, replace = False)\r\n",
    ")"
   ],
   "outputs": [
    {
     "output_type": "execute_result",
     "data": {
      "text/plain": [
       "4.0"
      ]
     },
     "metadata": {},
     "execution_count": 16
    }
   ],
   "metadata": {}
  },
  {
   "cell_type": "markdown",
   "source": [
    "### 放回取样、不放回取样"
   ],
   "metadata": {}
  },
  {
   "cell_type": "code",
   "execution_count": 20,
   "source": [
    "fish_10000 = pd.read_csv(\"./data/3-4-1-fish_length_100000.csv\")[\"length\"]\r\n",
    "fish_10000.head()\r\n",
    "len(fish_10000)\r\n",
    "sampling_result = np.random.choice(\r\n",
    "    fish_10000, size = 10, replace = False\r\n",
    ")\r\n",
    "sampling_result\r\n",
    "sp.mean(sampling_result)"
   ],
   "outputs": [
    {
     "output_type": "stream",
     "name": "stderr",
     "text": [
      "ipykernel_launcher:8: DeprecationWarning: scipy.mean is deprecated and will be removed in SciPy 2.0.0, use numpy.mean instead\n"
     ]
    },
    {
     "output_type": "execute_result",
     "data": {
      "text/plain": [
       "3.7492045778521415"
      ]
     },
     "metadata": {},
     "execution_count": 20
    }
   ],
   "metadata": {}
  },
  {
   "cell_type": "markdown",
   "source": [
    "### 总体分布"
   ],
   "metadata": {}
  },
  {
   "cell_type": "code",
   "execution_count": null,
   "source": [
    "sp.mean(fish_10000)\r\n",
    "# 标准差\r\n",
    "sp.std(fish_10000, ddof = 0)\r\n",
    "# 方差\r\n",
    "sp.var(fish_10000, ddof = 0)\r\n",
    "# 直方图\r\n",
    "sns.displot(fish_10000, kde = False, color = 'blue')"
   ],
   "outputs": [],
   "metadata": {}
  },
  {
   "cell_type": "markdown",
   "source": [
    "### 总体分布的概率密度函数"
   ],
   "metadata": {}
  },
  {
   "cell_type": "code",
   "execution_count": 39,
   "source": [
    "x = np.arange(start = 1, stop = 7.1, step = 0.1)\r\n",
    "stats.norm.pdf(x = x, loc = 4, scale = 0.8)\r\n",
    "plt.plot(x, \r\n",
    "        stats.norm.pdf(x = x, loc = 4, scale = 0.8),\r\n",
    "        color = 'blue')\r\n",
    "sns.distplot(fish_10000, kde = False,\r\n",
    "        norm_hist= True, color = 'blue')\r\n",
    "plt.plot(x,\r\n",
    "        stats.norm.pdf(x = x, loc = 4, scale = 0.8),\r\n",
    "        color = 'blue')"
   ],
   "outputs": [
    {
     "output_type": "stream",
     "name": "stderr",
     "text": [
      "C:\\Users\\Cherry\\AppData\\Local\\Programs\\Python\\Python37\\lib\\site-packages\\seaborn\\distributions.py:2557: FutureWarning: `distplot` is a deprecated function and will be removed in a future version. Please adapt your code to use either `displot` (a figure-level function with similar flexibility) or `histplot` (an axes-level function for histograms).\n",
      "  warnings.warn(msg, FutureWarning)\n"
     ]
    },
    {
     "output_type": "execute_result",
     "data": {
      "text/plain": [
       "[<matplotlib.lines.Line2D at 0x1bab13493c8>]"
      ]
     },
     "metadata": {},
     "execution_count": 39
    },
    {
     "output_type": "display_data",
     "data": {
      "text/plain": [
       "<Figure size 432x288 with 1 Axes>"
      ],
      "image/svg+xml": "<?xml version=\"1.0\" encoding=\"utf-8\" standalone=\"no\"?>\r\n<!DOCTYPE svg PUBLIC \"-//W3C//DTD SVG 1.1//EN\"\r\n  \"http://www.w3.org/Graphics/SVG/1.1/DTD/svg11.dtd\">\r\n<svg height=\"266.514844pt\" version=\"1.1\" viewBox=\"0 0 373.99 266.514844\" width=\"373.99pt\" xmlns=\"http://www.w3.org/2000/svg\" xmlns:xlink=\"http://www.w3.org/1999/xlink\">\r\n <metadata>\r\n  <rdf:RDF xmlns:cc=\"http://creativecommons.org/ns#\" xmlns:dc=\"http://purl.org/dc/elements/1.1/\" xmlns:rdf=\"http://www.w3.org/1999/02/22-rdf-syntax-ns#\">\r\n   <cc:Work>\r\n    <dc:type rdf:resource=\"http://purl.org/dc/dcmitype/StillImage\"/>\r\n    <dc:date>2021-08-23T17:19:14.404276</dc:date>\r\n    <dc:format>image/svg+xml</dc:format>\r\n    <dc:creator>\r\n     <cc:Agent>\r\n      <dc:title>Matplotlib v3.4.2, https://matplotlib.org/</dc:title>\r\n     </cc:Agent>\r\n    </dc:creator>\r\n   </cc:Work>\r\n  </rdf:RDF>\r\n </metadata>\r\n <defs>\r\n  <style type=\"text/css\">*{stroke-linecap:butt;stroke-linejoin:round;}</style>\r\n </defs>\r\n <g id=\"figure_1\">\r\n  <g id=\"patch_1\">\r\n   <path d=\"M 0 266.514844 \r\nL 373.99 266.514844 \r\nL 373.99 0 \r\nL 0 0 \r\nz\r\n\" style=\"fill:none;\"/>\r\n  </g>\r\n  <g id=\"axes_1\">\r\n   <g id=\"patch_2\">\r\n    <path d=\"M 31.99 224.64 \r\nL 366.79 224.64 \r\nL 366.79 7.2 \r\nL 31.99 7.2 \r\nz\r\n\" style=\"fill:#eaeaf2;\"/>\r\n   </g>\r\n   <g id=\"matplotlib.axis_1\">\r\n    <g id=\"xtick_1\">\r\n     <g id=\"line2d_1\">\r\n      <path clip-path=\"url(#p36a1c50ecc)\" d=\"M 68.289894 224.64 \r\nL 68.289894 7.2 \r\n\" style=\"fill:none;stroke:#ffffff;stroke-linecap:round;\"/>\r\n     </g>\r\n     <g id=\"text_1\">\r\n      <!-- 1 -->\r\n      <g style=\"fill:#262626;\" transform=\"translate(65.231378 242.013594)scale(0.11 -0.11)\">\r\n       <defs>\r\n        <path d=\"M 2384 0 \r\nL 1822 0 \r\nL 1822 3584 \r\nQ 1619 3391 1289 3197 \r\nQ 959 3003 697 2906 \r\nL 697 3450 \r\nQ 1169 3672 1522 3987 \r\nQ 1875 4303 2022 4600 \r\nL 2384 4600 \r\nL 2384 0 \r\nz\r\n\" id=\"ArialMT-31\" transform=\"scale(0.015625)\"/>\r\n       </defs>\r\n       <use xlink:href=\"#ArialMT-31\"/>\r\n      </g>\r\n     </g>\r\n    </g>\r\n    <g id=\"xtick_2\">\r\n     <g id=\"line2d_2\">\r\n      <path clip-path=\"url(#p36a1c50ecc)\" d=\"M 113.000746 224.64 \r\nL 113.000746 7.2 \r\n\" style=\"fill:none;stroke:#ffffff;stroke-linecap:round;\"/>\r\n     </g>\r\n     <g id=\"text_2\">\r\n      <!-- 2 -->\r\n      <g style=\"fill:#262626;\" transform=\"translate(109.94223 242.013594)scale(0.11 -0.11)\">\r\n       <defs>\r\n        <path d=\"M 3222 541 \r\nL 3222 0 \r\nL 194 0 \r\nQ 188 203 259 391 \r\nQ 375 700 629 1000 \r\nQ 884 1300 1366 1694 \r\nQ 2113 2306 2375 2664 \r\nQ 2638 3022 2638 3341 \r\nQ 2638 3675 2398 3904 \r\nQ 2159 4134 1775 4134 \r\nQ 1369 4134 1125 3890 \r\nQ 881 3647 878 3216 \r\nL 300 3275 \r\nQ 359 3922 746 4261 \r\nQ 1134 4600 1788 4600 \r\nQ 2447 4600 2831 4234 \r\nQ 3216 3869 3216 3328 \r\nQ 3216 3053 3103 2787 \r\nQ 2991 2522 2730 2228 \r\nQ 2469 1934 1863 1422 \r\nQ 1356 997 1212 845 \r\nQ 1069 694 975 541 \r\nL 3222 541 \r\nz\r\n\" id=\"ArialMT-32\" transform=\"scale(0.015625)\"/>\r\n       </defs>\r\n       <use xlink:href=\"#ArialMT-32\"/>\r\n      </g>\r\n     </g>\r\n    </g>\r\n    <g id=\"xtick_3\">\r\n     <g id=\"line2d_3\">\r\n      <path clip-path=\"url(#p36a1c50ecc)\" d=\"M 157.711598 224.64 \r\nL 157.711598 7.2 \r\n\" style=\"fill:none;stroke:#ffffff;stroke-linecap:round;\"/>\r\n     </g>\r\n     <g id=\"text_3\">\r\n      <!-- 3 -->\r\n      <g style=\"fill:#262626;\" transform=\"translate(154.653082 242.013594)scale(0.11 -0.11)\">\r\n       <defs>\r\n        <path d=\"M 269 1209 \r\nL 831 1284 \r\nQ 928 806 1161 595 \r\nQ 1394 384 1728 384 \r\nQ 2125 384 2398 659 \r\nQ 2672 934 2672 1341 \r\nQ 2672 1728 2419 1979 \r\nQ 2166 2231 1775 2231 \r\nQ 1616 2231 1378 2169 \r\nL 1441 2663 \r\nQ 1497 2656 1531 2656 \r\nQ 1891 2656 2178 2843 \r\nQ 2466 3031 2466 3422 \r\nQ 2466 3731 2256 3934 \r\nQ 2047 4138 1716 4138 \r\nQ 1388 4138 1169 3931 \r\nQ 950 3725 888 3313 \r\nL 325 3413 \r\nQ 428 3978 793 4289 \r\nQ 1159 4600 1703 4600 \r\nQ 2078 4600 2393 4439 \r\nQ 2709 4278 2876 4000 \r\nQ 3044 3722 3044 3409 \r\nQ 3044 3113 2884 2869 \r\nQ 2725 2625 2413 2481 \r\nQ 2819 2388 3044 2092 \r\nQ 3269 1797 3269 1353 \r\nQ 3269 753 2831 336 \r\nQ 2394 -81 1725 -81 \r\nQ 1122 -81 723 278 \r\nQ 325 638 269 1209 \r\nz\r\n\" id=\"ArialMT-33\" transform=\"scale(0.015625)\"/>\r\n       </defs>\r\n       <use xlink:href=\"#ArialMT-33\"/>\r\n      </g>\r\n     </g>\r\n    </g>\r\n    <g id=\"xtick_4\">\r\n     <g id=\"line2d_4\">\r\n      <path clip-path=\"url(#p36a1c50ecc)\" d=\"M 202.42245 224.64 \r\nL 202.42245 7.2 \r\n\" style=\"fill:none;stroke:#ffffff;stroke-linecap:round;\"/>\r\n     </g>\r\n     <g id=\"text_4\">\r\n      <!-- 4 -->\r\n      <g style=\"fill:#262626;\" transform=\"translate(199.363934 242.013594)scale(0.11 -0.11)\">\r\n       <defs>\r\n        <path d=\"M 2069 0 \r\nL 2069 1097 \r\nL 81 1097 \r\nL 81 1613 \r\nL 2172 4581 \r\nL 2631 4581 \r\nL 2631 1613 \r\nL 3250 1613 \r\nL 3250 1097 \r\nL 2631 1097 \r\nL 2631 0 \r\nL 2069 0 \r\nz\r\nM 2069 1613 \r\nL 2069 3678 \r\nL 634 1613 \r\nL 2069 1613 \r\nz\r\n\" id=\"ArialMT-34\" transform=\"scale(0.015625)\"/>\r\n       </defs>\r\n       <use xlink:href=\"#ArialMT-34\"/>\r\n      </g>\r\n     </g>\r\n    </g>\r\n    <g id=\"xtick_5\">\r\n     <g id=\"line2d_5\">\r\n      <path clip-path=\"url(#p36a1c50ecc)\" d=\"M 247.133302 224.64 \r\nL 247.133302 7.2 \r\n\" style=\"fill:none;stroke:#ffffff;stroke-linecap:round;\"/>\r\n     </g>\r\n     <g id=\"text_5\">\r\n      <!-- 5 -->\r\n      <g style=\"fill:#262626;\" transform=\"translate(244.074786 242.013594)scale(0.11 -0.11)\">\r\n       <defs>\r\n        <path d=\"M 266 1200 \r\nL 856 1250 \r\nQ 922 819 1161 601 \r\nQ 1400 384 1738 384 \r\nQ 2144 384 2425 690 \r\nQ 2706 997 2706 1503 \r\nQ 2706 1984 2436 2262 \r\nQ 2166 2541 1728 2541 \r\nQ 1456 2541 1237 2417 \r\nQ 1019 2294 894 2097 \r\nL 366 2166 \r\nL 809 4519 \r\nL 3088 4519 \r\nL 3088 3981 \r\nL 1259 3981 \r\nL 1013 2750 \r\nQ 1425 3038 1878 3038 \r\nQ 2478 3038 2890 2622 \r\nQ 3303 2206 3303 1553 \r\nQ 3303 931 2941 478 \r\nQ 2500 -78 1738 -78 \r\nQ 1113 -78 717 272 \r\nQ 322 622 266 1200 \r\nz\r\n\" id=\"ArialMT-35\" transform=\"scale(0.015625)\"/>\r\n       </defs>\r\n       <use xlink:href=\"#ArialMT-35\"/>\r\n      </g>\r\n     </g>\r\n    </g>\r\n    <g id=\"xtick_6\">\r\n     <g id=\"line2d_6\">\r\n      <path clip-path=\"url(#p36a1c50ecc)\" d=\"M 291.844154 224.64 \r\nL 291.844154 7.2 \r\n\" style=\"fill:none;stroke:#ffffff;stroke-linecap:round;\"/>\r\n     </g>\r\n     <g id=\"text_6\">\r\n      <!-- 6 -->\r\n      <g style=\"fill:#262626;\" transform=\"translate(288.785638 242.013594)scale(0.11 -0.11)\">\r\n       <defs>\r\n        <path d=\"M 3184 3459 \r\nL 2625 3416 \r\nQ 2550 3747 2413 3897 \r\nQ 2184 4138 1850 4138 \r\nQ 1581 4138 1378 3988 \r\nQ 1113 3794 959 3422 \r\nQ 806 3050 800 2363 \r\nQ 1003 2672 1297 2822 \r\nQ 1591 2972 1913 2972 \r\nQ 2475 2972 2870 2558 \r\nQ 3266 2144 3266 1488 \r\nQ 3266 1056 3080 686 \r\nQ 2894 316 2569 119 \r\nQ 2244 -78 1831 -78 \r\nQ 1128 -78 684 439 \r\nQ 241 956 241 2144 \r\nQ 241 3472 731 4075 \r\nQ 1159 4600 1884 4600 \r\nQ 2425 4600 2770 4297 \r\nQ 3116 3994 3184 3459 \r\nz\r\nM 888 1484 \r\nQ 888 1194 1011 928 \r\nQ 1134 663 1356 523 \r\nQ 1578 384 1822 384 \r\nQ 2178 384 2434 671 \r\nQ 2691 959 2691 1453 \r\nQ 2691 1928 2437 2201 \r\nQ 2184 2475 1800 2475 \r\nQ 1419 2475 1153 2201 \r\nQ 888 1928 888 1484 \r\nz\r\n\" id=\"ArialMT-36\" transform=\"scale(0.015625)\"/>\r\n       </defs>\r\n       <use xlink:href=\"#ArialMT-36\"/>\r\n      </g>\r\n     </g>\r\n    </g>\r\n    <g id=\"xtick_7\">\r\n     <g id=\"line2d_7\">\r\n      <path clip-path=\"url(#p36a1c50ecc)\" d=\"M 336.555006 224.64 \r\nL 336.555006 7.2 \r\n\" style=\"fill:none;stroke:#ffffff;stroke-linecap:round;\"/>\r\n     </g>\r\n     <g id=\"text_7\">\r\n      <!-- 7 -->\r\n      <g style=\"fill:#262626;\" transform=\"translate(333.496491 242.013594)scale(0.11 -0.11)\">\r\n       <defs>\r\n        <path d=\"M 303 3981 \r\nL 303 4522 \r\nL 3269 4522 \r\nL 3269 4084 \r\nQ 2831 3619 2401 2847 \r\nQ 1972 2075 1738 1259 \r\nQ 1569 684 1522 0 \r\nL 944 0 \r\nQ 953 541 1156 1306 \r\nQ 1359 2072 1739 2783 \r\nQ 2119 3494 2547 3981 \r\nL 303 3981 \r\nz\r\n\" id=\"ArialMT-37\" transform=\"scale(0.015625)\"/>\r\n       </defs>\r\n       <use xlink:href=\"#ArialMT-37\"/>\r\n      </g>\r\n     </g>\r\n    </g>\r\n    <g id=\"text_8\">\r\n     <!-- length -->\r\n     <g style=\"fill:#262626;\" transform=\"translate(183.04375 256.789219)scale(0.12 -0.12)\">\r\n      <defs>\r\n       <path d=\"M 409 0 \r\nL 409 4581 \r\nL 972 4581 \r\nL 972 0 \r\nL 409 0 \r\nz\r\n\" id=\"ArialMT-6c\" transform=\"scale(0.015625)\"/>\r\n       <path d=\"M 2694 1069 \r\nL 3275 997 \r\nQ 3138 488 2766 206 \r\nQ 2394 -75 1816 -75 \r\nQ 1088 -75 661 373 \r\nQ 234 822 234 1631 \r\nQ 234 2469 665 2931 \r\nQ 1097 3394 1784 3394 \r\nQ 2450 3394 2872 2941 \r\nQ 3294 2488 3294 1666 \r\nQ 3294 1616 3291 1516 \r\nL 816 1516 \r\nQ 847 969 1125 678 \r\nQ 1403 388 1819 388 \r\nQ 2128 388 2347 550 \r\nQ 2566 713 2694 1069 \r\nz\r\nM 847 1978 \r\nL 2700 1978 \r\nQ 2663 2397 2488 2606 \r\nQ 2219 2931 1791 2931 \r\nQ 1403 2931 1139 2672 \r\nQ 875 2413 847 1978 \r\nz\r\n\" id=\"ArialMT-65\" transform=\"scale(0.015625)\"/>\r\n       <path d=\"M 422 0 \r\nL 422 3319 \r\nL 928 3319 \r\nL 928 2847 \r\nQ 1294 3394 1984 3394 \r\nQ 2284 3394 2536 3286 \r\nQ 2788 3178 2913 3003 \r\nQ 3038 2828 3088 2588 \r\nQ 3119 2431 3119 2041 \r\nL 3119 0 \r\nL 2556 0 \r\nL 2556 2019 \r\nQ 2556 2363 2490 2533 \r\nQ 2425 2703 2258 2804 \r\nQ 2091 2906 1866 2906 \r\nQ 1506 2906 1245 2678 \r\nQ 984 2450 984 1813 \r\nL 984 0 \r\nL 422 0 \r\nz\r\n\" id=\"ArialMT-6e\" transform=\"scale(0.015625)\"/>\r\n       <path d=\"M 319 -275 \r\nL 866 -356 \r\nQ 900 -609 1056 -725 \r\nQ 1266 -881 1628 -881 \r\nQ 2019 -881 2231 -725 \r\nQ 2444 -569 2519 -288 \r\nQ 2563 -116 2559 434 \r\nQ 2191 0 1641 0 \r\nQ 956 0 581 494 \r\nQ 206 988 206 1678 \r\nQ 206 2153 378 2554 \r\nQ 550 2956 876 3175 \r\nQ 1203 3394 1644 3394 \r\nQ 2231 3394 2613 2919 \r\nL 2613 3319 \r\nL 3131 3319 \r\nL 3131 450 \r\nQ 3131 -325 2973 -648 \r\nQ 2816 -972 2473 -1159 \r\nQ 2131 -1347 1631 -1347 \r\nQ 1038 -1347 672 -1080 \r\nQ 306 -813 319 -275 \r\nz\r\nM 784 1719 \r\nQ 784 1066 1043 766 \r\nQ 1303 466 1694 466 \r\nQ 2081 466 2343 764 \r\nQ 2606 1063 2606 1700 \r\nQ 2606 2309 2336 2618 \r\nQ 2066 2928 1684 2928 \r\nQ 1309 2928 1046 2623 \r\nQ 784 2319 784 1719 \r\nz\r\n\" id=\"ArialMT-67\" transform=\"scale(0.015625)\"/>\r\n       <path d=\"M 1650 503 \r\nL 1731 6 \r\nQ 1494 -44 1306 -44 \r\nQ 1000 -44 831 53 \r\nQ 663 150 594 308 \r\nQ 525 466 525 972 \r\nL 525 2881 \r\nL 113 2881 \r\nL 113 3319 \r\nL 525 3319 \r\nL 525 4141 \r\nL 1084 4478 \r\nL 1084 3319 \r\nL 1650 3319 \r\nL 1650 2881 \r\nL 1084 2881 \r\nL 1084 941 \r\nQ 1084 700 1114 631 \r\nQ 1144 563 1211 522 \r\nQ 1278 481 1403 481 \r\nQ 1497 481 1650 503 \r\nz\r\n\" id=\"ArialMT-74\" transform=\"scale(0.015625)\"/>\r\n       <path d=\"M 422 0 \r\nL 422 4581 \r\nL 984 4581 \r\nL 984 2938 \r\nQ 1378 3394 1978 3394 \r\nQ 2347 3394 2619 3248 \r\nQ 2891 3103 3008 2847 \r\nQ 3125 2591 3125 2103 \r\nL 3125 0 \r\nL 2563 0 \r\nL 2563 2103 \r\nQ 2563 2525 2380 2717 \r\nQ 2197 2909 1863 2909 \r\nQ 1613 2909 1392 2779 \r\nQ 1172 2650 1078 2428 \r\nQ 984 2206 984 1816 \r\nL 984 0 \r\nL 422 0 \r\nz\r\n\" id=\"ArialMT-68\" transform=\"scale(0.015625)\"/>\r\n      </defs>\r\n      <use xlink:href=\"#ArialMT-6c\"/>\r\n      <use x=\"22.216797\" xlink:href=\"#ArialMT-65\"/>\r\n      <use x=\"77.832031\" xlink:href=\"#ArialMT-6e\"/>\r\n      <use x=\"133.447266\" xlink:href=\"#ArialMT-67\"/>\r\n      <use x=\"189.0625\" xlink:href=\"#ArialMT-74\"/>\r\n      <use x=\"216.845703\" xlink:href=\"#ArialMT-68\"/>\r\n     </g>\r\n    </g>\r\n   </g>\r\n   <g id=\"matplotlib.axis_2\">\r\n    <g id=\"ytick_1\">\r\n     <g id=\"line2d_8\">\r\n      <path clip-path=\"url(#p36a1c50ecc)\" d=\"M 31.99 224.64 \r\nL 366.79 224.64 \r\n\" style=\"fill:none;stroke:#ffffff;stroke-linecap:round;\"/>\r\n     </g>\r\n     <g id=\"text_9\">\r\n      <!-- 0.0 -->\r\n      <g style=\"fill:#262626;\" transform=\"translate(7.2 228.576797)scale(0.11 -0.11)\">\r\n       <defs>\r\n        <path d=\"M 266 2259 \r\nQ 266 3072 433 3567 \r\nQ 600 4063 929 4331 \r\nQ 1259 4600 1759 4600 \r\nQ 2128 4600 2406 4451 \r\nQ 2684 4303 2865 4023 \r\nQ 3047 3744 3150 3342 \r\nQ 3253 2941 3253 2259 \r\nQ 3253 1453 3087 958 \r\nQ 2922 463 2592 192 \r\nQ 2263 -78 1759 -78 \r\nQ 1097 -78 719 397 \r\nQ 266 969 266 2259 \r\nz\r\nM 844 2259 \r\nQ 844 1131 1108 757 \r\nQ 1372 384 1759 384 \r\nQ 2147 384 2411 759 \r\nQ 2675 1134 2675 2259 \r\nQ 2675 3391 2411 3762 \r\nQ 2147 4134 1753 4134 \r\nQ 1366 4134 1134 3806 \r\nQ 844 3388 844 2259 \r\nz\r\n\" id=\"ArialMT-30\" transform=\"scale(0.015625)\"/>\r\n        <path d=\"M 581 0 \r\nL 581 641 \r\nL 1222 641 \r\nL 1222 0 \r\nL 581 0 \r\nz\r\n\" id=\"ArialMT-2e\" transform=\"scale(0.015625)\"/>\r\n       </defs>\r\n       <use xlink:href=\"#ArialMT-30\"/>\r\n       <use x=\"55.615234\" xlink:href=\"#ArialMT-2e\"/>\r\n       <use x=\"83.398438\" xlink:href=\"#ArialMT-30\"/>\r\n      </g>\r\n     </g>\r\n    </g>\r\n    <g id=\"ytick_2\">\r\n     <g id=\"line2d_9\">\r\n      <path clip-path=\"url(#p36a1c50ecc)\" d=\"M 31.99 183.305575 \r\nL 366.79 183.305575 \r\n\" style=\"fill:none;stroke:#ffffff;stroke-linecap:round;\"/>\r\n     </g>\r\n     <g id=\"text_10\">\r\n      <!-- 0.1 -->\r\n      <g style=\"fill:#262626;\" transform=\"translate(7.2 187.242372)scale(0.11 -0.11)\">\r\n       <use xlink:href=\"#ArialMT-30\"/>\r\n       <use x=\"55.615234\" xlink:href=\"#ArialMT-2e\"/>\r\n       <use x=\"83.398438\" xlink:href=\"#ArialMT-31\"/>\r\n      </g>\r\n     </g>\r\n    </g>\r\n    <g id=\"ytick_3\">\r\n     <g id=\"line2d_10\">\r\n      <path clip-path=\"url(#p36a1c50ecc)\" d=\"M 31.99 141.971149 \r\nL 366.79 141.971149 \r\n\" style=\"fill:none;stroke:#ffffff;stroke-linecap:round;\"/>\r\n     </g>\r\n     <g id=\"text_11\">\r\n      <!-- 0.2 -->\r\n      <g style=\"fill:#262626;\" transform=\"translate(7.2 145.907946)scale(0.11 -0.11)\">\r\n       <use xlink:href=\"#ArialMT-30\"/>\r\n       <use x=\"55.615234\" xlink:href=\"#ArialMT-2e\"/>\r\n       <use x=\"83.398438\" xlink:href=\"#ArialMT-32\"/>\r\n      </g>\r\n     </g>\r\n    </g>\r\n    <g id=\"ytick_4\">\r\n     <g id=\"line2d_11\">\r\n      <path clip-path=\"url(#p36a1c50ecc)\" d=\"M 31.99 100.636724 \r\nL 366.79 100.636724 \r\n\" style=\"fill:none;stroke:#ffffff;stroke-linecap:round;\"/>\r\n     </g>\r\n     <g id=\"text_12\">\r\n      <!-- 0.3 -->\r\n      <g style=\"fill:#262626;\" transform=\"translate(7.2 104.573521)scale(0.11 -0.11)\">\r\n       <use xlink:href=\"#ArialMT-30\"/>\r\n       <use x=\"55.615234\" xlink:href=\"#ArialMT-2e\"/>\r\n       <use x=\"83.398438\" xlink:href=\"#ArialMT-33\"/>\r\n      </g>\r\n     </g>\r\n    </g>\r\n    <g id=\"ytick_5\">\r\n     <g id=\"line2d_12\">\r\n      <path clip-path=\"url(#p36a1c50ecc)\" d=\"M 31.99 59.302299 \r\nL 366.79 59.302299 \r\n\" style=\"fill:none;stroke:#ffffff;stroke-linecap:round;\"/>\r\n     </g>\r\n     <g id=\"text_13\">\r\n      <!-- 0.4 -->\r\n      <g style=\"fill:#262626;\" transform=\"translate(7.2 63.239095)scale(0.11 -0.11)\">\r\n       <use xlink:href=\"#ArialMT-30\"/>\r\n       <use x=\"55.615234\" xlink:href=\"#ArialMT-2e\"/>\r\n       <use x=\"83.398438\" xlink:href=\"#ArialMT-34\"/>\r\n      </g>\r\n     </g>\r\n    </g>\r\n    <g id=\"ytick_6\">\r\n     <g id=\"line2d_13\">\r\n      <path clip-path=\"url(#p36a1c50ecc)\" d=\"M 31.99 17.967873 \r\nL 366.79 17.967873 \r\n\" style=\"fill:none;stroke:#ffffff;stroke-linecap:round;\"/>\r\n     </g>\r\n     <g id=\"text_14\">\r\n      <!-- 0.5 -->\r\n      <g style=\"fill:#262626;\" transform=\"translate(7.2 21.90467)scale(0.11 -0.11)\">\r\n       <use xlink:href=\"#ArialMT-30\"/>\r\n       <use x=\"55.615234\" xlink:href=\"#ArialMT-2e\"/>\r\n       <use x=\"83.398438\" xlink:href=\"#ArialMT-35\"/>\r\n      </g>\r\n     </g>\r\n    </g>\r\n   </g>\r\n   <g id=\"patch_3\">\r\n    <path clip-path=\"url(#p36a1c50ecc)\" d=\"M 47.208182 224.64 \r\nL 53.295455 224.64 \r\nL 53.295455 224.57928 \r\nL 47.208182 224.57928 \r\nz\r\n\" style=\"fill:#0000ff;opacity:0.4;stroke:#ffffff;stroke-linejoin:miter;\"/>\r\n   </g>\r\n   <g id=\"patch_4\">\r\n    <path clip-path=\"url(#p36a1c50ecc)\" d=\"M 53.295455 224.64 \r\nL 59.382727 224.64 \r\nL 59.382727 224.57928 \r\nL 53.295455 224.57928 \r\nz\r\n\" style=\"fill:#0000ff;opacity:0.4;stroke:#ffffff;stroke-linejoin:miter;\"/>\r\n   </g>\r\n   <g id=\"patch_5\">\r\n    <path clip-path=\"url(#p36a1c50ecc)\" d=\"M 59.382727 224.64 \r\nL 65.47 224.64 \r\nL 65.47 224.4882 \r\nL 59.382727 224.4882 \r\nz\r\n\" style=\"fill:#0000ff;opacity:0.4;stroke:#ffffff;stroke-linejoin:miter;\"/>\r\n   </g>\r\n   <g id=\"patch_6\">\r\n    <path clip-path=\"url(#p36a1c50ecc)\" d=\"M 65.47 224.64 \r\nL 71.557273 224.64 \r\nL 71.557273 224.42748 \r\nL 65.47 224.42748 \r\nz\r\n\" style=\"fill:#0000ff;opacity:0.4;stroke:#ffffff;stroke-linejoin:miter;\"/>\r\n   </g>\r\n   <g id=\"patch_7\">\r\n    <path clip-path=\"url(#p36a1c50ecc)\" d=\"M 71.557273 224.64 \r\nL 77.644545 224.64 \r\nL 77.644545 224.30604 \r\nL 71.557273 224.30604 \r\nz\r\n\" style=\"fill:#0000ff;opacity:0.4;stroke:#ffffff;stroke-linejoin:miter;\"/>\r\n   </g>\r\n   <g id=\"patch_8\">\r\n    <path clip-path=\"url(#p36a1c50ecc)\" d=\"M 77.644545 224.64 \r\nL 83.731818 224.64 \r\nL 83.731818 223.789919 \r\nL 77.644545 223.789919 \r\nz\r\n\" style=\"fill:#0000ff;opacity:0.4;stroke:#ffffff;stroke-linejoin:miter;\"/>\r\n   </g>\r\n   <g id=\"patch_9\">\r\n    <path clip-path=\"url(#p36a1c50ecc)\" d=\"M 83.731818 224.64 \r\nL 89.819091 224.64 \r\nL 89.819091 223.425599 \r\nL 83.731818 223.425599 \r\nz\r\n\" style=\"fill:#0000ff;opacity:0.4;stroke:#ffffff;stroke-linejoin:miter;\"/>\r\n   </g>\r\n   <g id=\"patch_10\">\r\n    <path clip-path=\"url(#p36a1c50ecc)\" d=\"M 89.819091 224.64 \r\nL 95.906364 224.64 \r\nL 95.906364 222.666599 \r\nL 89.819091 222.666599 \r\nz\r\n\" style=\"fill:#0000ff;opacity:0.4;stroke:#ffffff;stroke-linejoin:miter;\"/>\r\n   </g>\r\n   <g id=\"patch_11\">\r\n    <path clip-path=\"url(#p36a1c50ecc)\" d=\"M 95.906364 224.64 \r\nL 101.993636 224.64 \r\nL 101.993636 221.300398 \r\nL 95.906364 221.300398 \r\nz\r\n\" style=\"fill:#0000ff;opacity:0.4;stroke:#ffffff;stroke-linejoin:miter;\"/>\r\n   </g>\r\n   <g id=\"patch_12\">\r\n    <path clip-path=\"url(#p36a1c50ecc)\" d=\"M 101.993636 224.64 \r\nL 108.080909 224.64 \r\nL 108.080909 220.055637 \r\nL 101.993636 220.055637 \r\nz\r\n\" style=\"fill:#0000ff;opacity:0.4;stroke:#ffffff;stroke-linejoin:miter;\"/>\r\n   </g>\r\n   <g id=\"patch_13\">\r\n    <path clip-path=\"url(#p36a1c50ecc)\" d=\"M 108.080909 224.64 \r\nL 114.168182 224.64 \r\nL 114.168182 216.108834 \r\nL 108.080909 216.108834 \r\nz\r\n\" style=\"fill:#0000ff;opacity:0.4;stroke:#ffffff;stroke-linejoin:miter;\"/>\r\n   </g>\r\n   <g id=\"patch_14\">\r\n    <path clip-path=\"url(#p36a1c50ecc)\" d=\"M 114.168182 224.64 \r\nL 120.255455 224.64 \r\nL 120.255455 212.981751 \r\nL 114.168182 212.981751 \r\nz\r\n\" style=\"fill:#0000ff;opacity:0.4;stroke:#ffffff;stroke-linejoin:miter;\"/>\r\n   </g>\r\n   <g id=\"patch_15\">\r\n    <path clip-path=\"url(#p36a1c50ecc)\" d=\"M 120.255455 224.64 \r\nL 126.342727 224.64 \r\nL 126.342727 206.636507 \r\nL 120.255455 206.636507 \r\nz\r\n\" style=\"fill:#0000ff;opacity:0.4;stroke:#ffffff;stroke-linejoin:miter;\"/>\r\n   </g>\r\n   <g id=\"patch_16\">\r\n    <path clip-path=\"url(#p36a1c50ecc)\" d=\"M 126.342727 224.64 \r\nL 132.43 224.64 \r\nL 132.43 199.046501 \r\nL 126.342727 199.046501 \r\nz\r\n\" style=\"fill:#0000ff;opacity:0.4;stroke:#ffffff;stroke-linejoin:miter;\"/>\r\n   </g>\r\n   <g id=\"patch_17\">\r\n    <path clip-path=\"url(#p36a1c50ecc)\" d=\"M 132.43 224.64 \r\nL 138.517273 224.64 \r\nL 138.517273 189.422374 \r\nL 132.43 189.422374 \r\nz\r\n\" style=\"fill:#0000ff;opacity:0.4;stroke:#ffffff;stroke-linejoin:miter;\"/>\r\n   </g>\r\n   <g id=\"patch_18\">\r\n    <path clip-path=\"url(#p36a1c50ecc)\" d=\"M 138.517273 224.64 \r\nL 144.604545 224.64 \r\nL 144.604545 178.310605 \r\nL 138.517273 178.310605 \r\nz\r\n\" style=\"fill:#0000ff;opacity:0.4;stroke:#ffffff;stroke-linejoin:miter;\"/>\r\n   </g>\r\n   <g id=\"patch_19\">\r\n    <path clip-path=\"url(#p36a1c50ecc)\" d=\"M 144.604545 224.64 \r\nL 150.691818 224.64 \r\nL 150.691818 161.339353 \r\nL 144.604545 161.339353 \r\nz\r\n\" style=\"fill:#0000ff;opacity:0.4;stroke:#ffffff;stroke-linejoin:miter;\"/>\r\n   </g>\r\n   <g id=\"patch_20\">\r\n    <path clip-path=\"url(#p36a1c50ecc)\" d=\"M 150.691818 224.64 \r\nL 156.779091 224.64 \r\nL 156.779091 142.151819 \r\nL 150.691818 142.151819 \r\nz\r\n\" style=\"fill:#0000ff;opacity:0.4;stroke:#ffffff;stroke-linejoin:miter;\"/>\r\n   </g>\r\n   <g id=\"patch_21\">\r\n    <path clip-path=\"url(#p36a1c50ecc)\" d=\"M 156.779091 224.64 \r\nL 162.866364 224.64 \r\nL 162.866364 121.932043 \r\nL 156.779091 121.932043 \r\nz\r\n\" style=\"fill:#0000ff;opacity:0.4;stroke:#ffffff;stroke-linejoin:miter;\"/>\r\n   </g>\r\n   <g id=\"patch_22\">\r\n    <path clip-path=\"url(#p36a1c50ecc)\" d=\"M 162.866364 224.64 \r\nL 168.953636 224.64 \r\nL 168.953636 100.862188 \r\nL 162.866364 100.862188 \r\nz\r\n\" style=\"fill:#0000ff;opacity:0.4;stroke:#ffffff;stroke-linejoin:miter;\"/>\r\n   </g>\r\n   <g id=\"patch_23\">\r\n    <path clip-path=\"url(#p36a1c50ecc)\" d=\"M 168.953636 224.64 \r\nL 175.040909 224.64 \r\nL 175.040909 81.917534 \r\nL 168.953636 81.917534 \r\nz\r\n\" style=\"fill:#0000ff;opacity:0.4;stroke:#ffffff;stroke-linejoin:miter;\"/>\r\n   </g>\r\n   <g id=\"patch_24\">\r\n    <path clip-path=\"url(#p36a1c50ecc)\" d=\"M 175.040909 224.64 \r\nL 181.128182 224.64 \r\nL 181.128182 56.779435 \r\nL 175.040909 56.779435 \r\nz\r\n\" style=\"fill:#0000ff;opacity:0.4;stroke:#ffffff;stroke-linejoin:miter;\"/>\r\n   </g>\r\n   <g id=\"patch_25\">\r\n    <path clip-path=\"url(#p36a1c50ecc)\" d=\"M 181.128182 224.64 \r\nL 187.215455 224.64 \r\nL 187.215455 45.364066 \r\nL 181.128182 45.364066 \r\nz\r\n\" style=\"fill:#0000ff;opacity:0.4;stroke:#ffffff;stroke-linejoin:miter;\"/>\r\n   </g>\r\n   <g id=\"patch_26\">\r\n    <path clip-path=\"url(#p36a1c50ecc)\" d=\"M 187.215455 224.64 \r\nL 193.302727 224.64 \r\nL 193.302727 29.971535 \r\nL 187.215455 29.971535 \r\nz\r\n\" style=\"fill:#0000ff;opacity:0.4;stroke:#ffffff;stroke-linejoin:miter;\"/>\r\n   </g>\r\n   <g id=\"patch_27\">\r\n    <path clip-path=\"url(#p36a1c50ecc)\" d=\"M 193.302727 224.64 \r\nL 199.39 224.64 \r\nL 199.39 25.508612 \r\nL 193.302727 25.508612 \r\nz\r\n\" style=\"fill:#0000ff;opacity:0.4;stroke:#ffffff;stroke-linejoin:miter;\"/>\r\n   </g>\r\n   <g id=\"patch_28\">\r\n    <path clip-path=\"url(#p36a1c50ecc)\" d=\"M 199.39 224.64 \r\nL 205.477273 224.64 \r\nL 205.477273 17.554286 \r\nL 199.39 17.554286 \r\nz\r\n\" style=\"fill:#0000ff;opacity:0.4;stroke:#ffffff;stroke-linejoin:miter;\"/>\r\n   </g>\r\n   <g id=\"patch_29\">\r\n    <path clip-path=\"url(#p36a1c50ecc)\" d=\"M 205.477273 224.64 \r\nL 211.564545 224.64 \r\nL 211.564545 23.23161 \r\nL 205.477273 23.23161 \r\nz\r\n\" style=\"fill:#0000ff;opacity:0.4;stroke:#ffffff;stroke-linejoin:miter;\"/>\r\n   </g>\r\n   <g id=\"patch_30\">\r\n    <path clip-path=\"url(#p36a1c50ecc)\" d=\"M 211.564545 224.64 \r\nL 217.651818 224.64 \r\nL 217.651818 29.212534 \r\nL 211.564545 29.212534 \r\nz\r\n\" style=\"fill:#0000ff;opacity:0.4;stroke:#ffffff;stroke-linejoin:miter;\"/>\r\n   </g>\r\n   <g id=\"patch_31\">\r\n    <path clip-path=\"url(#p36a1c50ecc)\" d=\"M 217.651818 224.64 \r\nL 223.739091 224.64 \r\nL 223.739091 38.563421 \r\nL 217.651818 38.563421 \r\nz\r\n\" style=\"fill:#0000ff;opacity:0.4;stroke:#ffffff;stroke-linejoin:miter;\"/>\r\n   </g>\r\n   <g id=\"patch_32\">\r\n    <path clip-path=\"url(#p36a1c50ecc)\" d=\"M 223.739091 224.64 \r\nL 229.826364 224.64 \r\nL 229.826364 62.91216 \r\nL 223.739091 62.91216 \r\nz\r\n\" style=\"fill:#0000ff;opacity:0.4;stroke:#ffffff;stroke-linejoin:miter;\"/>\r\n   </g>\r\n   <g id=\"patch_33\">\r\n    <path clip-path=\"url(#p36a1c50ecc)\" d=\"M 229.826364 224.64 \r\nL 235.913636 224.64 \r\nL 235.913636 85.014256 \r\nL 229.826364 85.014256 \r\nz\r\n\" style=\"fill:#0000ff;opacity:0.4;stroke:#ffffff;stroke-linejoin:miter;\"/>\r\n   </g>\r\n   <g id=\"patch_34\">\r\n    <path clip-path=\"url(#p36a1c50ecc)\" d=\"M 235.913636 224.64 \r\nL 242.000909 224.64 \r\nL 242.000909 102.167669 \r\nL 235.913636 102.167669 \r\nz\r\n\" style=\"fill:#0000ff;opacity:0.4;stroke:#ffffff;stroke-linejoin:miter;\"/>\r\n   </g>\r\n   <g id=\"patch_35\">\r\n    <path clip-path=\"url(#p36a1c50ecc)\" d=\"M 242.000909 224.64 \r\nL 248.088182 224.64 \r\nL 248.088182 122.478524 \r\nL 242.000909 122.478524 \r\nz\r\n\" style=\"fill:#0000ff;opacity:0.4;stroke:#ffffff;stroke-linejoin:miter;\"/>\r\n   </g>\r\n   <g id=\"patch_36\">\r\n    <path clip-path=\"url(#p36a1c50ecc)\" d=\"M 248.088182 224.64 \r\nL 254.175455 224.64 \r\nL 254.175455 144.73242 \r\nL 248.088182 144.73242 \r\nz\r\n\" style=\"fill:#0000ff;opacity:0.4;stroke:#ffffff;stroke-linejoin:miter;\"/>\r\n   </g>\r\n   <g id=\"patch_37\">\r\n    <path clip-path=\"url(#p36a1c50ecc)\" d=\"M 254.175455 224.64 \r\nL 260.262727 224.64 \r\nL 260.262727 160.458912 \r\nL 254.175455 160.458912 \r\nz\r\n\" style=\"fill:#0000ff;opacity:0.4;stroke:#ffffff;stroke-linejoin:miter;\"/>\r\n   </g>\r\n   <g id=\"patch_38\">\r\n    <path clip-path=\"url(#p36a1c50ecc)\" d=\"M 260.262727 224.64 \r\nL 266.35 224.64 \r\nL 266.35 175.335323 \r\nL 260.262727 175.335323 \r\nz\r\n\" style=\"fill:#0000ff;opacity:0.4;stroke:#ffffff;stroke-linejoin:miter;\"/>\r\n   </g>\r\n   <g id=\"patch_39\">\r\n    <path clip-path=\"url(#p36a1c50ecc)\" d=\"M 266.35 224.64 \r\nL 272.437273 224.64 \r\nL 272.437273 188.754453 \r\nL 266.35 188.754453 \r\nz\r\n\" style=\"fill:#0000ff;opacity:0.4;stroke:#ffffff;stroke-linejoin:miter;\"/>\r\n   </g>\r\n   <g id=\"patch_40\">\r\n    <path clip-path=\"url(#p36a1c50ecc)\" d=\"M 272.437273 224.64 \r\nL 278.524545 224.64 \r\nL 278.524545 198.1357 \r\nL 272.437273 198.1357 \r\nz\r\n\" style=\"fill:#0000ff;opacity:0.4;stroke:#ffffff;stroke-linejoin:miter;\"/>\r\n   </g>\r\n   <g id=\"patch_41\">\r\n    <path clip-path=\"url(#p36a1c50ecc)\" d=\"M 278.524545 224.64 \r\nL 284.611818 224.64 \r\nL 284.611818 207.031187 \r\nL 278.524545 207.031187 \r\nz\r\n\" style=\"fill:#0000ff;opacity:0.4;stroke:#ffffff;stroke-linejoin:miter;\"/>\r\n   </g>\r\n   <g id=\"patch_42\">\r\n    <path clip-path=\"url(#p36a1c50ecc)\" d=\"M 284.611818 224.64 \r\nL 290.699091 224.64 \r\nL 290.699091 212.890671 \r\nL 284.611818 212.890671 \r\nz\r\n\" style=\"fill:#0000ff;opacity:0.4;stroke:#ffffff;stroke-linejoin:miter;\"/>\r\n   </g>\r\n   <g id=\"patch_43\">\r\n    <path clip-path=\"url(#p36a1c50ecc)\" d=\"M 290.699091 224.64 \r\nL 296.786364 224.64 \r\nL 296.786364 216.989274 \r\nL 290.699091 216.989274 \r\nz\r\n\" style=\"fill:#0000ff;opacity:0.4;stroke:#ffffff;stroke-linejoin:miter;\"/>\r\n   </g>\r\n   <g id=\"patch_44\">\r\n    <path clip-path=\"url(#p36a1c50ecc)\" d=\"M 296.786364 224.64 \r\nL 302.873636 224.64 \r\nL 302.873636 219.569876 \r\nL 296.786364 219.569876 \r\nz\r\n\" style=\"fill:#0000ff;opacity:0.4;stroke:#ffffff;stroke-linejoin:miter;\"/>\r\n   </g>\r\n   <g id=\"patch_45\">\r\n    <path clip-path=\"url(#p36a1c50ecc)\" d=\"M 302.873636 224.64 \r\nL 308.960909 224.64 \r\nL 308.960909 221.330758 \r\nL 302.873636 221.330758 \r\nz\r\n\" style=\"fill:#0000ff;opacity:0.4;stroke:#ffffff;stroke-linejoin:miter;\"/>\r\n   </g>\r\n   <g id=\"patch_46\">\r\n    <path clip-path=\"url(#p36a1c50ecc)\" d=\"M 308.960909 224.64 \r\nL 315.048182 224.64 \r\nL 315.048182 222.393358 \r\nL 308.960909 222.393358 \r\nz\r\n\" style=\"fill:#0000ff;opacity:0.4;stroke:#ffffff;stroke-linejoin:miter;\"/>\r\n   </g>\r\n   <g id=\"patch_47\">\r\n    <path clip-path=\"url(#p36a1c50ecc)\" d=\"M 315.048182 224.64 \r\nL 321.135455 224.64 \r\nL 321.135455 223.547039 \r\nL 315.048182 223.547039 \r\nz\r\n\" style=\"fill:#0000ff;opacity:0.4;stroke:#ffffff;stroke-linejoin:miter;\"/>\r\n   </g>\r\n   <g id=\"patch_48\">\r\n    <path clip-path=\"url(#p36a1c50ecc)\" d=\"M 321.135455 224.64 \r\nL 327.222727 224.64 \r\nL 327.222727 223.97208 \r\nL 321.135455 223.97208 \r\nz\r\n\" style=\"fill:#0000ff;opacity:0.4;stroke:#ffffff;stroke-linejoin:miter;\"/>\r\n   </g>\r\n   <g id=\"patch_49\">\r\n    <path clip-path=\"url(#p36a1c50ecc)\" d=\"M 327.222727 224.64 \r\nL 333.31 224.64 \r\nL 333.31 224.27568 \r\nL 327.222727 224.27568 \r\nz\r\n\" style=\"fill:#0000ff;opacity:0.4;stroke:#ffffff;stroke-linejoin:miter;\"/>\r\n   </g>\r\n   <g id=\"patch_50\">\r\n    <path clip-path=\"url(#p36a1c50ecc)\" d=\"M 333.31 224.64 \r\nL 339.397273 224.64 \r\nL 339.397273 224.42748 \r\nL 333.31 224.42748 \r\nz\r\n\" style=\"fill:#0000ff;opacity:0.4;stroke:#ffffff;stroke-linejoin:miter;\"/>\r\n   </g>\r\n   <g id=\"patch_51\">\r\n    <path clip-path=\"url(#p36a1c50ecc)\" d=\"M 339.397273 224.64 \r\nL 345.484545 224.64 \r\nL 345.484545 224.51856 \r\nL 339.397273 224.51856 \r\nz\r\n\" style=\"fill:#0000ff;opacity:0.4;stroke:#ffffff;stroke-linejoin:miter;\"/>\r\n   </g>\r\n   <g id=\"patch_52\">\r\n    <path clip-path=\"url(#p36a1c50ecc)\" d=\"M 345.484545 224.64 \r\nL 351.571818 224.64 \r\nL 351.571818 224.54892 \r\nL 345.484545 224.54892 \r\nz\r\n\" style=\"fill:#0000ff;opacity:0.4;stroke:#ffffff;stroke-linejoin:miter;\"/>\r\n   </g>\r\n   <g id=\"line2d_14\">\r\n    <path clip-path=\"url(#p36a1c50ecc)\" d=\"M 68.289894 224.457821 \r\nL 72.760979 224.351144 \r\nL 77.232064 224.189102 \r\nL 81.703149 223.94707 \r\nL 86.174235 223.591631 \r\nL 90.64532 223.078459 \r\nL 95.116405 222.350151 \r\nL 99.58749 221.334217 \r\nL 104.058575 219.941535 \r\nL 108.529661 218.065666 \r\nL 113.000746 215.583472 \r\nL 117.471831 212.357527 \r\nL 121.942916 208.240747 \r\nL 126.414001 203.083588 \r\nL 130.885087 196.74393 \r\nL 135.356172 189.099485 \r\nL 139.827257 180.062208 \r\nL 144.298342 169.593774 \r\nL 148.769428 157.720808 \r\nL 153.240513 144.548214 \r\nL 157.711598 130.268813 \r\nL 162.182683 115.167508 \r\nL 166.653768 99.618489 \r\nL 171.124854 84.074537 \r\nL 175.595939 69.048216 \r\nL 180.067024 55.085687 \r\nL 184.538109 42.734775 \r\nL 189.009194 32.509792 \r\nL 193.48028 24.856195 \r\nL 197.951365 20.118458 \r\nL 202.42245 18.514376 \r\nL 206.893535 20.118458 \r\nL 211.36462 24.856195 \r\nL 215.835706 32.509792 \r\nL 220.306791 42.734775 \r\nL 224.777876 55.085687 \r\nL 229.248961 69.048216 \r\nL 233.720046 84.074537 \r\nL 238.191132 99.618489 \r\nL 242.662217 115.167508 \r\nL 247.133302 130.268813 \r\nL 251.604387 144.548214 \r\nL 256.075472 157.720808 \r\nL 260.546558 169.593774 \r\nL 265.017643 180.062208 \r\nL 269.488728 189.099485 \r\nL 273.959813 196.74393 \r\nL 278.430898 203.083588 \r\nL 282.901984 208.240747 \r\nL 287.373069 212.357527 \r\nL 291.844154 215.583472 \r\nL 296.315239 218.065666 \r\nL 300.786325 219.941535 \r\nL 305.25741 221.334217 \r\nL 309.728495 222.350151 \r\nL 314.19958 223.078459 \r\nL 318.670665 223.591631 \r\nL 323.141751 223.94707 \r\nL 327.612836 224.189102 \r\nL 332.083921 224.351144 \r\nL 336.555006 224.457821 \r\n\" style=\"fill:none;stroke:#0000ff;stroke-linecap:round;stroke-width:1.5;\"/>\r\n   </g>\r\n   <g id=\"line2d_15\">\r\n    <path clip-path=\"url(#p36a1c50ecc)\" d=\"M 68.289894 224.457821 \r\nL 72.760979 224.351144 \r\nL 77.232064 224.189102 \r\nL 81.703149 223.94707 \r\nL 86.174235 223.591631 \r\nL 90.64532 223.078459 \r\nL 95.116405 222.350151 \r\nL 99.58749 221.334217 \r\nL 104.058575 219.941535 \r\nL 108.529661 218.065666 \r\nL 113.000746 215.583472 \r\nL 117.471831 212.357527 \r\nL 121.942916 208.240747 \r\nL 126.414001 203.083588 \r\nL 130.885087 196.74393 \r\nL 135.356172 189.099485 \r\nL 139.827257 180.062208 \r\nL 144.298342 169.593774 \r\nL 148.769428 157.720808 \r\nL 153.240513 144.548214 \r\nL 157.711598 130.268813 \r\nL 162.182683 115.167508 \r\nL 166.653768 99.618489 \r\nL 171.124854 84.074537 \r\nL 175.595939 69.048216 \r\nL 180.067024 55.085687 \r\nL 184.538109 42.734775 \r\nL 189.009194 32.509792 \r\nL 193.48028 24.856195 \r\nL 197.951365 20.118458 \r\nL 202.42245 18.514376 \r\nL 206.893535 20.118458 \r\nL 211.36462 24.856195 \r\nL 215.835706 32.509792 \r\nL 220.306791 42.734775 \r\nL 224.777876 55.085687 \r\nL 229.248961 69.048216 \r\nL 233.720046 84.074537 \r\nL 238.191132 99.618489 \r\nL 242.662217 115.167508 \r\nL 247.133302 130.268813 \r\nL 251.604387 144.548214 \r\nL 256.075472 157.720808 \r\nL 260.546558 169.593774 \r\nL 265.017643 180.062208 \r\nL 269.488728 189.099485 \r\nL 273.959813 196.74393 \r\nL 278.430898 203.083588 \r\nL 282.901984 208.240747 \r\nL 287.373069 212.357527 \r\nL 291.844154 215.583472 \r\nL 296.315239 218.065666 \r\nL 300.786325 219.941535 \r\nL 305.25741 221.334217 \r\nL 309.728495 222.350151 \r\nL 314.19958 223.078459 \r\nL 318.670665 223.591631 \r\nL 323.141751 223.94707 \r\nL 327.612836 224.189102 \r\nL 332.083921 224.351144 \r\nL 336.555006 224.457821 \r\n\" style=\"fill:none;stroke:#0000ff;stroke-linecap:round;stroke-width:1.5;\"/>\r\n   </g>\r\n   <g id=\"patch_53\">\r\n    <path d=\"M 31.99 224.64 \r\nL 31.99 7.2 \r\n\" style=\"fill:none;stroke:#ffffff;stroke-linecap:square;stroke-linejoin:miter;stroke-width:1.25;\"/>\r\n   </g>\r\n   <g id=\"patch_54\">\r\n    <path d=\"M 366.79 224.64 \r\nL 366.79 7.2 \r\n\" style=\"fill:none;stroke:#ffffff;stroke-linecap:square;stroke-linejoin:miter;stroke-width:1.25;\"/>\r\n   </g>\r\n   <g id=\"patch_55\">\r\n    <path d=\"M 31.99 224.64 \r\nL 366.79 224.64 \r\n\" style=\"fill:none;stroke:#ffffff;stroke-linecap:square;stroke-linejoin:miter;stroke-width:1.25;\"/>\r\n   </g>\r\n   <g id=\"patch_56\">\r\n    <path d=\"M 31.99 7.2 \r\nL 366.79 7.2 \r\n\" style=\"fill:none;stroke:#ffffff;stroke-linecap:square;stroke-linejoin:miter;stroke-width:1.25;\"/>\r\n   </g>\r\n  </g>\r\n </g>\r\n <defs>\r\n  <clipPath id=\"p36a1c50ecc\">\r\n   <rect height=\"217.44\" width=\"334.8\" x=\"31.99\" y=\"7.2\"/>\r\n  </clipPath>\r\n </defs>\r\n</svg>\r\n",
      "image/png": "[encoded data removed]"
     },
     "metadata": {
      "needs_background": "light"
     }
    }
   ],
   "metadata": {}
  },
  {
   "cell_type": "markdown",
   "source": [
    "### 正态随机数"
   ],
   "metadata": {}
  },
  {
   "cell_type": "code",
   "execution_count": 50,
   "source": [
    "sampling_norm = stats.norm.rvs(\r\n",
    "    loc = 4, scale = 0.8, size = 10\r\n",
    ")\r\n",
    "sampling_norm\r\n",
    "sp.mean(sampling_norm)"
   ],
   "outputs": [
    {
     "output_type": "stream",
     "name": "stderr",
     "text": [
      "ipykernel_launcher:5: DeprecationWarning: scipy.mean is deprecated and will be removed in SciPy 2.0.0, use numpy.mean instead\n"
     ]
    },
    {
     "output_type": "execute_result",
     "data": {
      "text/plain": [
       "3.8346868794921827"
      ]
     },
     "metadata": {},
     "execution_count": 50
    }
   ],
   "metadata": {}
  }
 ],
 "metadata": {
  "orig_nbformat": 4,
  "language_info": {
   "name": "python",
   "version": "3.7.8",
   "mimetype": "text/x-python",
   "codemirror_mode": {
    "name": "ipython",
    "version": 3
   },
   "pygments_lexer": "ipython3",
   "nbconvert_exporter": "python",
   "file_extension": ".py"
  },
  "kernelspec": {
   "name": "python3",
   "display_name": "Python 3.7.8 64-bit"
  },
  "interpreter": {
   "hash": "5eb28d37f67e3c7de6734a9961b262f30b15700927acf945dd85fe9d5c2ccba0"
  }
 },
 "nbformat": 4,
 "nbformat_minor": 2
}