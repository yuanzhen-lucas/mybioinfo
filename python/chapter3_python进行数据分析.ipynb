{
 "cells": [
  {
   "cell_type": "markdown",
   "source": [
    "# 描述统计：单变量\r\n",
    "<!-- scipy 包含计算统计量等基础函数 -->"
   ],
   "metadata": {}
  },
  {
   "cell_type": "code",
   "execution_count": 22,
   "source": [
    "import numpy as np\r\n",
    "import scipy as sp\r\n",
    "# scipy 包含计算统计量等基础函数 \r\n",
    "# 设置精度\r\n",
    "%precision 3\r\n"
   ],
   "outputs": [
    {
     "output_type": "execute_result",
     "data": {
      "text/plain": [
       "'%.3f'"
      ]
     },
     "metadata": {},
     "execution_count": 22
    }
   ],
   "metadata": {}
  },
  {
   "cell_type": "code",
   "execution_count": 23,
   "source": [
    "# 单变量的数据操作\r\n",
    "fish_data = np.array([2,3,3,4,4,4,4,5,5,6])\r\n",
    "fish_data"
   ],
   "outputs": [
    {
     "output_type": "execute_result",
     "data": {
      "text/plain": [
       "array([2, 3, 3, 4, 4, 4, 4, 5, 5, 6])"
      ]
     },
     "metadata": {},
     "execution_count": 23
    }
   ],
   "metadata": {}
  },
  {
   "cell_type": "markdown",
   "source": [
    "### 总和 & 样本容量"
   ],
   "metadata": {}
  },
  {
   "cell_type": "code",
   "execution_count": 24,
   "source": [
    "sp.sum(fish_data)\r\n",
    "np.sum(fish_data)\r\n",
    "len(fish_data)"
   ],
   "outputs": [
    {
     "output_type": "stream",
     "name": "stderr",
     "text": [
      "C:\\Users\\Cherry\\AppData\\Roaming\\Python\\Python37\\site-packages\\ipykernel_launcher.py:1: DeprecationWarning: scipy.sum is deprecated and will be removed in SciPy 2.0.0, use numpy.sum instead\n",
      "  \"\"\"Entry point for launching an IPython kernel.\n"
     ]
    },
    {
     "output_type": "execute_result",
     "data": {
      "text/plain": [
       "10"
      ]
     },
     "metadata": {},
     "execution_count": 24
    }
   ],
   "metadata": {}
  },
  {
   "cell_type": "markdown",
   "source": [
    "### 均值（期望值）"
   ],
   "metadata": {}
  },
  {
   "cell_type": "code",
   "execution_count": 25,
   "source": [
    "N = len(fish_data)\r\n",
    "sum_value = sp.sum(fish_data)\r\n",
    "expection = sum_value / N\r\n",
    "expection\r\n",
    "\r\n",
    "# 或者使用scipy中的mean函数\r\n",
    "sp.mean(fish_data)"
   ],
   "outputs": [
    {
     "output_type": "stream",
     "name": "stderr",
     "text": [
      "C:\\Users\\Cherry\\AppData\\Roaming\\Python\\Python37\\site-packages\\ipykernel_launcher.py:2: DeprecationWarning: scipy.sum is deprecated and will be removed in SciPy 2.0.0, use numpy.sum instead\n",
      "  \n",
      "C:\\Users\\Cherry\\AppData\\Roaming\\Python\\Python37\\site-packages\\ipykernel_launcher.py:7: DeprecationWarning: scipy.mean is deprecated and will be removed in SciPy 2.0.0, use numpy.mean instead\n",
      "  import sys\n"
     ]
    },
    {
     "output_type": "execute_result",
     "data": {
      "text/plain": [
       "4.0"
      ]
     },
     "metadata": {},
     "execution_count": 25
    }
   ],
   "metadata": {}
  },
  {
   "cell_type": "markdown",
   "source": [
    "### 样本方差 & 无偏方差"
   ],
   "metadata": {}
  },
  {
   "cell_type": "code",
   "execution_count": 26,
   "source": [
    "sigma_2 = np.sum((fish_data - expection) ** 2) / N\r\n",
    "sigma_2\r\n",
    "np.var(fish_data, ddof = 0)\r\n",
    "sigma = np.sum((fish_data - expection)  ** 2) / (N - 1)\r\n",
    "np.var(fish_data, ddof = 1)"
   ],
   "outputs": [
    {
     "output_type": "execute_result",
     "data": {
      "text/plain": [
       "1.3333333333333333"
      ]
     },
     "metadata": {},
     "execution_count": 26
    }
   ],
   "metadata": {}
  },
  {
   "cell_type": "markdown",
   "source": [
    "### 标准差 & 标准化"
   ],
   "metadata": {}
  },
  {
   "cell_type": "code",
   "execution_count": 27,
   "source": [
    "sigma = np.sqrt(sigma_2)\r\n",
    "np.std(fish_data, ddof=1)"
   ],
   "outputs": [
    {
     "output_type": "execute_result",
     "data": {
      "text/plain": [
       "1.1547005383792515"
      ]
     },
     "metadata": {},
     "execution_count": 27
    }
   ],
   "metadata": {}
  },
  {
   "cell_type": "markdown",
   "source": [
    "### 标准化\r\n",
    "-   均值转换为0\r\n",
    "-   标准差（方差）转化为1"
   ],
   "metadata": {}
  },
  {
   "cell_type": "code",
   "execution_count": 28,
   "source": [
    "fish_data - expection\r\n",
    "sp.mean(fish_data - expection)\r\n",
    "# 转换方差\r\n",
    "fish_data / sigma\r\n",
    "sp.std(fish_data / sigma, ddof = 1)\r\n",
    "\r\n",
    "# 执行这两种转化，就可以转化数据\r\n",
    "standard = (fish_data -  expection) / sigma\r\n",
    "standard\r\n",
    "sp.mean(standard)"
   ],
   "outputs": [
    {
     "output_type": "stream",
     "name": "stderr",
     "text": [
      "C:\\Users\\Cherry\\AppData\\Roaming\\Python\\Python37\\site-packages\\ipykernel_launcher.py:2: DeprecationWarning: scipy.mean is deprecated and will be removed in SciPy 2.0.0, use numpy.mean instead\n",
      "  \n",
      "C:\\Users\\Cherry\\AppData\\Roaming\\Python\\Python37\\site-packages\\ipykernel_launcher.py:5: DeprecationWarning: scipy.std is deprecated and will be removed in SciPy 2.0.0, use numpy.std instead\n",
      "  \"\"\"\n",
      "C:\\Users\\Cherry\\AppData\\Roaming\\Python\\Python37\\site-packages\\ipykernel_launcher.py:10: DeprecationWarning: scipy.mean is deprecated and will be removed in SciPy 2.0.0, use numpy.mean instead\n",
      "  # Remove the CWD from sys.path while we load stuff.\n"
     ]
    },
    {
     "output_type": "execute_result",
     "data": {
      "text/plain": [
       "2.2204460492503132e-17"
      ]
     },
     "metadata": {},
     "execution_count": 28
    }
   ],
   "metadata": {}
  },
  {
   "cell_type": "markdown",
   "source": [
    "## 其他统计量"
   ],
   "metadata": {}
  },
  {
   "cell_type": "code",
   "execution_count": 29,
   "source": [
    "# 最大值\r\n",
    "sp.amax(fish_data)\r\n",
    "# 最小值\r\n",
    "sp.amin(fish_data)\r\n",
    "\r\n",
    "# 中位数\r\n",
    "sp.median(fish_data)\r\n",
    "\r\n",
    "# 中位数相比较于极端值更具有稳健性\r\n"
   ],
   "outputs": [
    {
     "output_type": "stream",
     "name": "stderr",
     "text": [
      "C:\\Users\\Cherry\\AppData\\Roaming\\Python\\Python37\\site-packages\\ipykernel_launcher.py:2: DeprecationWarning: scipy.amax is deprecated and will be removed in SciPy 2.0.0, use numpy.amax instead\n",
      "  \n",
      "C:\\Users\\Cherry\\AppData\\Roaming\\Python\\Python37\\site-packages\\ipykernel_launcher.py:4: DeprecationWarning: scipy.amin is deprecated and will be removed in SciPy 2.0.0, use numpy.amin instead\n",
      "  after removing the cwd from sys.path.\n",
      "C:\\Users\\Cherry\\AppData\\Roaming\\Python\\Python37\\site-packages\\ipykernel_launcher.py:7: DeprecationWarning: scipy.median is deprecated and will be removed in SciPy 2.0.0, use numpy.median instead\n",
      "  import sys\n"
     ]
    },
    {
     "output_type": "execute_result",
     "data": {
      "text/plain": [
       "4.0"
      ]
     },
     "metadata": {},
     "execution_count": 29
    }
   ],
   "metadata": {}
  },
  {
   "cell_type": "markdown",
   "source": [
    "## scipy.stats 与四分位数"
   ],
   "metadata": {}
  },
  {
   "cell_type": "code",
   "execution_count": 30,
   "source": [
    "from scipy import stats\r\n",
    "fish_data_3 = np.array([1, 2, 3, 4, 5, 6, 7, 8])\r\n",
    "stats.scoreatpercentile(fish_data_3, 25)"
   ],
   "outputs": [
    {
     "output_type": "execute_result",
     "data": {
      "text/plain": [
       "2.75"
      ]
     },
     "metadata": {},
     "execution_count": 30
    }
   ],
   "metadata": {}
  },
  {
   "cell_type": "markdown",
   "source": [
    "#### 从小到大数，`75%`的位置"
   ],
   "metadata": {}
  },
  {
   "cell_type": "code",
   "execution_count": 31,
   "source": [
    "stats.scoreatpercentile(fish_data_3, 75)"
   ],
   "outputs": [
    {
     "output_type": "execute_result",
     "data": {
      "text/plain": [
       "6.25"
      ]
     },
     "metadata": {},
     "execution_count": 31
    }
   ],
   "metadata": {}
  },
  {
   "cell_type": "markdown",
   "source": [
    "# 多变量\r\n",
    "## 整洁数据\r\n",
    "根据哈德利·威科姆（Hadley Wickham)的定义：\r\n",
    "-   每个单元格代表一个数值\r\n",
    "-   每个变量一列\r\n",
    "-   每项观察构成一行\r\n",
    "-   每种类型的观察单元构成一个表格\r\n",
    "### 列联表（交叉分类表）"
   ],
   "metadata": {}
  },
  {
   "cell_type": "code",
   "execution_count": 32,
   "source": [
    "import pandas as pd\r\n",
    "import scipy as sp\r\n",
    "%precision 3\r\n",
    "fish_multi = pd.read_csv(\"./data/3-2-1-fish_multi.csv\")\r\n",
    "print(fish_multi)\r\n",
    "# 求各组分的统计量\r\n",
    "group = fish_multi.groupby(\"species\")\r\n",
    "print(group.mean())\r\n",
    "# 求标准差\r\n",
    "print(group.std(ddof=1))\r\n",
    "# 整个的架构\r\n",
    "group.describe()"
   ],
   "outputs": [
    {
     "output_type": "stream",
     "name": "stdout",
     "text": [
      "  species  length\n",
      "0       A       2\n",
      "1       A       3\n",
      "2       A       4\n",
      "3       B       6\n",
      "4       B       8\n",
      "5       B      10\n",
      "         length\n",
      "species        \n",
      "A             3\n",
      "B             8\n",
      "         length\n",
      "species        \n",
      "A           1.0\n",
      "B           2.0\n"
     ]
    },
    {
     "output_type": "execute_result",
     "data": {
      "text/plain": [
       "        length                                    \n",
       "         count mean  std  min  25%  50%  75%   max\n",
       "species                                           \n",
       "A          3.0  3.0  1.0  2.0  2.5  3.0  3.5   4.0\n",
       "B          3.0  8.0  2.0  6.0  7.0  8.0  9.0  10.0"
      ],
      "text/html": [
       "<div>\n",
       "<style scoped>\n",
       "    .dataframe tbody tr th:only-of-type {\n",
       "        vertical-align: middle;\n",
       "    }\n",
       "\n",
       "    .dataframe tbody tr th {\n",
       "        vertical-align: top;\n",
       "    }\n",
       "\n",
       "    .dataframe thead tr th {\n",
       "        text-align: left;\n",
       "    }\n",
       "\n",
       "    .dataframe thead tr:last-of-type th {\n",
       "        text-align: right;\n",
       "    }\n",
       "</style>\n",
       "<table border=\"1\" class=\"dataframe\">\n",
       "  <thead>\n",
       "    <tr>\n",
       "      <th></th>\n",
       "      <th colspan=\"8\" halign=\"left\">length</th>\n",
       "    </tr>\n",
       "    <tr>\n",
       "      <th></th>\n",
       "      <th>count</th>\n",
       "      <th>mean</th>\n",
       "      <th>std</th>\n",
       "      <th>min</th>\n",
       "      <th>25%</th>\n",
       "      <th>50%</th>\n",
       "      <th>75%</th>\n",
       "      <th>max</th>\n",
       "    </tr>\n",
       "    <tr>\n",
       "      <th>species</th>\n",
       "      <th></th>\n",
       "      <th></th>\n",
       "      <th></th>\n",
       "      <th></th>\n",
       "      <th></th>\n",
       "      <th></th>\n",
       "      <th></th>\n",
       "      <th></th>\n",
       "    </tr>\n",
       "  </thead>\n",
       "  <tbody>\n",
       "    <tr>\n",
       "      <th>A</th>\n",
       "      <td>3.0</td>\n",
       "      <td>3.0</td>\n",
       "      <td>1.0</td>\n",
       "      <td>2.0</td>\n",
       "      <td>2.5</td>\n",
       "      <td>3.0</td>\n",
       "      <td>3.5</td>\n",
       "      <td>4.0</td>\n",
       "    </tr>\n",
       "    <tr>\n",
       "      <th>B</th>\n",
       "      <td>3.0</td>\n",
       "      <td>8.0</td>\n",
       "      <td>2.0</td>\n",
       "      <td>6.0</td>\n",
       "      <td>7.0</td>\n",
       "      <td>8.0</td>\n",
       "      <td>9.0</td>\n",
       "      <td>10.0</td>\n",
       "    </tr>\n",
       "  </tbody>\n",
       "</table>\n",
       "</div>"
      ]
     },
     "metadata": {},
     "execution_count": 32
    }
   ],
   "metadata": {}
  },
  {
   "cell_type": "markdown",
   "source": [
    "### 列联表"
   ],
   "metadata": {}
  },
  {
   "cell_type": "code",
   "execution_count": 33,
   "source": [
    "shoes = pd.read_csv(\"./data/3-2-2-shoes.csv\")\r\n",
    "print(shoes)\r\n",
    "cross = pd.pivot_table(\r\n",
    "    data = shoes,         # 指定数据\r\n",
    "    values = \"sales\",     # 指定统计的的对象\r\n",
    "    aggfunc = \"sum\",      # 指定统计所用的函数\r\n",
    "    index = \"store\",      # 行\r\n",
    "    columns = 'color'     # 列\r\n",
    ")\r\n",
    "print(cross)"
   ],
   "outputs": [
    {
     "output_type": "stream",
     "name": "stdout",
     "text": [
      "   store color  sales\n",
      "0  tokyo  blue     10\n",
      "1  tokyo   red     15\n",
      "2  osaka  blue     13\n",
      "3  osaka   red      9\n",
      "color  blue  red\n",
      "store           \n",
      "osaka    13    9\n",
      "tokyo    10   15\n"
     ]
    }
   ],
   "metadata": {}
  },
  {
   "cell_type": "markdown",
   "source": [
    "### 协方差(Covariance)\r\n",
    "研究两个连续变量之间的关系，与方差有一点点区别哟"
   ],
   "metadata": {}
  },
  {
   "cell_type": "code",
   "execution_count": 34,
   "source": [
    "import pandas as pd\r\n",
    "import numpy as np\r\n",
    "cov_data = pd.read_csv(\"./data/3-2-3-cov.csv\")\r\n",
    "print(cov_data)\r\n",
    "# 读取数据的列\r\n",
    "x = cov_data['x']\r\n",
    "y = cov_data['y']\r\n",
    "# 求样本容量\r\n",
    "N = len(cov_data)\r\n",
    "# 求各变量均值\r\n",
    "mu_x = np.mean(x)\r\n",
    "mu_y = np.mean(y)\r\n",
    "print(mu_x, mu_y)\r\n",
    "# 计算样本的协方差\r\n",
    "cov_sample = sum((x - mu_x) * (y - mu_y)) / N\r\n",
    "cov_sample\r\n",
    "# 计算分母为N - 1的协方差矩阵\r\n",
    "cov_sample = sum((x - mu_x) * (y - mu_y)) / (N - 1)\r\n"
   ],
   "outputs": [
    {
     "output_type": "stream",
     "name": "stdout",
     "text": [
      "      x   y\n",
      "0  18.5  34\n",
      "1  18.7  39\n",
      "2  19.1  41\n",
      "3  19.7  38\n",
      "4  21.5  45\n",
      "5  21.7  41\n",
      "6  21.8  52\n",
      "7  22.0  44\n",
      "8  23.4  44\n",
      "9  23.8  49\n",
      "21.020000000000003 42.7\n"
     ]
    }
   ],
   "metadata": {}
  },
  {
   "cell_type": "markdown",
   "source": [
    "### 协方差矩阵\r\n",
    "使用 scipy / numpy 中的 cov函数可以便捷地计算协方差矩阵\r\n",
    "> 把多个变量的方差和协方差形成的矩阵叫做协方差矩阵"
   ],
   "metadata": {}
  },
  {
   "cell_type": "code",
   "execution_count": 35,
   "source": [
    "sp.cov(x, y, ddof=0)\r\n",
    "# 计算分母为N -1的协方差矩阵\r\n",
    "sp.cov(x, y, ddof=1)"
   ],
   "outputs": [
    {
     "output_type": "stream",
     "name": "stderr",
     "text": [
      "C:\\Users\\Cherry\\AppData\\Roaming\\Python\\Python37\\site-packages\\ipykernel_launcher.py:1: DeprecationWarning: scipy.cov is deprecated and will be removed in SciPy 2.0.0, use numpy.cov instead\n",
      "  \"\"\"Entry point for launching an IPython kernel.\n",
      "C:\\Users\\Cherry\\AppData\\Roaming\\Python\\Python37\\site-packages\\ipykernel_launcher.py:3: DeprecationWarning: scipy.cov is deprecated and will be removed in SciPy 2.0.0, use numpy.cov instead\n",
      "  This is separate from the ipykernel package so we can avoid doing imports until\n"
     ]
    },
    {
     "output_type": "execute_result",
     "data": {
      "text/plain": [
       "array([[ 3.646,  7.673],\n",
       "       [ 7.673, 28.011]])"
      ]
     },
     "metadata": {},
     "execution_count": 35
    }
   ],
   "metadata": {}
  },
  {
   "cell_type": "markdown",
   "source": [
    "### 相关系数（皮尔逊矩相关系数）\r\n",
    "一般是将协方差标准化成最大值为1，最小值为-1得出的\r\n",
    "![avatar](./image/pierxun.png)"
   ],
   "metadata": {}
  },
  {
   "cell_type": "code",
   "execution_count": 38,
   "source": [
    "# 计算相关系数\r\n",
    "sigma_2_x = np.var(x, ddof = 1)\r\n",
    "sigma_2_y = np.var(y, ddof = 1)\r\n",
    "\r\n",
    "# 计算相关系数\r\n",
    "rho = cov_sample / sp.sqrt(sigma_2_x * sigma_2_y)\r\n",
    "rho"
   ],
   "outputs": [
    {
     "output_type": "stream",
     "name": "stderr",
     "text": [
      "C:\\Users\\Cherry\\AppData\\Roaming\\Python\\Python37\\site-packages\\ipykernel_launcher.py:6: DeprecationWarning: scipy.sqrt is deprecated and will be removed in SciPy 2.0.0, use numpy.lib.scimath.sqrt instead\n",
      "  \n"
     ]
    },
    {
     "output_type": "error",
     "ename": "TypeError",
     "evalue": "_unary_dispatcher() takes 1 positional argument but 2 were given",
     "traceback": [
      "\u001b[1;31m---------------------------------------------------------------------------\u001b[0m",
      "\u001b[1;31mTypeError\u001b[0m                                 Traceback (most recent call last)",
      "\u001b[1;32m~\\AppData\\Local\\Temp/ipykernel_15840/2517289736.py\u001b[0m in \u001b[0;36m<module>\u001b[1;34m\u001b[0m\n\u001b[0;32m      4\u001b[0m \u001b[1;33m\u001b[0m\u001b[0m\n\u001b[0;32m      5\u001b[0m \u001b[1;31m# 计算相关系数\u001b[0m\u001b[1;33m\u001b[0m\u001b[1;33m\u001b[0m\u001b[1;33m\u001b[0m\u001b[0m\n\u001b[1;32m----> 6\u001b[1;33m \u001b[0mrho\u001b[0m \u001b[1;33m=\u001b[0m \u001b[0mcov_sample\u001b[0m \u001b[1;33m/\u001b[0m \u001b[0msp\u001b[0m\u001b[1;33m.\u001b[0m\u001b[0msqrt\u001b[0m\u001b[1;33m(\u001b[0m\u001b[0msigma_2_x\u001b[0m\u001b[1;33m,\u001b[0m \u001b[0msigma_2_y\u001b[0m\u001b[1;33m)\u001b[0m\u001b[1;33m\u001b[0m\u001b[1;33m\u001b[0m\u001b[0m\n\u001b[0m\u001b[0;32m      7\u001b[0m \u001b[0mrho\u001b[0m\u001b[1;33m\u001b[0m\u001b[1;33m\u001b[0m\u001b[0m\n",
      "\u001b[1;32m~\\AppData\\Local\\Programs\\Python\\Python37\\lib\\site-packages\\scipy\\_lib\\deprecation.py\u001b[0m in \u001b[0;36mcall\u001b[1;34m(*args, **kwargs)\u001b[0m\n\u001b[0;32m     18\u001b[0m             warnings.warn(msg, category=DeprecationWarning,\n\u001b[0;32m     19\u001b[0m                           stacklevel=stacklevel)\n\u001b[1;32m---> 20\u001b[1;33m             \u001b[1;32mreturn\u001b[0m \u001b[0mfun\u001b[0m\u001b[1;33m(\u001b[0m\u001b[1;33m*\u001b[0m\u001b[0margs\u001b[0m\u001b[1;33m,\u001b[0m \u001b[1;33m**\u001b[0m\u001b[0mkwargs\u001b[0m\u001b[1;33m)\u001b[0m\u001b[1;33m\u001b[0m\u001b[1;33m\u001b[0m\u001b[0m\n\u001b[0m\u001b[0;32m     21\u001b[0m         \u001b[0mcall\u001b[0m\u001b[1;33m.\u001b[0m\u001b[0m__doc__\u001b[0m \u001b[1;33m=\u001b[0m \u001b[0mmsg\u001b[0m\u001b[1;33m\u001b[0m\u001b[1;33m\u001b[0m\u001b[0m\n\u001b[0;32m     22\u001b[0m         \u001b[1;32mreturn\u001b[0m \u001b[0mcall\u001b[0m\u001b[1;33m\u001b[0m\u001b[1;33m\u001b[0m\u001b[0m\n",
      "\u001b[1;32m<__array_function__ internals>\u001b[0m in \u001b[0;36msqrt\u001b[1;34m(*args, **kwargs)\u001b[0m\n",
      "\u001b[1;31mTypeError\u001b[0m: _unary_dispatcher() takes 1 positional argument but 2 were given"
     ]
    }
   ],
   "metadata": {}
  }
 ],
 "metadata": {
  "orig_nbformat": 4,
  "language_info": {
   "name": "python",
   "version": "3.7.8",
   "mimetype": "text/x-python",
   "codemirror_mode": {
    "name": "ipython",
    "version": 3
   },
   "pygments_lexer": "ipython3",
   "nbconvert_exporter": "python",
   "file_extension": ".py"
  },
  "kernelspec": {
   "name": "python3",
   "display_name": "Python 3.7.8 64-bit"
  },
  "interpreter": {
   "hash": "5eb28d37f67e3c7de6734a9961b262f30b15700927acf945dd85fe9d5c2ccba0"
  }
 },
 "nbformat": 4,
 "nbformat_minor": 2
}