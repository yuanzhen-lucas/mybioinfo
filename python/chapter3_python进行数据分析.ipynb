{
 "cells": [
  {
   "cell_type": "markdown",
   "source": [
    "# 描述统计：单变量\r\n",
    "<!-- scipy 包含计算统计量等基础函数 -->"
   ],
   "metadata": {}
  },
  {
   "cell_type": "code",
   "execution_count": 2,
   "source": [
    "import numpy as np\r\n",
    "import scipy as sp\r\n",
    "# scipy 包含计算统计量等基础函数 \r\n",
    "# 设置精度\r\n",
    "%precision 3\r\n"
   ],
   "outputs": [
    {
     "output_type": "execute_result",
     "data": {
      "text/plain": [
       "'%.3f'"
      ]
     },
     "metadata": {},
     "execution_count": 2
    }
   ],
   "metadata": {}
  },
  {
   "cell_type": "code",
   "execution_count": 3,
   "source": [
    "# 单变量的数据操作\r\n",
    "fish_data = np.array([2,3,3,4,4,4,4,5,5,6])\r\n",
    "fish_data"
   ],
   "outputs": [
    {
     "output_type": "execute_result",
     "data": {
      "text/plain": [
       "array([2, 3, 3, 4, 4, 4, 4, 5, 5, 6])"
      ]
     },
     "metadata": {},
     "execution_count": 3
    }
   ],
   "metadata": {}
  },
  {
   "cell_type": "markdown",
   "source": [
    "### 总和 & 样本容量"
   ],
   "metadata": {}
  },
  {
   "cell_type": "code",
   "execution_count": 4,
   "source": [
    "sp.sum(fish_data)\r\n",
    "np.sum(fish_data)\r\n",
    "len(fish_data)"
   ],
   "outputs": [
    {
     "output_type": "stream",
     "name": "stderr",
     "text": [
      "ipykernel_launcher:1: DeprecationWarning: scipy.sum is deprecated and will be removed in SciPy 2.0.0, use numpy.sum instead\n"
     ]
    },
    {
     "output_type": "execute_result",
     "data": {
      "text/plain": [
       "10"
      ]
     },
     "metadata": {},
     "execution_count": 4
    }
   ],
   "metadata": {}
  },
  {
   "cell_type": "markdown",
   "source": [
    "### 均值（期望值）"
   ],
   "metadata": {}
  },
  {
   "cell_type": "code",
   "execution_count": 5,
   "source": [
    "N = len(fish_data)\r\n",
    "sum_value = sp.sum(fish_data)\r\n",
    "expection = sum_value / N\r\n",
    "expection\r\n",
    "\r\n",
    "# 或者使用scipy中的mean函数\r\n",
    "sp.mean(fish_data)"
   ],
   "outputs": [
    {
     "output_type": "stream",
     "name": "stderr",
     "text": [
      "ipykernel_launcher:2: DeprecationWarning: scipy.sum is deprecated and will be removed in SciPy 2.0.0, use numpy.sum instead\n",
      "ipykernel_launcher:7: DeprecationWarning: scipy.mean is deprecated and will be removed in SciPy 2.0.0, use numpy.mean instead\n"
     ]
    },
    {
     "output_type": "execute_result",
     "data": {
      "text/plain": [
       "4.0"
      ]
     },
     "metadata": {},
     "execution_count": 5
    }
   ],
   "metadata": {}
  },
  {
   "cell_type": "markdown",
   "source": [
    "### 样本方差 & 无偏方差"
   ],
   "metadata": {}
  },
  {
   "cell_type": "code",
   "execution_count": 6,
   "source": [
    "sigma_2 = np.sum((fish_data - expection) ** 2) / N\r\n",
    "sigma_2\r\n",
    "np.var(fish_data, ddof = 0)\r\n",
    "sigma = np.sum((fish_data - expection)  ** 2) / (N - 1)\r\n",
    "np.var(fish_data, ddof = 1)"
   ],
   "outputs": [
    {
     "output_type": "execute_result",
     "data": {
      "text/plain": [
       "1.3333333333333333"
      ]
     },
     "metadata": {},
     "execution_count": 6
    }
   ],
   "metadata": {}
  },
  {
   "cell_type": "markdown",
   "source": [
    "### 标准差 & 标准化"
   ],
   "metadata": {}
  },
  {
   "cell_type": "code",
   "execution_count": 7,
   "source": [
    "sigma = np.sqrt(sigma_2)\r\n",
    "np.std(fish_data, ddof=1)"
   ],
   "outputs": [
    {
     "output_type": "execute_result",
     "data": {
      "text/plain": [
       "1.1547005383792515"
      ]
     },
     "metadata": {},
     "execution_count": 7
    }
   ],
   "metadata": {}
  },
  {
   "cell_type": "markdown",
   "source": [
    "### 标准化\r\n",
    "-   均值转换为0\r\n",
    "-   标准差（方差）转化为1"
   ],
   "metadata": {}
  },
  {
   "cell_type": "code",
   "execution_count": 8,
   "source": [
    "fish_data - expection\r\n",
    "sp.mean(fish_data - expection)\r\n",
    "# 转换方差\r\n",
    "fish_data / sigma\r\n",
    "sp.std(fish_data / sigma, ddof = 1)\r\n",
    "\r\n",
    "# 执行这两种转化，就可以转化数据\r\n",
    "standard = (fish_data -  expection) / sigma\r\n",
    "standard\r\n",
    "sp.mean(standard)"
   ],
   "outputs": [
    {
     "output_type": "stream",
     "name": "stderr",
     "text": [
      "ipykernel_launcher:2: DeprecationWarning: scipy.mean is deprecated and will be removed in SciPy 2.0.0, use numpy.mean instead\n",
      "ipykernel_launcher:5: DeprecationWarning: scipy.std is deprecated and will be removed in SciPy 2.0.0, use numpy.std instead\n",
      "ipykernel_launcher:10: DeprecationWarning: scipy.mean is deprecated and will be removed in SciPy 2.0.0, use numpy.mean instead\n"
     ]
    },
    {
     "output_type": "execute_result",
     "data": {
      "text/plain": [
       "2.2204460492503132e-17"
      ]
     },
     "metadata": {},
     "execution_count": 8
    }
   ],
   "metadata": {}
  },
  {
   "cell_type": "markdown",
   "source": [
    "## 其他统计量"
   ],
   "metadata": {}
  },
  {
   "cell_type": "code",
   "execution_count": 9,
   "source": [
    "# 最大值\r\n",
    "sp.amax(fish_data)\r\n",
    "# 最小值\r\n",
    "sp.amin(fish_data)\r\n",
    "\r\n",
    "# 中位数\r\n",
    "sp.median(fish_data)\r\n",
    "\r\n",
    "# 中位数相比较于极端值更具有稳健性\r\n"
   ],
   "outputs": [
    {
     "output_type": "stream",
     "name": "stderr",
     "text": [
      "ipykernel_launcher:2: DeprecationWarning: scipy.amax is deprecated and will be removed in SciPy 2.0.0, use numpy.amax instead\n",
      "ipykernel_launcher:4: DeprecationWarning: scipy.amin is deprecated and will be removed in SciPy 2.0.0, use numpy.amin instead\n",
      "ipykernel_launcher:7: DeprecationWarning: scipy.median is deprecated and will be removed in SciPy 2.0.0, use numpy.median instead\n"
     ]
    },
    {
     "output_type": "execute_result",
     "data": {
      "text/plain": [
       "4.0"
      ]
     },
     "metadata": {},
     "execution_count": 9
    }
   ],
   "metadata": {}
  },
  {
   "cell_type": "markdown",
   "source": [
    "## scipy.stats 与四分位数"
   ],
   "metadata": {}
  },
  {
   "cell_type": "code",
   "execution_count": 10,
   "source": [
    "from scipy import stats\r\n",
    "fish_data_3 = np.array([1, 2, 3, 4, 5, 6, 7, 8])\r\n",
    "stats.scoreatpercentile(fish_data_3, 25)"
   ],
   "outputs": [
    {
     "output_type": "execute_result",
     "data": {
      "text/plain": [
       "2.75"
      ]
     },
     "metadata": {},
     "execution_count": 10
    }
   ],
   "metadata": {}
  },
  {
   "cell_type": "markdown",
   "source": [
    "#### 从小到大数，`75%`的位置"
   ],
   "metadata": {}
  },
  {
   "cell_type": "code",
   "execution_count": 11,
   "source": [
    "stats.scoreatpercentile(fish_data_3, 75)"
   ],
   "outputs": [
    {
     "output_type": "execute_result",
     "data": {
      "text/plain": [
       "6.25"
      ]
     },
     "metadata": {},
     "execution_count": 11
    }
   ],
   "metadata": {}
  },
  {
   "cell_type": "markdown",
   "source": [
    "# 多变量\r\n",
    "## 整洁数据\r\n",
    "根据哈德利·威科姆（Hadley Wickham)的定义：\r\n",
    "-   每个单元格代表一个数值\r\n",
    "-   每个变量一列\r\n",
    "-   每项观察构成一行\r\n",
    "-   每种类型的观察单元构成一个表格\r\n",
    "### 列联表（交叉分类表）"
   ],
   "metadata": {}
  },
  {
   "cell_type": "code",
   "execution_count": 12,
   "source": [
    "import pandas as pd\r\n",
    "import scipy as sp\r\n",
    "%precision 3\r\n",
    "fish_multi = pd.read_csv(\"./data/3-2-1-fish_multi.csv\")\r\n",
    "print(fish_multi)\r\n",
    "# 求各组分的统计量\r\n",
    "group = fish_multi.groupby(\"species\")\r\n",
    "print(group.mean())\r\n",
    "# 求标准差\r\n",
    "print(group.std(ddof=1))\r\n",
    "# 整个的架构\r\n",
    "group.describe()"
   ],
   "outputs": [
    {
     "output_type": "stream",
     "name": "stdout",
     "text": [
      "  species  length\n",
      "0       A       2\n",
      "1       A       3\n",
      "2       A       4\n",
      "3       B       6\n",
      "4       B       8\n",
      "5       B      10\n",
      "         length\n",
      "species        \n",
      "A             3\n",
      "B             8\n",
      "         length\n",
      "species        \n",
      "A           1.0\n",
      "B           2.0\n"
     ]
    },
    {
     "output_type": "execute_result",
     "data": {
      "text/plain": [
       "        length                                    \n",
       "         count mean  std  min  25%  50%  75%   max\n",
       "species                                           \n",
       "A          3.0  3.0  1.0  2.0  2.5  3.0  3.5   4.0\n",
       "B          3.0  8.0  2.0  6.0  7.0  8.0  9.0  10.0"
      ],
      "text/html": [
       "<div>\n",
       "<style scoped>\n",
       "    .dataframe tbody tr th:only-of-type {\n",
       "        vertical-align: middle;\n",
       "    }\n",
       "\n",
       "    .dataframe tbody tr th {\n",
       "        vertical-align: top;\n",
       "    }\n",
       "\n",
       "    .dataframe thead tr th {\n",
       "        text-align: left;\n",
       "    }\n",
       "\n",
       "    .dataframe thead tr:last-of-type th {\n",
       "        text-align: right;\n",
       "    }\n",
       "</style>\n",
       "<table border=\"1\" class=\"dataframe\">\n",
       "  <thead>\n",
       "    <tr>\n",
       "      <th></th>\n",
       "      <th colspan=\"8\" halign=\"left\">length</th>\n",
       "    </tr>\n",
       "    <tr>\n",
       "      <th></th>\n",
       "      <th>count</th>\n",
       "      <th>mean</th>\n",
       "      <th>std</th>\n",
       "      <th>min</th>\n",
       "      <th>25%</th>\n",
       "      <th>50%</th>\n",
       "      <th>75%</th>\n",
       "      <th>max</th>\n",
       "    </tr>\n",
       "    <tr>\n",
       "      <th>species</th>\n",
       "      <th></th>\n",
       "      <th></th>\n",
       "      <th></th>\n",
       "      <th></th>\n",
       "      <th></th>\n",
       "      <th></th>\n",
       "      <th></th>\n",
       "      <th></th>\n",
       "    </tr>\n",
       "  </thead>\n",
       "  <tbody>\n",
       "    <tr>\n",
       "      <th>A</th>\n",
       "      <td>3.0</td>\n",
       "      <td>3.0</td>\n",
       "      <td>1.0</td>\n",
       "      <td>2.0</td>\n",
       "      <td>2.5</td>\n",
       "      <td>3.0</td>\n",
       "      <td>3.5</td>\n",
       "      <td>4.0</td>\n",
       "    </tr>\n",
       "    <tr>\n",
       "      <th>B</th>\n",
       "      <td>3.0</td>\n",
       "      <td>8.0</td>\n",
       "      <td>2.0</td>\n",
       "      <td>6.0</td>\n",
       "      <td>7.0</td>\n",
       "      <td>8.0</td>\n",
       "      <td>9.0</td>\n",
       "      <td>10.0</td>\n",
       "    </tr>\n",
       "  </tbody>\n",
       "</table>\n",
       "</div>"
      ]
     },
     "metadata": {},
     "execution_count": 12
    }
   ],
   "metadata": {}
  },
  {
   "cell_type": "markdown",
   "source": [
    "### 列联表"
   ],
   "metadata": {}
  },
  {
   "cell_type": "code",
   "execution_count": 13,
   "source": [
    "shoes = pd.read_csv(\"./data/3-2-2-shoes.csv\")\r\n",
    "print(shoes)\r\n",
    "cross = pd.pivot_table(\r\n",
    "    data = shoes,         # 指定数据\r\n",
    "    values = \"sales\",     # 指定统计的的对象\r\n",
    "    aggfunc = \"sum\",      # 指定统计所用的函数\r\n",
    "    index = \"store\",      # 行\r\n",
    "    columns = 'color'     # 列\r\n",
    ")\r\n",
    "print(cross)"
   ],
   "outputs": [
    {
     "output_type": "stream",
     "name": "stdout",
     "text": [
      "   store color  sales\n",
      "0  tokyo  blue     10\n",
      "1  tokyo   red     15\n",
      "2  osaka  blue     13\n",
      "3  osaka   red      9\n",
      "color  blue  red\n",
      "store           \n",
      "osaka    13    9\n",
      "tokyo    10   15\n"
     ]
    }
   ],
   "metadata": {}
  },
  {
   "cell_type": "markdown",
   "source": [
    "### 协方差(Covariance)\r\n",
    "研究两个连续变量之间的关系，与方差有一点点区别哟"
   ],
   "metadata": {}
  },
  {
   "cell_type": "code",
   "execution_count": 25,
   "source": [
    "import pandas as pd\r\n",
    "import numpy as np\r\n",
    "cov_data = pd.read_csv(\"./data/3-2-3-cov.csv\")\r\n",
    "print(cov_data)\r\n",
    "# 读取数据的列\r\n",
    "x = cov_data['x']\r\n",
    "y = cov_data['y']\r\n",
    "# 求样本容量\r\n",
    "N = len(cov_data)\r\n",
    "# 求各变量均值\r\n",
    "mu_x = np.mean(x)\r\n",
    "mu_y = np.mean(y)\r\n",
    "print(mu_x, mu_y)\r\n",
    "# 计算样本的协方差\r\n",
    "cov_sample = sum((x - mu_x) * (y - mu_y)) / N\r\n",
    "cov_sample\r\n",
    "# 计算分母为N - 1的协方差矩阵\r\n",
    "cov = sum((x - mu_x) * (y - mu_y)) / (N - 1)\r\n"
   ],
   "outputs": [
    {
     "output_type": "stream",
     "name": "stdout",
     "text": [
      "      x   y\n",
      "0  18.5  34\n",
      "1  18.7  39\n",
      "2  19.1  41\n",
      "3  19.7  38\n",
      "4  21.5  45\n",
      "5  21.7  41\n",
      "6  21.8  52\n",
      "7  22.0  44\n",
      "8  23.4  44\n",
      "9  23.8  49\n",
      "21.020000000000003 42.7\n"
     ]
    }
   ],
   "metadata": {}
  },
  {
   "cell_type": "markdown",
   "source": [
    "### 协方差矩阵\r\n",
    "使用 scipy / numpy 中的 cov函数可以便捷地计算协方差矩阵\r\n",
    "> 把多个变量的方差和协方差形成的矩阵叫做协方差矩阵"
   ],
   "metadata": {}
  },
  {
   "cell_type": "code",
   "execution_count": 15,
   "source": [
    "sp.cov(x, y, ddof=0)\r\n",
    "# 计算分母为N -1的协方差矩阵\r\n",
    "sp.cov(x, y, ddof=1)"
   ],
   "outputs": [
    {
     "output_type": "stream",
     "name": "stderr",
     "text": [
      "ipykernel_launcher:1: DeprecationWarning: scipy.cov is deprecated and will be removed in SciPy 2.0.0, use numpy.cov instead\n",
      "ipykernel_launcher:3: DeprecationWarning: scipy.cov is deprecated and will be removed in SciPy 2.0.0, use numpy.cov instead\n"
     ]
    },
    {
     "output_type": "execute_result",
     "data": {
      "text/plain": [
       "array([[ 3.646,  7.673],\n",
       "       [ 7.673, 28.011]])"
      ]
     },
     "metadata": {},
     "execution_count": 15
    }
   ],
   "metadata": {}
  },
  {
   "cell_type": "markdown",
   "source": [
    "### 相关系数（皮尔逊矩相关系数）\r\n",
    "一般是将协方差标准化成最大值为1，最小值为-1得出的\r\n",
    "![avatar](./image/pierxun.png)"
   ],
   "metadata": {}
  },
  {
   "cell_type": "code",
   "execution_count": 27,
   "source": [
    "# 计算相关系数\r\n",
    "sigma_2_x = np.var(x, ddof = 1)\r\n",
    "sigma_2_y = np.var(y, ddof = 1)\r\n",
    "\r\n",
    "# 计算相关系数\r\n",
    "rho = cov / sp.sqrt(sigma_2_x * sigma_2_y)\r\n",
    "print(rho)\r\n",
    "\r\n",
    "# 计算两个变量的方差\r\n",
    "sigma_2_x_sample = sp.var(x, ddof = 0)\r\n",
    "sigma_2_y_sample = sp.var(y, ddof = 0)\r\n",
    "# 计算相关系数\r\n",
    "rho2 = cov_sample / sp.sqrt(sigma_2_x_sample * sigma_2_y_sample)\r\n",
    "print(rho2)\r\n",
    "sp.corrcoef(x, y)"
   ],
   "outputs": [
    {
     "output_type": "stream",
     "name": "stdout",
     "text": [
      "0.7592719041137088\n",
      "0.7592719041137087\n"
     ]
    },
    {
     "output_type": "stream",
     "name": "stderr",
     "text": [
      "ipykernel_launcher:6: DeprecationWarning: scipy.sqrt is deprecated and will be removed in SciPy 2.0.0, use numpy.lib.scimath.sqrt instead\n",
      "ipykernel_launcher:10: DeprecationWarning: scipy.var is deprecated and will be removed in SciPy 2.0.0, use numpy.var instead\n",
      "ipykernel_launcher:11: DeprecationWarning: scipy.var is deprecated and will be removed in SciPy 2.0.0, use numpy.var instead\n",
      "ipykernel_launcher:13: DeprecationWarning: scipy.sqrt is deprecated and will be removed in SciPy 2.0.0, use numpy.lib.scimath.sqrt instead\n",
      "ipykernel_launcher:15: DeprecationWarning: scipy.corrcoef is deprecated and will be removed in SciPy 2.0.0, use numpy.corrcoef instead\n"
     ]
    },
    {
     "output_type": "execute_result",
     "data": {
      "text/plain": [
       "array([[1.   , 0.759],\n",
       "       [0.759, 1.   ]])"
      ]
     },
     "metadata": {},
     "execution_count": 27
    }
   ],
   "metadata": {}
  },
  {
   "cell_type": "markdown",
   "source": [
    "## 用python 模拟抽样"
   ],
   "metadata": {}
  },
  {
   "cell_type": "code",
   "execution_count": 49,
   "source": [
    "import numpy as np\r\n",
    "import pandas as pd\r\n",
    "import scipy as sp\r\n",
    "from scipy import stats\r\n",
    "# 绘图的库\r\n",
    "from matplotlib import pyplot as plt\r\n",
    "import seaborn as sns\r\n",
    "sns.set()\r\n",
    "# 设置浮点数精度\r\n",
    "%precision 3\r\n",
    "# 在 Jupter Notebook 中显示图形\r\n",
    "%matplotlib inline\r\n",
    "fish_5 = np.array([2, 3, 4, 5, 6])\r\n",
    "# 随机抽样,抽取的样本是随机变化的，所以每次都在变\r\n",
    "np.random.choice(fish_5, size = 3, replace = False)\r\n",
    "\r\n",
    "# 随机种子的使用\r\n",
    "# 其实，我们所使用的随机数也是伪随机数\r\n",
    "np.random.seed(1)\r\n",
    "np.random.choice(fish_5, size = 3, replace = False)\r\n",
    "np.mean(\r\n",
    "    np.random.choice(fish_5, size = 3, replace = False)\r\n",
    ")"
   ],
   "outputs": [
    {
     "output_type": "execute_result",
     "data": {
      "text/plain": [
       "4.0"
      ]
     },
     "metadata": {},
     "execution_count": 49
    }
   ],
   "metadata": {}
  },
  {
   "cell_type": "markdown",
   "source": [
    "### 放回取样、不放回取样"
   ],
   "metadata": {}
  },
  {
   "cell_type": "code",
   "execution_count": 53,
   "source": [
    "fish_10000 = pd.read_csv(\"./data/3-4-1-fish_length_100000.csv\")[\"length\"]\r\n",
    "fish_10000.head()\r\n",
    "len(fish_10000)\r\n",
    "sampling_result = np.random.choice(\r\n",
    "    fish_10000, size = 10, replace = False\r\n",
    ")\r\n",
    "sampling_result"
   ],
   "outputs": [
    {
     "output_type": "execute_result",
     "data": {
      "text/plain": [
       "array([4.064, 5.065, 3.704, 4.476, 4.845, 3.686, 3.626, 4.182, 4.083,\n",
       "       4.111])"
      ]
     },
     "metadata": {},
     "execution_count": 53
    }
   ],
   "metadata": {}
  }
 ],
 "metadata": {
  "orig_nbformat": 4,
  "language_info": {
   "name": "python",
   "version": "3.7.8",
   "mimetype": "text/x-python",
   "codemirror_mode": {
    "name": "ipython",
    "version": 3
   },
   "pygments_lexer": "ipython3",
   "nbconvert_exporter": "python",
   "file_extension": ".py"
  },
  "kernelspec": {
   "name": "python3",
   "display_name": "Python 3.7.8 64-bit"
  },
  "interpreter": {
   "hash": "5eb28d37f67e3c7de6734a9961b262f30b15700927acf945dd85fe9d5c2ccba0"
  }
 },
 "nbformat": 4,
 "nbformat_minor": 2
}