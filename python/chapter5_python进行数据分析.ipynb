{
 "cells": [
  {
   "cell_type": "markdown",
   "metadata": {},
   "source": [
    "# 含有单个连续型解释变量的模型"
   ]
  },
  {
   "cell_type": "code",
   "execution_count": 5,
   "metadata": {},
   "outputs": [
    {
     "data": {
      "text/plain": [
       "<seaborn.axisgrid.JointGrid at 0x1f40a8e4a08>"
      ]
     },
     "execution_count": 5,
     "metadata": {},
     "output_type": "execute_result"
    },
    {
     "data": {
      "image/png": "[encoded data removed]",
      "text/plain": [
       "<Figure size 432x432 with 3 Axes>"
      ]
     },
     "metadata": {
      "needs_background": "light"
     },
     "output_type": "display_data"
    }
   ],
   "source": [
    "import numpy as np\n",
    "import pandas as pd\n",
    "import scipy as sp\n",
    "from scipy import stats\n",
    "# 用于绘图的库\n",
    "from matplotlib import pyplot as plt\n",
    "import seaborn as sns\n",
    "sns.set()\n",
    "# 用于统计模型的库，部分版本会报错\n",
    "import statsmodels.formula.api as smf\n",
    "import statsmodels.api as sm\n",
    "# 设置浮点数打印精度\n",
    "%precision 3\n",
    "# 在Jupter Notebook中显示图形\n",
    "%matplotlib inline\n",
    "beer = pd.read_csv(\"./data/5-1-1-beer.csv\")\n",
    "beer.head()\n",
    "sns.jointplot(x = \"temperature\", y = \"beer\",\n",
    "              data = beer, color = \"blue\")"
   ]
  },
  {
   "cell_type": "markdown",
   "metadata": {},
   "source": [
    "## 建模\n",
    "啤酒销售额 ~ N(β₀ + β₁ X 气温, σ²)\n",
    "建立一般的正态模型\n"
   ]
  },
  {
   "cell_type": "code",
   "execution_count": 6,
   "metadata": {},
   "outputs": [
    {
     "data": {
      "text/html": [
       "<table class=\"simpletable\">\n",
       "<caption>OLS Regression Results</caption>\n",
       "<tr>\n",
       "  <th>Dep. Variable:</th>          <td>beer</td>       <th>  R-squared:         </th> <td>   0.504</td>\n",
       "</tr>\n",
       "<tr>\n",
       "  <th>Model:</th>                   <td>OLS</td>       <th>  Adj. R-squared:    </th> <td>   0.486</td>\n",
       "</tr>\n",
       "<tr>\n",
       "  <th>Method:</th>             <td>Least Squares</td>  <th>  F-statistic:       </th> <td>   28.45</td>\n",
       "</tr>\n",
       "<tr>\n",
       "  <th>Date:</th>             <td>Tue, 22 Feb 2022</td> <th>  Prob (F-statistic):</th> <td>1.11e-05</td>\n",
       "</tr>\n",
       "<tr>\n",
       "  <th>Time:</th>                 <td>16:28:41</td>     <th>  Log-Likelihood:    </th> <td> -102.45</td>\n",
       "</tr>\n",
       "<tr>\n",
       "  <th>No. Observations:</th>      <td>    30</td>      <th>  AIC:               </th> <td>   208.9</td>\n",
       "</tr>\n",
       "<tr>\n",
       "  <th>Df Residuals:</th>          <td>    28</td>      <th>  BIC:               </th> <td>   211.7</td>\n",
       "</tr>\n",
       "<tr>\n",
       "  <th>Df Model:</th>              <td>     1</td>      <th>                     </th>     <td> </td>   \n",
       "</tr>\n",
       "<tr>\n",
       "  <th>Covariance Type:</th>      <td>nonrobust</td>    <th>                     </th>     <td> </td>   \n",
       "</tr>\n",
       "</table>\n",
       "<table class=\"simpletable\">\n",
       "<tr>\n",
       "       <td></td>          <th>coef</th>     <th>std err</th>      <th>t</th>      <th>P>|t|</th>  <th>[0.025</th>    <th>0.975]</th>  \n",
       "</tr>\n",
       "<tr>\n",
       "  <th>Intercept</th>   <td>   34.6102</td> <td>    3.235</td> <td>   10.699</td> <td> 0.000</td> <td>   27.984</td> <td>   41.237</td>\n",
       "</tr>\n",
       "<tr>\n",
       "  <th>temperature</th> <td>    0.7654</td> <td>    0.144</td> <td>    5.334</td> <td> 0.000</td> <td>    0.471</td> <td>    1.059</td>\n",
       "</tr>\n",
       "</table>\n",
       "<table class=\"simpletable\">\n",
       "<tr>\n",
       "  <th>Omnibus:</th>       <td> 0.587</td> <th>  Durbin-Watson:     </th> <td>   1.960</td>\n",
       "</tr>\n",
       "<tr>\n",
       "  <th>Prob(Omnibus):</th> <td> 0.746</td> <th>  Jarque-Bera (JB):  </th> <td>   0.290</td>\n",
       "</tr>\n",
       "<tr>\n",
       "  <th>Skew:</th>          <td>-0.240</td> <th>  Prob(JB):          </th> <td>   0.865</td>\n",
       "</tr>\n",
       "<tr>\n",
       "  <th>Kurtosis:</th>      <td> 2.951</td> <th>  Cond. No.          </th> <td>    52.5</td>\n",
       "</tr>\n",
       "</table><br/><br/>Notes:<br/>[1] Standard Errors assume that the covariance matrix of the errors is correctly specified."
      ],
      "text/plain": [
       "<class 'statsmodels.iolib.summary.Summary'>\n",
       "\"\"\"\n",
       "                            OLS Regression Results                            \n",
       "==============================================================================\n",
       "Dep. Variable:                   beer   R-squared:                       0.504\n",
       "Model:                            OLS   Adj. R-squared:                  0.486\n",
       "Method:                 Least Squares   F-statistic:                     28.45\n",
       "Date:                Tue, 22 Feb 2022   Prob (F-statistic):           1.11e-05\n",
       "Time:                        16:28:41   Log-Likelihood:                -102.45\n",
       "No. Observations:                  30   AIC:                             208.9\n",
       "Df Residuals:                      28   BIC:                             211.7\n",
       "Df Model:                           1                                         \n",
       "Covariance Type:            nonrobust                                         \n",
       "===============================================================================\n",
       "                  coef    std err          t      P>|t|      [0.025      0.975]\n",
       "-------------------------------------------------------------------------------\n",
       "Intercept      34.6102      3.235     10.699      0.000      27.984      41.237\n",
       "temperature     0.7654      0.144      5.334      0.000       0.471       1.059\n",
       "==============================================================================\n",
       "Omnibus:                        0.587   Durbin-Watson:                   1.960\n",
       "Prob(Omnibus):                  0.746   Jarque-Bera (JB):                0.290\n",
       "Skew:                          -0.240   Prob(JB):                        0.865\n",
       "Kurtosis:                       2.951   Cond. No.                         52.5\n",
       "==============================================================================\n",
       "\n",
       "Notes:\n",
       "[1] Standard Errors assume that the covariance matrix of the errors is correctly specified.\n",
       "\"\"\""
      ]
     },
     "execution_count": 6,
     "metadata": {},
     "output_type": "execute_result"
    }
   ],
   "source": [
    "# 使用statsmodels实现模型化\n",
    "# 注意这个~符号\n",
    "in_model = smf.ols(formula = \"beer ~ temperature\",data = beer).fit()\n",
    "\n",
    "in_model.summary()"
   ]
  },
  {
   "cell_type": "markdown",
   "metadata": {},
   "source": [
    "### 使用AIC进行模型选择\n",
    "ols(最小二乘法)"
   ]
  },
  {
   "cell_type": "code",
   "execution_count": 7,
   "metadata": {},
   "outputs": [
    {
     "data": {
      "text/plain": [
       "208.90902935575437"
      ]
     },
     "execution_count": 7,
     "metadata": {},
     "output_type": "execute_result"
    }
   ],
   "source": [
    "null_model = smf.ols(\"beer ~ 1\", data = beer).fit()\n",
    "null_model.aic\n",
    "in_model.aic\n",
    "\n",
    "# 含有解释变量的模型的AIC更小\n",
    "in_model.llf\n",
    "\n",
    "# 解释变量个数\n",
    "in_model.df_model\n",
    "\n",
    "# 最终的AIC计算如下:\n",
    "-2 * (in_model.llf - (in_model.df_model + 1))\n",
    "\n"
   ]
  },
  {
   "cell_type": "markdown",
   "metadata": {},
   "source": [
    "### 回归直线\n",
    "模型预测的响应变脸的图形就是回归直线\n"
   ]
  },
  {
   "cell_type": "code",
   "execution_count": 8,
   "metadata": {},
   "outputs": [
    {
     "data": {
      "text/plain": [
       "<seaborn.axisgrid.FacetGrid at 0x1f40ae07f88>"
      ]
     },
     "execution_count": 8,
     "metadata": {},
     "output_type": "execute_result"
    },
    {
     "data": {
      "image/png": "[encoded data removed]",
      "text/plain": [
       "<Figure size 360x360 with 1 Axes>"
      ]
     },
     "metadata": {
      "needs_background": "light"
     },
     "output_type": "display_data"
    }
   ],
   "source": [
    "sns.lmplot(x = \"temperature\", y = \"beer\", data = beer, scatter_kws = {\"color\":\"blue\"},\n",
    "                line_kws = {\"color\":\"black\"})\n"
   ]
  },
  {
   "cell_type": "markdown",
   "metadata": {},
   "source": [
    "### 使用模型进行预测\n"
   ]
  },
  {
   "cell_type": "code",
   "execution_count": 9,
   "metadata": {},
   "outputs": [
    {
     "data": {
      "text/plain": [
       "55.375642843501936"
      ]
     },
     "execution_count": 9,
     "metadata": {},
     "output_type": "execute_result"
    }
   ],
   "source": [
    "in_model.predict()\n",
    "in_model.predict(pd.DataFrame({\"temperature\":[0]}))\n",
    "\n",
    "# 参数\n",
    "in_model.params\n",
    "# 气温20摄氏度的期望\n",
    "in_model.predict(pd.DataFrame({\"temperature\":[20]}))\n",
    "\n",
    "beta0 = in_model.params[0]\n",
    "beta1 = in_model.params[1]\n",
    "\n",
    "temperature = 20\n",
    "beta0 + beta1 + temperature\n"
   ]
  },
  {
   "cell_type": "markdown",
   "metadata": {},
   "source": [
    "### 获取残差"
   ]
  },
  {
   "cell_type": "code",
   "execution_count": 10,
   "metadata": {},
   "outputs": [
    {
     "name": "stdout",
     "output_type": "stream",
     "text": [
      "0   -5.001481\n",
      "1    5.554095\n",
      "2   -1.864491\n",
      "dtype: float64\n",
      "0   -5.001481\n",
      "1    5.554095\n",
      "2   -1.864491\n",
      "dtype: float64\n"
     ]
    }
   ],
   "source": [
    "resid = in_model.resid\n",
    "print(resid.head(3))\n",
    "\n",
    "y_hat = beta0 + beta1 * beer[\"temperature\"]\n",
    "y_hat.head(3)\n",
    "print((beer.beer - y_hat).head(3))"
   ]
  },
  {
   "cell_type": "markdown",
   "metadata": {},
   "source": [
    "### 决定系数"
   ]
  },
  {
   "cell_type": "code",
   "execution_count": 11,
   "metadata": {},
   "outputs": [
    {
     "data": {
      "text/plain": [
       "0.5039593230611858"
      ]
     },
     "execution_count": 11,
     "metadata": {},
     "output_type": "execute_result"
    }
   ],
   "source": [
    "mu = np.mean(beer.beer)\n",
    "y = beer.beer\n",
    "yhat = in_model.predict()\n",
    "\n",
    "(np.sum(yhat - mu) ** 2 ) / np.sum((y - mu) ** 2)\n",
    "# 也可以通过下面语句\n",
    "in_model.rsquared\n",
    "\n",
    "# 首先，计算模型可以预测差异与模型不可预测都残差平方和的总和\n",
    "temp = np.sum((yhat - mu)**2) + sum(resid**2)\n",
    "temp\n",
    "np.sum((y - mu)**2)\n",
    "\n",
    "1 - np.sum(resid**2) / np.sum((y - mu)**2)"
   ]
  },
  {
   "cell_type": "markdown",
   "metadata": {},
   "source": [
    "### 修正系数"
   ]
  },
  {
   "cell_type": "code",
   "execution_count": 12,
   "metadata": {},
   "outputs": [
    {
     "data": {
      "text/plain": [
       "0.48624358459908534"
      ]
     },
     "execution_count": 12,
     "metadata": {},
     "output_type": "execute_result"
    }
   ],
   "source": [
    "# 通过自由度来考虑决定系数\n",
    "n = len(beer.beer)\n",
    "s = 1\n",
    "1 - ((np.sum(resid**2) / (n - s - 1)) /\n",
    "     (np.sum((y - mu)**2) / (n - 1)))\n",
    "\n",
    "# 也可以通过下面的语句\n",
    "in_model.rsquared_adj"
   ]
  },
  {
   "cell_type": "code",
   "execution_count": 13,
   "metadata": {},
   "outputs": [
    {
     "name": "stderr",
     "output_type": "stream",
     "text": [
      "C:\\Users\\Cherry\\AppData\\Local\\Programs\\Python\\Python37\\lib\\site-packages\\seaborn\\_decorators.py:43: FutureWarning: Pass the following variables as keyword args: x, y. From version 0.12, the only valid positional argument will be `data`, and passing other arguments without an explicit keyword will result in an error or misinterpretation.\n",
      "  FutureWarning\n"
     ]
    },
    {
     "data": {
      "text/plain": [
       "<seaborn.axisgrid.JointGrid at 0x1f40b224b88>"
      ]
     },
     "execution_count": 13,
     "metadata": {},
     "output_type": "execute_result"
    },
    {
     "data": {
      "image/png": "[encoded data removed]",
      "text/plain": [
       "<Figure size 360x360 with 1 Axes>"
      ]
     },
     "metadata": {
      "needs_background": "light"
     },
     "output_type": "display_data"
    },
    {
     "data": {
      "image/png": "[encoded data removed]",
      "text/plain": [
       "<Figure size 432x432 with 3 Axes>"
      ]
     },
     "metadata": {
      "needs_background": "light"
     },
     "output_type": "display_data"
    }
   ],
   "source": [
    "sns.displot(resid)\n",
    "\n",
    "sns.jointplot(in_model.fittedvalues, resid,\n",
    "              joint_kws={\"color\":\"blue\"},\n",
    "              marginal_kws={\"color\":\"black\"})"
   ]
  },
  {
   "cell_type": "markdown",
   "metadata": {},
   "source": [
    "### 分位图\n",
    "分位图是用来比较理论分位数(theoretical quantiles)与实际分位数(sample quantiles)的散点图，也叫Q~Q图🦝。\n",
    "Q是Quantile的缩写"
   ]
  },
  {
   "cell_type": "code",
   "execution_count": 14,
   "metadata": {},
   "outputs": [
    {
     "name": "stderr",
     "output_type": "stream",
     "text": [
      "C:\\Users\\Cherry\\AppData\\Local\\Programs\\Python\\Python37\\lib\\site-packages\\statsmodels\\graphics\\gofplots.py:993: UserWarning: marker is redundantly defined by the 'marker' keyword argument and the fmt string \"bo\" (-> marker='o'). The keyword argument will take precedence.\n",
      "  ax.plot(x, y, fmt, **plot_style)\n"
     ]
    },
    {
     "data": {
      "text/plain": [
       "array([-1.849, -1.518, -1.3  , -1.131, -0.989, -0.865, -0.753, -0.649,\n",
       "       -0.552, -0.46 , -0.372, -0.287, -0.204, -0.122, -0.04 ,  0.04 ,\n",
       "        0.122,  0.204,  0.287,  0.372,  0.46 ,  0.552,  0.649,  0.753,\n",
       "        0.865,  0.989,  1.131,  1.3  ,  1.518,  1.849])"
      ]
     },
     "execution_count": 14,
     "metadata": {},
     "output_type": "execute_result"
    },
    {
     "data": {
      "image/png": "[encoded data removed]",
      "text/plain": [
       "<Figure size 432x288 with 1 Axes>"
      ]
     },
     "metadata": {
      "needs_background": "light"
     },
     "output_type": "display_data"
    }
   ],
   "source": [
    "fig = sm.qqplot(resid, line = \"s\")\n",
    "resid_sort = resid.sort_values()\n",
    "resid_sort.head()\n",
    "\n",
    "# 这里可以看到分位图的\n",
    "nobs = len(resid_sort)\n",
    "cdf = np.arange(1, nobs + 1) / (nobs + 1)\n",
    "cdf\n",
    "ppf = stats.norm.ppf(cdf)\n",
    "ppf\n"
   ]
  },
  {
   "cell_type": "markdown",
   "metadata": {},
   "source": [
    "## 方差分析\n",
    "方差分析是来检验均值差的方法\n",
    "\n",
    "### 多重假设检验\n",
    "反复检验导致结果更容易出现问题的叫做`多重假设检验`问题\n",
    "\n",
    "### 方差分析的直观理解:F比\n",
    "方差分析的英文名(ANalysis Of VAriance)\n",
    "\n",
    "F比 = 效应的方差 / 误差的方差"
   ]
  },
  {
   "cell_type": "code",
   "execution_count": null,
   "metadata": {},
   "outputs": [],
   "source": [
    " "
   ]
  },
  {
   "cell_type": "markdown",
   "metadata": {},
   "source": [
    "### 方差分析的直观理解\n",
    "一般的方差分析其实通过看图就可以明白一二\n"
   ]
  },
  {
   "cell_type": "code",
   "execution_count": 15,
   "metadata": {},
   "outputs": [
    {
     "name": "stdout",
     "output_type": "stream",
     "text": [
      "   beer weather\n",
      "0     6  cloudy\n",
      "1     8  cloudy\n",
      "2     2   rainy\n",
      "3     4   rainy\n",
      "4    10   sunny\n",
      "5    12   sunny\n",
      "         beer\n",
      "weather      \n",
      "cloudy      7\n",
      "rainy       3\n",
      "sunny      11\n"
     ]
    },
    {
     "data": {
      "image/png": "[encoded data removed]",
      "text/plain": [
       "<Figure size 432x288 with 1 Axes>"
      ]
     },
     "metadata": {
      "needs_background": "light"
     },
     "output_type": "display_data"
    }
   ],
   "source": [
    "import numpy as np\n",
    "import pandas as pd\n",
    "from scipy import stats\n",
    "\n",
    "# 用于绘图的库\n",
    "from matplotlib import pyplot as plt\n",
    "import seaborn as sns\n",
    "sns.set()\n",
    "# 用于估计统计模型的库（部分版本会报出警告信息）\n",
    "import statsmodels.formula.api as smf\n",
    "import statsmodels.api as sm\n",
    "# 设置浮点数打印精度\n",
    "%precision 3\n",
    "# 在Jupyter Notebook中显示图形\n",
    "%matplotlib inline\n",
    "\n",
    "# 定义一组数据\n",
    "weather = [\n",
    "    \"cloudy\", \"cloudy\",\n",
    "    \"rainy\", \"rainy\",\n",
    "    \"sunny\", \"sunny\"\n",
    "]\n",
    "\n",
    "beer = [6, 8, 2, 4, 10, 12]\n",
    "\n",
    "# 转换成数据帧\n",
    "weather_beer = pd.DataFrame({\n",
    "    \"beer\"  : beer,\n",
    "    \"weather\": weather\n",
    "})\n",
    "print(weather_beer)\n",
    "\n",
    "# 样本量很小所以绘制箱形图而非小提琴图\n",
    "sns.boxplot(x = \"weather\", y = \"beer\",\n",
    "            data = weather_beer, color = \"gray\")\n",
    "\n",
    "print(weather_beer.groupby(\"weather\").mean())"
   ]
  },
  {
   "cell_type": "markdown",
   "metadata": {},
   "source": [
    "#### 方差分析：计算组间偏差平方和与组内偏差平方和\n",
    "分布手动实现单因素方差分析"
   ]
  },
  {
   "cell_type": "code",
   "execution_count": null,
   "metadata": {},
   "outputs": [],
   "source": [
    "# 天气的影响\n",
    "effect = [7, 7, 3, 3, 11, 11]\n",
    "\n",
    "# 组间偏差平方和\n",
    "mu_effect = sp.mean(effect)\n",
    "squares_model = sp.sum((effect - mu_effect) ** 2)\n",
    "print(squares_model)\n",
    "\n",
    "resid = weather_beer.beer - effect\n",
    "print(resid)\n",
    "\n",
    "# 组内偏差平方和\n",
    "squares_resid = sp.sum(resid ** 2)\n",
    "print(squares_resid)"
   ]
  },
  {
   "cell_type": "markdown",
   "metadata": {},
   "source": [
    "#### 方差分析：计算组间方差与组内方差\n",
    "样本方差和无偏方差是有一定的区别的\n",
    "\n",
    "组间差异的自由度取决于水平数量。\n",
    "组内差异的自由度取决于样本容量和水平数量。\n",
    "反正看推导就知道啦"
   ]
  },
  {
   "cell_type": "code",
   "execution_count": 20,
   "metadata": {},
   "outputs": [
    {
     "name": "stdout",
     "output_type": "stream",
     "text": [
      "32.0\n",
      "2.0\n"
     ]
    }
   ],
   "source": [
    "df_model = 2 # 组间差异的自由度\n",
    "df_resid = 3 # 组内差异的自由度\n",
    "\n",
    "# 组内方差\n",
    "variance_model = squares_model / df_model\n",
    "print(variance_model)\n",
    "\n",
    "# 组间方差\n",
    "variance_resid = squares_resid / df_resid\n",
    "print(variance_resid)"
   ]
  },
  {
   "cell_type": "markdown",
   "metadata": {},
   "source": [
    "#### 方差分析：计算p值\n"
   ]
  },
  {
   "cell_type": "code",
   "execution_count": 21,
   "metadata": {},
   "outputs": [
    {
     "name": "stdout",
     "output_type": "stream",
     "text": [
      "16.0\n"
     ]
    },
    {
     "data": {
      "text/plain": [
       "0.02509457330439091"
      ]
     },
     "execution_count": 21,
     "metadata": {},
     "output_type": "execute_result"
    }
   ],
   "source": [
    "f_ratio = variance_model / variance_resid\n",
    "print(f_ratio)\n",
    "\n",
    "# 通过sp.stats.f.cdf函数使用F分布的累计分布函数计算p值\n",
    "# 参数为F比的值和2个自由度\n",
    "1 - sp.stats.f.cdf(x = f_ratio, dfn = df_model, dfd = df_resid)\n"
   ]
  }
 ],
 "metadata": {
  "interpreter": {
   "hash": "31f2aee4e71d21fbe5cf8b01ff0e069b9275f58929596ceb00d14d90e3e16cd6"
  },
  "kernelspec": {
   "display_name": "Python 3.6.8 64-bit",
   "language": "python",
   "name": "python3"
  },
  "language_info": {
   "codemirror_mode": {
    "name": "ipython",
    "version": 3
   },
   "file_extension": ".py",
   "mimetype": "text/x-python",
   "name": "python",
   "nbconvert_exporter": "python",
   "pygments_lexer": "ipython3",
   "version": "3.7.8"
  },
  "orig_nbformat": 4
 },
 "nbformat": 4,
 "nbformat_minor": 2
}
