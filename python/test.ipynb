{
 "cells": [
  {
   "cell_type": "markdown",
   "source": [
    "# 认识numpy 和 pandas \r\n",
    "\r\n",
    "## 区别\r\n",
    "- numpy 主要使用array类，它的矩阵计算十分强大；\r\n",
    "- pandas 主要使用DataFrame（实际上是ndarray）类，这个类用来管理数据。"
   ],
   "metadata": {}
  },
  {
   "cell_type": "code",
   "execution_count": 44,
   "source": [
    "import pandas as pd\r\n",
    "import numpy as np\r\n",
    "\r\n",
    "# 列表\r\n",
    "sample_array = np.array([1,2,3,4,5])\r\n",
    "sample_array\r\n",
    "\r\n",
    "# 对数组进行的运算会作用到数组的每个元素上\r\n",
    "sample_array + 2\r\n",
    "\r\n",
    "# 如果放置不同类型的数据，那么它就会有小情绪\r\n",
    "# 就会变成字符串\r\n",
    "np.array([1, 2, \"Q\"])\r\n",
    "\r\n",
    "# 二维数组\r\n",
    "sample_array_2 = np.array(\r\n",
    "    [[1,2,3,4,5],\r\n",
    "    [6,7,8, 9, 10]]\r\n",
    ")\r\n",
    "sample_array_2\r\n",
    "\r\n",
    "# 行数和列数\r\n",
    "sample_array_2.shape\r\n"
   ],
   "outputs": [
    {
     "output_type": "execute_result",
     "data": {
      "text/plain": [
       "(2, 5)"
      ]
     },
     "metadata": {},
     "execution_count": 44
    }
   ],
   "metadata": {}
  },
  {
   "cell_type": "markdown",
   "source": [
    "- 等差数列"
   ],
   "metadata": {}
  },
  {
   "cell_type": "code",
   "execution_count": 45,
   "source": [
    "import pandas as pd\r\n",
    "import numpy as np\r\n",
    "\r\n",
    "#  等差数列\r\n",
    "# 其实range 和 arange还是有很大的区别的\r\n",
    "np.arange(start = 1, stop = 6, step = 0.2)"
   ],
   "outputs": [
    {
     "output_type": "execute_result",
     "data": {
      "text/plain": [
       "array([1. , 1.2, 1.4, 1.6, 1.8, 2. , 2.2, 2.4, 2.6, 2.8, 3. , 3.2, 3.4,\n",
       "       3.6, 3.8, 4. , 4.2, 4.4, 4.6, 4.8, 5. , 5.2, 5.4, 5.6, 5.8])"
      ]
     },
     "metadata": {},
     "execution_count": 45
    }
   ],
   "metadata": {}
  },
  {
   "cell_type": "markdown",
   "source": [],
   "metadata": {}
  },
  {
   "cell_type": "markdown",
   "source": [
    "- 多种生成数组的方式"
   ],
   "metadata": {}
  },
  {
   "cell_type": "code",
   "execution_count": 51,
   "source": [
    "np.tile(\"A\", 5)\r\n",
    "np.tile(0, 4)\r\n",
    "# 生成只有0的数组\r\n",
    "np.zeros(4)\r\n",
    "np.zeros([2,3])\r\n",
    "# 生成只有1的数组\r\n",
    "np.ones(3)"
   ],
   "outputs": [
    {
     "output_type": "execute_result",
     "data": {
      "text/plain": [
       "array([1., 1., 1.])"
      ]
     },
     "metadata": {},
     "execution_count": 51
    }
   ],
   "metadata": {}
  },
  {
   "cell_type": "markdown",
   "source": [
    "-   切片(slice)"
   ],
   "metadata": {}
  },
  {
   "cell_type": "code",
   "execution_count": 52,
   "source": [
    "d1_array = np.array([1,2,3,4,5])\r\n",
    "d1_array"
   ],
   "outputs": [],
   "metadata": {}
  }
 ],
 "metadata": {
  "orig_nbformat": 4,
  "language_info": {
   "name": "python",
   "version": "3.7.8",
   "mimetype": "text/x-python",
   "codemirror_mode": {
    "name": "ipython",
    "version": 3
   },
   "pygments_lexer": "ipython3",
   "nbconvert_exporter": "python",
   "file_extension": ".py"
  },
  "kernelspec": {
   "name": "python3",
   "display_name": "Python 3.7.8 64-bit"
  },
  "interpreter": {
   "hash": "5eb28d37f67e3c7de6734a9961b262f30b15700927acf945dd85fe9d5c2ccba0"
  }
 },
 "nbformat": 4,
 "nbformat_minor": 2
}