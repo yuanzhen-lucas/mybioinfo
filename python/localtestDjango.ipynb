{
 "cells": [
  {
   "cell_type": "code",
   "execution_count": null,
   "metadata": {},
   "outputs": [],
   "source": []
  }
 ],
 "metadata": {
  "kernelspec": {
   "display_name": "Python 3.7.8 64-bit",
   "language": "python",
   "name": "python3"
  },
  "language_info": {
   "name": "python",
   "version": "3.7.8"
  },
  "orig_nbformat": 4,
  "vscode": {
   "interpreter": {
    "hash": "c7e4bfdc9e52f7cf38434a3b15902ea2a53c2a76de018dd37a57edb45a6169de"
   }
  }
 },
 "nbformat": 4,
 "nbformat_minor": 2
}
