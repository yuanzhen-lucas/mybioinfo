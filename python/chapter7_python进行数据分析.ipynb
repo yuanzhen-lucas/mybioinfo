{
 "cells": [
  {
   "attachments": {},
   "cell_type": "markdown",
   "metadata": {},
   "source": [
    "# 7-1 机器学习基础\n",
    "机器学习是让计算机有学习能力, 主要分为有监督学习和无监督学习\n",
    "-   有监督学习\n",
    "    -   有监督学习研究的是问题存在正确答案\n",
    "-   无监督学习\n",
    "    -   问题需要尝试\n",
    "-   强化学习\n",
    "    -   给定条件下寻找最大的回报行为\n",
    "-   规则学习\n",
    "    -   按照人们给定的规则预测结果\n",
    "\n",
    "## 机器学习和统计学的关系\n",
    "\n",
    "机器学习和统计学有着密切的关系。机器学习可以看作是统计学和计算机科学的结合，它在理论研究方面本质上还是以统计学的理论为核心，而在应用领域则更偏重于计算机的实现1。统计学是模型驱动的，而机器学习则是算法驱动的1。机器学习强调大规模应用和预测准确性，而统计学习则强调模型及其可解释性、精度和不确定性2。\n",
    ">[论统计学与机器学习的关系与发展前景](https://blog.csdn.net/ajksunke/article/details/53038457)\n",
    "\n",
    ">[机器学习和统计学习的区别：10个统计分析方法](https://blog.csdn.net/ajksunke/article/details/53038457)"
   ]
  },
  {
   "attachments": {},
   "cell_type": "markdown",
   "metadata": {},
   "source": [
    "## 正则化、Ridge回归与Lasso回归\n",
    "正则化、Ridge回归和Lasso回归都是机器学习中用于解决过拟合问题的常见技术。\n",
    "\n",
    "在参数估计中，像损失函数引入惩罚指标以防系数过大的措施叫正则化。在线性回归中，正则化项通常是模型参数的平方和或绝对值之和。正则化可以有效地减少模型的过拟合，提高模型的泛化能力。\n",
    "\n",
    "正则化是一种用于防止过拟合的技术。过拟合是指模型在训练数据上表现得很好，但在新数据上表现不佳的情况。这通常是由于模型过于复杂，以至于它能够“记住”训练数据中的噪声和异常值，而不是学习到真正有用的信息。\n",
    "\n",
    "正则化通过在损失函数中添加一个正则化项来限制模型的复杂度，从而防止过拟合。这个正则化项通常与模型参数有关，它会惩罚模型参数过大或过小的情况。这样，模型就不能随意地拟合训练数据中的噪声和异常值，而只能学习到真正有用的信息。\n",
    "\n",
    "常见的正则化方法包括L1正则化和L2正则化。它们分别通过在损失函数中添加模型参数的绝对值之和和平方和作为正则化项来实现。这两种方法都可以有效地防止过拟合，但它们之间也有一些区别。\n",
    "\n",
    "\n",
    "Ridge回归和Lasso回归都是基于正则化的线性回归方法。Ridge回归是通过添加L2正则化项来限制模型参数的平方和，而Lasso回归则是通过添加L1正则化项来限制模型参数的绝对值之和。相比于普通的线性回归，Ridge回归和Lasso回归可以在不降低模型预测能力的情况下，有效地缩小模型参数的范围，避免过拟合。\n",
    "\n",
    "Ridge回归和Lasso回归的不同之处在于，Lasso回归会将一部分参数缩小至零，从而实现特征选择的效果，而Ridge回归则会将参数缩小但不会将其缩小至零。因此，在应用Ridge回归和Lasso回归时，需要根据具体问题选择合适的方法。\n",
    "\n",
    "总之，正则化、Ridge回归和Lasso回归是机器学习中重要的技术，可以帮助我们解决过拟合问题，提高模型的泛化能力和预测性能。\n",
    "\n",
    "### 例子\n",
    "Ridge回归和Lasso回归都是正则化线性回归的方法，它们的数学公式如下：\n",
    "\n",
    "对于普通的线性回归，假设有 $n$ 个样本和 $p$ 个特征，用 $X \\in \\mathbb{R}^{n \\times p}$ 表示特征矩阵，$y \\in \\mathbb{R}^n$ 表示响应变量向量。线性回归的目标是找到一个参数向量 $\\beta \\in \\mathbb{R}^p$ 使得预测值 $\\hat{y} = X\\beta$ 最小化残差平方和：\n",
    "\n",
    "$$\\min_{\\beta} |y - X\\beta|^2$$\n",
    "\n",
    "在Ridge回归和Lasso回归中，我们添加一个正则化项来限制参数向量的大小。Ridge回归使用L2正则化项，Lasso回归使用L1正则化项，因此它们的目标函数如下：\n",
    "\n",
    "Ridge回归：\n",
    "\n",
    "$$\\min_{\\beta} |y - X\\beta|^2 + \\alpha |\\beta|^2$$\n",
    "\n",
    "其中，$\\alpha$ 是正则化力度，可以控制参数向量的大小。L2正则化项 $\\alpha \\|\\beta\\|^2$ 会使参数向量的大小缩小，但不会使其中任何一个参数缩小至零。\n",
    "\n",
    "Lasso回归：\n",
    "\n",
    "$$\\min_{\\beta} |y - X\\beta|^2 + \\alpha |\\beta|$$\n",
    "\n",
    "其中，L1正则化项 $\\alpha |\\beta|$ 会使部分参数缩小至零，从而实现特征选择的效果。这是因为L1正则化项具有稀疏性，可以将一些不重要的特征的系数缩小至零。\n",
    "\n",
    "在实际应用中，我们需要通过交叉验证等方法来选择合适的正则化参数 $\\alpha$，以平衡模型的拟合能力和泛化能力。\n",
    "\n",
    ">[正则化是什么？以及Ridge和 Lasso回归的区别](https://zhuanlan.zhihu.com/p/111562068)"
   ]
  },
  {
   "attachments": {},
   "cell_type": "markdown",
   "metadata": {},
   "source": [
    "### 确定正则化强度\n",
    "正则化强度是一个超参数(α),可以通过交叉验证来确定。在交叉验证过程中，可以尝试不同的正则化强度值，最后选取预测精度最高的值。这个过程可以通过网格搜索或随机搜索来实现。\n",
    "\n",
    "交叉验证是一种评估模型泛化能力的方法。它通过将数据集分成若干份，然后在其中一份上训练模型，在另一份上测试模型的性能，来评估模型的泛化能力。这个过程可以重复多次，每次使用不同的数据划分，最后取所有测试结果的平均值作为模型的最终评估结果。常见的交叉验证方法有 k 折交叉验证和留一交叉验证。\n",
    "\n",
    "### 解释变量标准化\n",
    "在进行Ridge回归或Lasso回归之前,应当将解释变量标准化，即让解释变量的均值为0，标准差为1。\n",
    "在机器学习中，解释变量标准化是一个常见的预处理步骤，其目的是将解释变量（也称为特征）缩放到统一的范围。这是因为，不同的特征通常具有不同的尺度和范围，这可能会导致某些特征在模型训练中对结果的影响更大，从而影响模型的性能。\n",
    "\n",
    "通过标准化，我们可以将所有的特征缩放到同一尺度，消除不同特征之间的量纲影响，使得模型中的每个特征都可以对模型的结果产生相同的影响。这样可以更好地比较不同特征对模型预测的贡献，提高模型的性能和稳定性。\n",
    "\n",
    "此外，标准化还可以帮助我们处理异常值和离群值，提高模型的鲁棒性和准确性。\n",
    "\n",
    "### 变量选择与正则化的对比\n",
    "变量选择（如AIC最小准则）会从模型中去除不必要的解释变量，从而减少需要估计的参数个数，简化模型，以便更好地避免出现过拟合的问题。\n",
    "另外一种避免过拟合的方法就是正则化。\n",
    "进行AIC变量选择时，要列局搜友的变量组合，对每种组合进行模型估计，在惊醒这些模型的AIC。这个过程的计算量很大。而Ridge回归或者Lassco回归的计算量比较小，海适合用于包含多种解释变量的模型，其结果的复杂度也是适中的。\n",
    "\n",
    "一些数据的解释变量的种类数甚至比样本容量大，这样的数据就难以应用普通最小二乘法，最大似然法等方法进行参数估计，也难进行AIC变量选择，但可以使用Lasso回归处理。"
   ]
  },
  {
   "attachments": {},
   "cell_type": "markdown",
   "metadata": {},
   "source": [
    "### Python中的Ridge回归与Lasso回归"
   ]
  },
  {
   "cell_type": "code",
   "execution_count": 2,
   "metadata": {},
   "outputs": [
    {
     "name": "stderr",
     "output_type": "stream",
     "text": [
      "C:\\Users\\Cherry\\AppData\\Roaming\\Python\\Python37\\site-packages\\ipykernel_launcher.py:22: DeprecationWarning: scipy.mean is deprecated and will be removed in SciPy 2.0.0, use numpy.mean instead\n",
      "C:\\Users\\Cherry\\AppData\\Roaming\\Python\\Python37\\site-packages\\ipykernel_launcher.py:24: DeprecationWarning: scipy.mean is deprecated and will be removed in SciPy 2.0.0, use numpy.mean instead\n",
      "C:\\Users\\Cherry\\AppData\\Roaming\\Python\\Python37\\site-packages\\ipykernel_launcher.py:26: DeprecationWarning: scipy.mean is deprecated and will be removed in SciPy 2.0.0, use numpy.mean instead\n",
      "C:\\Users\\Cherry\\AppData\\Roaming\\Python\\Python37\\site-packages\\ipykernel_launcher.py:27: DeprecationWarning: scipy.std is deprecated and will be removed in SciPy 2.0.0, use numpy.std instead\n",
      "C:\\Users\\Cherry\\AppData\\Roaming\\Python\\Python37\\site-packages\\ipykernel_launcher.py:28: DeprecationWarning: scipy.mean is deprecated and will be removed in SciPy 2.0.0, use numpy.mean instead\n",
      "C:\\Users\\Cherry\\AppData\\Roaming\\Python\\Python37\\site-packages\\ipykernel_launcher.py:30: DeprecationWarning: scipy.std is deprecated and will be removed in SciPy 2.0.0, use numpy.std instead\n"
     ]
    },
    {
     "data": {
      "text/plain": [
       "X_1    1.0\n",
       "X_2    1.0\n",
       "X_3    1.0\n",
       "dtype: float64"
      ]
     },
     "execution_count": 2,
     "metadata": {},
     "output_type": "execute_result"
    }
   ],
   "source": [
    "# 7-3\n",
    "import numpy as np\n",
    "import pandas as pd\n",
    "import scipy as sp\n",
    "from scipy import stats\n",
    "# 用于绘图的库\n",
    "from matplotlib import pyplot as plt\n",
    "import seaborn as sns\n",
    "sns.set()\n",
    "# 用于统计模型的库（部分版本会爆出警告信息）\n",
    "import statsmodels.formula.api as smf\n",
    "import statsmodels.api as sm\n",
    "# 用于机器学习的库\n",
    "from sklearn import linear_model\n",
    "# 设置浮点数打印精度\n",
    "%precision 3\n",
    "X = pd.read_csv(\"./data/7-3-1-large-data.csv\")\n",
    "X.head(3)\n",
    "\n",
    "# 标准化\n",
    "# 标准化就是所有数据减去均值并除以标准差，最终的数据的均值是0，标准差是1\n",
    "sp.mean(X.X_1)\n",
    "\n",
    "sp.mean(X, axis = 0).head(3)\n",
    "\n",
    "X -= sp.mean(X, axis = 0)\n",
    "X /= sp.std(X, ddof = 1, axis = 0)\n",
    "sp.mean(X, axis = 0).head(3).round(3)\n",
    "# 查看标准差\n",
    "sp.std(X, ddof = 1, axis = 0).head(3)\n",
    "\n"
   ]
  },
  {
   "cell_type": "code",
   "execution_count": 3,
   "metadata": {},
   "outputs": [],
   "source": [
    "# 定义响应变量\n",
    "# 服从正态分布的噪声\n",
    "np.random.seed(1)\n",
    "noise = sp.stats.norm.rvs(loc = 0, scale = 1, size = X.shape[0])\n",
    "# 设正确系数为5,定义响应变量\n",
    "y = X.X_1 * 5 + noise"
   ]
  },
  {
   "cell_type": "code",
   "execution_count": 4,
   "metadata": {},
   "outputs": [
    {
     "data": {
      "text/plain": [
       "<seaborn.axisgrid.JointGrid at 0x29dd1b11808>"
      ]
     },
     "execution_count": 4,
     "metadata": {},
     "output_type": "execute_result"
    },
    {
     "data": {
      "image/png": "[encoded data removed]",
      "text/plain": [
       "<Figure size 432x432 with 3 Axes>"
      ]
     },
     "metadata": {},
     "output_type": "display_data"
    }
   ],
   "source": [
    "# 把响应变量和解释变量放在一起\n",
    "large_data = pd.concat([pd.DataFrame({\"y\":y}), X], axis = 1)\n",
    "# 绘制散点图\n",
    "sns.jointplot(y = \"y\", x  = \"X_1\", data =  large_data)"
   ]
  },
  {
   "cell_type": "code",
   "execution_count": 5,
   "metadata": {},
   "outputs": [
    {
     "data": {
      "text/plain": [
       "array([ 14.755, -87.463, 211.743])"
      ]
     },
     "execution_count": 5,
     "metadata": {},
     "output_type": "execute_result"
    }
   ],
   "source": [
    "# 普通最小二乘法\n",
    "lm_statmodels = sm.OLS(endog = y, exog = X).fit()\n",
    "lm_statmodels.params.head(3)\n",
    "\n",
    "# scikit-learn其实也有普通最小二乘法的正态线性模型估计\n",
    "\n",
    "# 指定模型的结构\n",
    "lm_sklearn = linear_model.LinearRegression()\n",
    "# 指定数据来源并估计模型\n",
    "lm_sklearn.fit(X, y)\n",
    "# 所估计的参数（数组型）\n",
    "lm_sklearn.coef_[:3]"
   ]
  },
  {
   "attachments": {},
   "cell_type": "markdown",
   "metadata": {},
   "source": [
    "#### Ridge 回归:惩罚指标的影响"
   ]
  },
  {
   "cell_type": "code",
   "execution_count": 6,
   "metadata": {},
   "outputs": [
    {
     "name": "stderr",
     "output_type": "stream",
     "text": [
      "C:\\Users\\Cherry\\AppData\\Roaming\\Python\\Python37\\site-packages\\ipykernel_launcher.py:8: DeprecationWarning: scipy.log10 is deprecated and will be removed in SciPy 2.0.0, use numpy.lib.scimath.log10 instead\n",
      "  \n",
      "C:\\Users\\Cherry\\AppData\\Roaming\\Python\\Python37\\site-packages\\ipykernel_launcher.py:24: DeprecationWarning: scipy.log10 is deprecated and will be removed in SciPy 2.0.0, use numpy.lib.scimath.log10 instead\n"
     ]
    },
    {
     "data": {
      "text/plain": [
       "Text(0, 0.5, 'Coefficients')"
      ]
     },
     "execution_count": 6,
     "metadata": {},
     "output_type": "execute_result"
    },
    {
     "data": {
      "image/png": "[encoded data removed]",
      "text/plain": [
       "<Figure size 432x288 with 1 Axes>"
      ]
     },
     "metadata": {},
     "output_type": "display_data"
    }
   ],
   "source": [
    "# 正则化的核心就是确定正则化强度α\n",
    "# 生成50个α\n",
    "n_alphas = 50\n",
    "\n",
    "# 将结果以10为底，取对数后，得到的等差数列\n",
    "ridge_alphas = np.logspace(-2, 0.7, n_alphas)\n",
    "\n",
    "sp.log10(ridge_alphas)\n",
    "\n",
    "# 存放已估计的回归系数的列表\n",
    "ridge_coefs = []\n",
    "# 使用for循环多次估计Ridge回归\n",
    "for a in ridge_alphas:\n",
    "    ridge = linear_model.Ridge(alpha = a, fit_intercept = False)\n",
    "    ridge.fit(X, y)\n",
    "    ridge_coefs.append(ridge.coef_)\n",
    "\n",
    "# 将估计好的系数转换成numpy数组\n",
    "ridge_coefs = np.array(ridge_coefs)\n",
    "ridge_coefs.shape\n",
    "\n",
    "# 结果是50行100列\n",
    "# 对α取对数\n",
    "log_alphas = -sp.log10(ridge_alphas)\n",
    "# 绘制曲线，横轴是-log10(α)，纵轴是系数,这样的图形叫做解路径图(solution path)\n",
    "plt.plot(log_alphas, ridge_coefs)\n",
    "# 标出解释变量X_1的系数\n",
    "plt.text(max(log_alphas) + 0.1, np.array(ridge_coefs)[0, 0], \"X_1\")\n",
    "# X轴的范围\n",
    "plt.xlim(min(log_alphas) - 0.1, max(log_alphas) + 0.3)\n",
    "# 轴标签\n",
    "plt.title(\"Ridge\")\n",
    "plt.xlabel(\"- log10(alpha)\")\n",
    "plt.ylabel(\"Coefficients\")\n"
   ]
  },
  {
   "attachments": {},
   "cell_type": "markdown",
   "metadata": {},
   "source": [
    "##### Ridge回归：确定最佳正则化强度"
   ]
  },
  {
   "cell_type": "code",
   "execution_count": 7,
   "metadata": {},
   "outputs": [
    {
     "name": "stderr",
     "output_type": "stream",
     "text": [
      "C:\\Users\\Cherry\\AppData\\Roaming\\Python\\Python37\\site-packages\\ipykernel_launcher.py:7: DeprecationWarning: scipy.log10 is deprecated and will be removed in SciPy 2.0.0, use numpy.lib.scimath.log10 instead\n",
      "  import sys\n"
     ]
    },
    {
     "data": {
      "text/plain": [
       "array([ 4.463,  1.288,  0.293, -0.091, -0.201, -0.233, -0.215, -0.206,\n",
       "       -0.145, -0.135, -0.155, -0.046, -0.097, -0.017, -0.11 , -0.012,\n",
       "       -0.094,  0.013, -0.018, -0.031,  0.025, -0.029,  0.043, -0.087,\n",
       "        0.127,  0.021,  0.055, -0.077,  0.141, -0.007,  0.099,  0.116,\n",
       "       -0.044,  0.037, -0.034,  0.015,  0.123, -0.171, -0.007, -0.182,\n",
       "        0.09 ,  0.222,  0.035, -0.032, -0.008,  0.025,  0.338, -0.193,\n",
       "       -0.108,  0.212, -0.128, -0.246,  0.249,  0.128, -0.155,  0.27 ,\n",
       "        0.03 , -0.165, -0.178,  0.158, -0.011,  0.013,  0.194,  0.134,\n",
       "       -0.156, -0.018,  0.256,  0.223, -0.185,  0.006,  0.535,  0.181,\n",
       "       -0.348, -0.123,  0.226, -0.043, -0.115, -0.053,  0.209,  0.189,\n",
       "       -0.042, -0.205, -0.099,  0.059, -0.224,  0.15 , -0.039, -0.113,\n",
       "        0.21 ,  0.012,  0.129, -0.032, -0.022, -0.229, -0.198,  0.245,\n",
       "       -0.305, -0.396, -0.163,  0.164])"
      ]
     },
     "execution_count": 7,
     "metadata": {},
     "output_type": "execute_result"
    }
   ],
   "source": [
    "# 通过交叉验证法求α\n",
    "ridge_best = linear_model.RidgeCV(\n",
    "    cv = 10, alphas = ridge_alphas, fit_intercept = False\n",
    ")\n",
    "ridge_best.fit(X, y)\n",
    "# 最佳的α\n",
    "-sp.log10(ridge_best.alpha_)\n",
    "ridge_best.alpha_\n",
    "ridge_best.coef_\n",
    "\n"
   ]
  },
  {
   "attachments": {},
   "cell_type": "markdown",
   "metadata": {},
   "source": [
    "##### Lasso回归：惩罚指标的影响\n",
    "与Ridge回归一样，画出解路径图"
   ]
  },
  {
   "cell_type": "code",
   "execution_count": 8,
   "metadata": {},
   "outputs": [
    {
     "name": "stderr",
     "output_type": "stream",
     "text": [
      "C:\\Users\\Cherry\\AppData\\Roaming\\Python\\Python37\\site-packages\\ipykernel_launcher.py:5: DeprecationWarning: scipy.log10 is deprecated and will be removed in SciPy 2.0.0, use numpy.lib.scimath.log10 instead\n",
      "  \"\"\"\n"
     ]
    },
    {
     "data": {
      "text/plain": [
       "Text(0, 0.5, 'Coefficients')"
      ]
     },
     "execution_count": 8,
     "metadata": {},
     "output_type": "execute_result"
    },
    {
     "data": {
      "image/png": "[encoded data removed]",
      "text/plain": [
       "<Figure size 432x288 with 1 Axes>"
      ]
     },
     "metadata": {},
     "output_type": "display_data"
    }
   ],
   "source": [
    "lasso_alphas, lasso_coefs, _ = linear_model.lasso_path(X, y, \n",
    "                                                       fit_intercept = False)\n",
    "\n",
    "# 对α取对数\n",
    "log_alphas = -sp.log10(lasso_alphas)\n",
    "# 绘制曲线，横轴为-log10(α)，纵轴是系数\n",
    "plt.plot(log_alphas, lasso_coefs.T)\n",
    "# 标出解释变量X_1的私塾\n",
    "plt.text(max(log_alphas) + 0.1 , lasso_coefs[0, -1], \"X_1\")\n",
    "# X轴的范围\n",
    "plt.xlim([min(log_alphas) - 0.1, max(log_alphas) + 0.3])\n",
    "# 轴标签\n",
    "plt.title(\"Lasso\")\n",
    "plt.xlabel(\"- log10(α)\")\n",
    "plt.ylabel(\"Coefficients\")\n",
    "\n",
    "\n",
    "# 除了X_1之外，其余解释变量基本为0，这就是L1正则化的效果"
   ]
  },
  {
   "attachments": {},
   "cell_type": "markdown",
   "metadata": {},
   "source": [
    "##### Lasso回归：确定最佳正则化强度\n"
   ]
  },
  {
   "cell_type": "code",
   "execution_count": 9,
   "metadata": {},
   "outputs": [
    {
     "name": "stderr",
     "output_type": "stream",
     "text": [
      "C:\\Users\\Cherry\\AppData\\Roaming\\Python\\Python37\\site-packages\\ipykernel_launcher.py:7: DeprecationWarning: scipy.log10 is deprecated and will be removed in SciPy 2.0.0, use numpy.lib.scimath.log10 instead\n",
      "  import sys\n"
     ]
    },
    {
     "data": {
      "text/plain": [
       "array([ 5.336e+00, -0.000e+00, -0.000e+00, -3.043e-01, -4.121e-02,\n",
       "       -0.000e+00, -0.000e+00, -0.000e+00, -0.000e+00, -0.000e+00,\n",
       "       -0.000e+00, -0.000e+00, -0.000e+00, -0.000e+00, -0.000e+00,\n",
       "       -0.000e+00, -0.000e+00, -0.000e+00, -0.000e+00, -0.000e+00,\n",
       "       -0.000e+00, -0.000e+00, -0.000e+00, -0.000e+00, -0.000e+00,\n",
       "       -0.000e+00, -0.000e+00, -0.000e+00,  0.000e+00, -0.000e+00,\n",
       "        0.000e+00,  0.000e+00, -0.000e+00,  0.000e+00,  0.000e+00,\n",
       "        0.000e+00,  0.000e+00, -0.000e+00,  0.000e+00,  0.000e+00,\n",
       "        0.000e+00,  0.000e+00,  0.000e+00,  0.000e+00,  0.000e+00,\n",
       "        0.000e+00,  0.000e+00,  0.000e+00,  0.000e+00,  0.000e+00,\n",
       "        0.000e+00,  0.000e+00,  0.000e+00,  0.000e+00,  0.000e+00,\n",
       "        0.000e+00,  0.000e+00,  0.000e+00,  0.000e+00,  0.000e+00,\n",
       "        0.000e+00,  0.000e+00,  0.000e+00,  0.000e+00,  0.000e+00,\n",
       "        0.000e+00,  0.000e+00,  0.000e+00,  0.000e+00,  0.000e+00,\n",
       "        8.425e-03,  0.000e+00,  0.000e+00,  0.000e+00,  0.000e+00,\n",
       "        0.000e+00,  0.000e+00,  0.000e+00,  0.000e+00,  0.000e+00,\n",
       "        0.000e+00,  0.000e+00,  0.000e+00,  0.000e+00,  0.000e+00,\n",
       "        0.000e+00,  0.000e+00,  0.000e+00,  0.000e+00,  0.000e+00,\n",
       "        0.000e+00,  0.000e+00,  0.000e+00,  0.000e+00,  0.000e+00,\n",
       "        7.192e-04,  0.000e+00,  0.000e+00,  0.000e+00,  0.000e+00])"
      ]
     },
     "execution_count": 9,
     "metadata": {},
     "output_type": "execute_result"
    }
   ],
   "source": [
    "# 下面使用交叉验证发求最佳的α\n",
    "lasso_best = linear_model.LassoCV(\n",
    "    cv = 10, alphas = lasso_alphas, fit_intercept = False\n",
    ")\n",
    "\n",
    "lasso_best.fit(X, y)\n",
    "-sp.log10(lasso_best.alpha_)\n",
    "\n",
    "# 最佳α\n",
    "lasso_best.alphas_\n",
    "\n",
    "lasso_best.coef_"
   ]
  },
  {
   "attachments": {},
   "cell_type": "markdown",
   "metadata": {},
   "source": [
    "### 线性模型与神经网络\n"
   ]
  },
  {
   "attachments": {},
   "cell_type": "markdown",
   "metadata": {},
   "source": [
    "#### 输入向量、目标向量、权重、偏置\n",
    "\n",
    "统计模型与机器学习中表示的同一概念的不同\n",
    "解释变量叫做输入向量\n",
    "响应向量叫做目标向量\n",
    "系数叫做权重\n",
    "\n",
    "在机器学习中，偏置（bias）是指模型在处理数据时对结果的预测偏差。它通常是指模型的偏置参数（bias parameter），它是一个常数，用于对模型进行线性偏移。在训练模型时，偏置参数是模型的可学习参数之一，通常与权重参数一起被优化。\n",
    "\n",
    "在神经网络中，偏置被添加到每个神经元的加权输入中，以控制神经元在没有输入时的输出值。例如，对于一个简单的单层感知器模型，偏置可以被看作是神经元的阈值，决定神经元是否会被激活。偏置的调整可以改变神经元的激活率，从而影响整个神经网络的输出。\n",
    "\n",
    "在实际应用中，偏置的选择和调整是一个重要的问题。如果偏置设置不当，模型可能会出现欠拟合或过拟合的问题，从而导致性能下降。因此，对于给定的数据集，选择合适的偏置参数是训练模型的一个重要步骤。\n",
    "\n",
    "以下是三层感知机示意图，使用LaTeX绘制：\n",
    "\n",
    "$$\n",
    "\\begin{matrix}\n",
    "\\text{输入层} & & \\text{隐藏层} & & \\text{输出层} \\\\\n",
    "\\begin{bmatrix}x_1 \\\\\\ x_2\\end{bmatrix} & & \\begin{bmatrix} & \\\\ & \\\\ & \\end{bmatrix} & & \\begin{bmatrix} y_1 \\\\ y_2 \\end{bmatrix} \\\\\n",
    "& & \\begin{matrix} \\mathbf{W}_1 & \\mathbf{b}_1 \\\\ \\mathbf{W}_2 & \\mathbf{b}_2 \\\\ \\end{matrix} & & \\begin{matrix} \\mathbf{W}_3 & \\mathbf{b}_3 \\\\ \\mathbf{W}_4 & \\mathbf{b}_4 \\\\ \\end{matrix} \\\\\n",
    "& \\xrightarrow{\\mathbf{W}_1}\\circledcirc & \\begin{bmatrix} & \\\\ \\mathbf{W}_1^{T} & \\\\ \\mathbf{W}_2^{T} &  \\\\ \\end{bmatrix} \\xrightarrow{f(\\cdot)} & \\begin{bmatrix} f(\\mathbf{W}_3^{T}\\mathbf{h} + \\mathbf{b}_3) \\\\ f(\\mathbf{W}_4^{T}\\mathbf{h} + \\mathbf{b}_4) \\\\ \\end{bmatrix} \\\\\n",
    "\\mathbf{x} & & & & \\mathbf{h} \\\\\n",
    "& \\xrightarrow{\\mathbf{W}_2}\\circledcirc & \\begin{bmatrix} & \\\\ \\mathbf{W}_1 & \\\\ \\mathbf{W}_2 &  \\\\ \\end{bmatrix} \\xrightarrow{f(\\cdot)} & \\begin{bmatrix} \\\\ \\\\ f(\\mathbf{W}_1\\mathbf{h} + \\mathbf{b}_2) \\\\ \\\\ \\end{bmatrix} \\\\\n",
    "\\end{matrix}\n",
    "$$\n",
    "\n",
    "其中，$\\mathbf{W}_1, \\mathbf{W}_2, \\mathbf{W}_3, \\mathbf{W}_4$分别表示输入层到隐藏层和隐藏层到输出层的权重矩阵，$\\mathbf{b}_1, \\mathbf{b}_2, \\mathbf{b}_3, \\mathbf{b}_4$分别表示隐藏层和输出层的偏置向量，$f(\\cdot)$表示激活函数。箭头表示矩阵之间的乘法方向，$\\circledcirc$表示点乘运算，加粗字体表示向量或矩阵。"
   ]
  },
  {
   "attachments": {},
   "cell_type": "markdown",
   "metadata": {},
   "source": [
    "#### 单层感知机\n",
    "单层感知机使用的激活函数是阶跃函数（step function），它的输出只有两个取值，一般为0和1（或-1和1）。阶跃函数的定义如下：\n",
    "\n",
    "$$\n",
    "\\text{step}(x) = \\begin{cases}\n",
    "1,\\ x > 0 \\\\\n",
    "0,\\ x \\leq 0\n",
    "\\end{cases}\n",
    "$$\n",
    "\n",
    "在二分类问题中，单层感知机可以根据给定的训练数据学习一个线性分类器，即将输入向量$\\mathbf{x}$映射到类别1或类别0。具体地，对于一个输入向量$\\mathbf{x}$，单层感知机首先将其与权重向量$\\mathbf{w}$做点积，然后加上偏置$b$，得到一个实数值：\n",
    "\n",
    "$$\n",
    "z = \\mathbf{w}^T\\mathbf{x} + b\n",
    "$$\n",
    "\n",
    "然后将$z$输入到阶跃函数中，得到单层感知机的输出：\n",
    "\n",
    "$$\n",
    "\\hat{y} = \\text{step}(z)\n",
    "$$\n",
    "\n",
    "如果$z > 0$，则$\\hat{y}=1$；否则$\\hat{y}=0$。由于阶跃函数的输出只有0和1两种取值，因此单层感知机的输出也只有0和1两种取值，即二值输出。\n",
    "\n",
    "改变阶跃函数可以扩展单层感知机的功能。logistic函数、恒等函数都可以作为激活函数使用。\n",
    "常用的激活函数是线性蒸馏函数（Rectified Linear Unit, ReLU）。通常叫做ReLU函数\n",
    "\n",
    "以下是用ASCII码绘制的ReLU函数的例子，类似于坐标轴的形式：\n",
    "\n",
    "```\n",
    "   |\n",
    "  2|            /\n",
    "   |           /\n",
    "  1|          /\n",
    "   |         /\n",
    "  0|________/\n",
    "   |\n",
    "   |\n",
    "   |\n",
    "   |\n",
    "___|____________________\n",
    "   |        0  1  2     x\n",
    "```\n",
    "\n",
    "在这个图形中，竖线表示函数值，下划线表示$x$的取值范围。可以看出，当$x<0$时，函数值为0；当$x\\geq0$时，函数值为$x$。函数在$x=0$处有一个拐点，这是因为ReLU函数在$x=0$处不连续，但它的导数在$x=0$处是存在的，因此可以使用梯度下降等优化算法进行训练。"
   ]
  },
  {
   "attachments": {},
   "cell_type": "markdown",
   "metadata": {},
   "source": [
    "#### 从线性模型到神经网络\n",
    "在估计感知机的权重最小。在二值分类问题中多采用交叉熵误差，在连续分类问题中多采用残差平方和。\n",
    "\n",
    "输入向量进入的地方叫做输入层；\n",
    "输出预测值的地方叫做输出层；\n",
    "输入层和输出层中间的部分叫做隐藏层，也叫中间层。\n",
    "\n",
    "\n",
    "多层感知机（Multiple Perceptron,MLP）组成的模型叫做前馈神经网络，一般叫做神经网络。\n",
    "含有多个隐藏层的模型也叫做深度学习（deep learning）\n",
    "\n",
    "神经网络的参数估计多使用随机梯度下降（SDG）、Adam等算法。\n",
    "可以参考参数估计的书：《详解深度学习：基于TensorFlow和Keras学习RNN》\n"
   ]
  },
  {
   "attachments": {},
   "cell_type": "markdown",
   "metadata": {},
   "source": [
    "#### 神经网络中的L2正则化\n",
    "模型变的复杂就可能引发过拟合，因此可以用L2正则化缓解这个问题。\n",
    "\n",
    "神经网络的超参数是指在训练神经网络时需要手动设置的参数，这些参数不会被网络学习得到，而是需要通过试验和调整来优化网络的性能。常见的神经网络超参数包括：\n",
    "\n",
    "1. 学习率（learning rate）：控制每次参数更新的步长大小。\n",
    "2. 批次大小（batch size）：指定每次训练时用来更新参数的样本数量。\n",
    "3. 迭代次数（number of iterations）：指定神经网络训练的轮数。\n",
    "4. 隐藏层数量（number of hidden layers）：指定神经网络中隐藏层的数量。\n",
    "5. 隐藏层节点数量（number of hidden layer nodes）：指定每个隐藏层中神经元的数量。\n",
    "6. 正则化（regularization）：控制神经网络的复杂度，防止过拟合，常见的正则化方法包括L1正则化和L2正则化。\n",
    "7. 激活函数（activation function）：用于在神经网络中引入非线性因素，常见的激活函数包括sigmoid、ReLU和tanh等。\n",
    "\n",
    "优化这些超参数的过程通常称为超参数调整或者超参数优化，可以通过手动调整超参数、网格搜索、随机搜索等方法来选取最优的超参数组合。"
   ]
  },
  {
   "cell_type": "code",
   "execution_count": 10,
   "metadata": {},
   "outputs": [
    {
     "name": "stdout",
     "output_type": "stream",
     "text": [
      "解释变量的行数与列数: (100, 2)\n",
      "响应变量的行数与列数: (100,)\n",
      "解释变量的行数与列数: (75, 2)\n",
      "响应变量的行数与列数: (75,)\n"
     ]
    }
   ],
   "source": [
    "# Ridge回归在提高预测进度时要使用开销较大的交叉验证。\n",
    "# 同样，在确定模型结构于超参数时，也需要做好充分的准备工作。\n",
    "\n",
    "# 估计复杂模型，可以考虑使用TensorFlow、Keras等工具\n",
    "# 用于数值计算的库\n",
    "import numpy as np\n",
    "import pandas as pd\n",
    "import scipy as sp\n",
    "# 用于估计模型的库\n",
    "import statsmodels.formula.api as smf\n",
    "import statsmodels.api as sm\n",
    "# 用于多层感知机\n",
    "from sklearn.neural_network import MLPClassifier\n",
    "# 导入数据\n",
    "from sklearn.datasets import load_iris\n",
    "# 将数据分成训练集和测试集\n",
    "from sklearn.model_selection import train_test_split\n",
    "# 将数据标准化\n",
    "from sklearn.preprocessing import StandardScaler\n",
    "# 设置浮点数打印精度\n",
    "%precision 3\n",
    "\n",
    "iris = load_iris()\n",
    "\n",
    "iris.feature_names\n",
    "\n",
    "iris.target_names\n",
    "\n",
    "# 解释变量仅为萼片（sepal)\n",
    "X = iris.data[50:150, 0:2]\n",
    "# 只取2种鸢尾花\n",
    "y = iris.target[50:150]\n",
    "\n",
    "print(\"解释变量的行数与列数:\", X.shape)\n",
    "print(\"响应变量的行数与列数:\", y.shape)\n",
    "\n",
    "# 为了预测精度，将数据分成训练集与测试集\n",
    "X_train, X_test, y_train, y_test = train_test_split(\n",
    "    X, y, random_state=2\n",
    ")\n",
    "print(\"解释变量的行数与列数:\", X_train.shape)\n",
    "print(\"响应变量的行数与列数:\", y_train.shape)\n"
   ]
  },
  {
   "cell_type": "code",
   "execution_count": 11,
   "metadata": {},
   "outputs": [
    {
     "name": "stdout",
     "output_type": "stream",
     "text": [
      "   species  sepal_len  sepal_wid\n",
      "0        0        5.7        2.8\n",
      "1        0        6.6        3.0\n",
      "2        1        6.1        3.0\n"
     ]
    }
   ],
   "source": [
    "# logistic 回归\n",
    "y_train[0:10]\n",
    "\n",
    "# 数据整理\n",
    "# 解释变量的数据帧\n",
    "X_train_df = pd.DataFrame(\n",
    "    X_train, columns=[\"sepal_len\", \"sepal_wid\"]\n",
    ")\n",
    "# 响应变量的数据帧\n",
    "y_train_df = pd.DataFrame({\"species\": y_train - 1})\n",
    "\n",
    "# 链接数据帧\n",
    "iris_train_df = pd.concat(\n",
    "    [y_train_df, X_train_df], axis = 1\n",
    ")\n",
    "\n",
    "# 打印下\n",
    "print(iris_train_df.head(3))"
   ]
  },
  {
   "cell_type": "code",
   "execution_count": 17,
   "metadata": {},
   "outputs": [
    {
     "name": "stdout",
     "output_type": "stream",
     "text": [
      "full 76.813\n",
      "len  76.234\n",
      "wid  92.768\n",
      "null 105.318\n",
      "训练集的命中率: 0.7466666666666667\n",
      "测试集的命中率: 0.68\n"
     ]
    }
   ],
   "source": [
    "# 模型化，对比各个变量的AIC,以完成变量选择\n",
    "\n",
    "# 模型化\n",
    "# 包含长度与宽度的模型\n",
    "logi_mode_full= smf.glm(\n",
    "    \"species ~ sepal_len + sepal_wid\", data = iris_train_df,\n",
    "    family = sm.families.Binomial()).fit()\n",
    "\n",
    "# 只包含长度的模型\n",
    "logi_mod_len= smf.glm(\n",
    "    \"species ~ sepal_len\", data = iris_train_df,\n",
    "    family=sm.families.Binomial()).fit()\n",
    "\n",
    "# 只包含宽度的模型\n",
    "logi_mod_wid = smf.glm(\n",
    "    \"species ~ sepal_wid\", data = iris_train_df,\n",
    "    family=sm.families.Binomial()).fit()\n",
    "\n",
    "# 空模型\n",
    "logi_mod_null = smf.glm(\n",
    "    \"species ~ 1\", data = iris_train_df,\n",
    "    family=sm.families.Binomial()).fit()\n",
    "\n",
    "# 对比AIC\n",
    "print(\"full\", logi_mode_full.aic.round(3))\n",
    "print(\"len \", logi_mod_len.aic.round(3))\n",
    "print(\"wid \", logi_mod_wid.aic.round(3))\n",
    "print(\"null\", logi_mod_null.aic.round(3))\n",
    "\n",
    "# full 76.813\n",
    "# len  76.234\n",
    "# wid  92.768\n",
    "# null 105.318\n",
    "\n",
    "# 可以看到只包含长度的(len)的模型最小\n",
    "logi_mod_len.summary().tables[1]\n",
    "# 可以看到萼片的系数是正数....\n",
    "\n",
    "# 数据整理\n",
    "X_test_df = pd.DataFrame(\n",
    "    X_test, columns = [\"sepal_len\", \"sepal_wid\"]\n",
    ")\n",
    "\n",
    "# 拟合与预测\n",
    "logi_fit = logi_mod_len.fittedvalues.round(0)\n",
    "logi_pred = logi_mod_len.predict(X_test_df).round(0)\n",
    "\n",
    "# 正确数\n",
    "true_train = np.sum(logi_fit == (y_train - 1))\n",
    "true_test = np.sum(logi_pred == (y_test - 1))\n",
    "# 命中率\n",
    "result_train = true_train / len(y_train)\n",
    "result_test = true_test / len(y_test)\n",
    "\n",
    "# 打印结果\n",
    "print(\"训练集的命中率:\", result_train)\n",
    "print(\"测试集的命中率:\", result_test)"
   ]
  },
  {
   "attachments": {},
   "cell_type": "markdown",
   "metadata": {},
   "source": [
    "#### 标准化"
   ]
  },
  {
   "cell_type": "code",
   "execution_count": 21,
   "metadata": {},
   "outputs": [
    {
     "data": {
      "text/plain": [
       "array([0.74 , 0.679])"
      ]
     },
     "execution_count": 21,
     "metadata": {},
     "output_type": "execute_result"
    }
   ],
   "source": [
    "# 准备标准化\n",
    "scaler = StandardScaler()\n",
    "scaler.fit(X_train)\n",
    "# 标准化\n",
    "X_train_scaled = scaler.transform(X_train)\n",
    "X_test_scaled = scaler.transform(X_test)\n",
    "\n",
    "# 标准差\n",
    "np.std(X_train_scaled, axis=0)\n",
    "\n",
    "np.std(X_test_scaled, axis=0)"
   ]
  },
  {
   "attachments": {},
   "cell_type": "markdown",
   "metadata": {},
   "source": [
    "#### 神经网络"
   ]
  },
  {
   "cell_type": "code",
   "execution_count": 23,
   "metadata": {},
   "outputs": [
    {
     "name": "stdout",
     "output_type": "stream",
     "text": [
      "训练集的命中率: 0.8933333333333333\n",
      "测试集的命中率: 0.68\n"
     ]
    }
   ],
   "source": [
    "# 神经网络中计算拟合进度与预测精度\n",
    "nnet = MLPClassifier(\n",
    "    hidden_layer_sizes = (100, 100),    # 表示有2个隐藏层，各层有100个神经元；那么加上隐藏层和输出层，共4层\n",
    "    alpha = 0.07,                       # 正则化强度\n",
    "    max_iter = 10000,                   # 最大重复次数\n",
    "    random_state = 0)                   # 固定随机数\n",
    "\n",
    "# 激活函数为ReLU函数，参数估计的算法默认是Adam算法\n",
    "nnet.fit(X_train_scaled, y_train)\n",
    "# 正确数\n",
    "\n",
    "# 使用nnet.score函数可以方便地得到命中率。从预测以及评估的角度，scikit-learn比statsmodels更容易用\n",
    "# 但从解读模型的含义来看，statsmodels更方便\n",
    "print(\"训练集的命中率:\", nnet.score(X_train_scaled, y_train))\n",
    "print(\"测试集的命中率:\", nnet.score(X_test_scaled, y_test))\n",
    "\n",
    "# MLPClassifier函数可以直接构建模型\n",
    "# "
   ]
  },
  {
   "attachments": {},
   "cell_type": "markdown",
   "metadata": {},
   "source": [
    "#### 线性模型与神经网络的对比\n",
    "\n",
    "线性模型和非线性模型的区别在于它们对数据的拟合方式。线性模型通过对输入进行线性变换来得到输出，而非线性模型则通过非线性变换来得到输出。神经网络可以看作是一种非线性模型，它通过多层神经元和激活函数来实现对数据的非线性拟合1。\n",
    "这里介绍的神经网络的预测进度不是很理想，但调整参数后，也有可能得到更高的精度。\n",
    "\n",
    "神经网络与其他机器学习方法相比，对于非结构化数据（如文本、图像）具有更强的拟合能力，因为它能够自动提取特征。这也是深度学习（深度神经网络）的最大优势1。\n",
    "\n",
    "但是，对于结构化的数值数据，普通神经网络并不一定比其他机器学习方法（如SVM、随机森林、xgboost、lightGBM）效果更好。这是因为数据特征简单，人为加入了更有效的特征1。\n",
    "\n",
    "总之，线性模型和非线性模型（包括神经网络）在处理不同类型的数据时各有优劣。选择哪种模型取决于具体问题和数据类型。\n",
    "\n",
    ">[机器学习之路一：线性模型、非线性模型、神经网络](https://blog.csdn.net/W_H_M_2018/article/details/89343994)"
   ]
  },
  {
   "attachments": {},
   "cell_type": "markdown",
   "metadata": {},
   "source": [
    "### 扩展内容\n",
    "\n",
    "需要储备的知识:\n",
    "-   数学原理\n",
    "    -   逻辑与集合\n",
    "    -   微积分\n",
    "    -   线性代数\n",
    "-   经典统计学\n",
    "    -   样本与总体的关系、随机变量与概率分布的关系\n",
    "    -   描述统计\n",
    "    -   置信区间\n",
    "    -   假设检验\n",
    "\n",
    "-   统计模型\n",
    "    -   广义线性模型是统计模型的基础\n",
    "        -   例如：安妮特 J.杜布森（Annette J. Dobson）《广义线性模型导论(英文导读版·原书第三版)》\n",
    "        -   除了广义线性模型，统计模型还有其他种类\n",
    "        -   时间序列分析是广义线性模型的一种应用和扩展\n",
    "\n",
    "-   机器学习\n",
    "    -   正态线性模型和logistic回归等都可以用在机器学习领域中，如果结合正则化，还可能进一步提高模型的预测精度;\n",
    "    -   在机器学习中（尤其是有监督学习）还有许多可以提高预测精度的技巧。例如,如果找出数据的非线性关系，就有可能提高预测精度;\n",
    "    -   数据的预处理也有可能对预测精度产生重大影响。之前，我们在惊醒Ridge回归之前先对数据惊醒了标准化。类似的处理会显著影响结果;\n",
    "    -   解释变量进场会变得很多，这是就需要能够通过压缩减少介绍变量的方法，或者将变量合并成新特征量的方法，线管应用可参考安德里亚斯·穆勒（Andreas C. Muller）和萨拉·吉多（Sarah Guido）的《Python 机器学习基础教程》\n",
    "\n",
    "-   模型评估\n",
    "    -   机器学习有很多种方法，例如：深度学习、梯度增强(gradient boosting)、支持向量机等。可以判断那种方法最适合场景的。不同场景给出的结果会不一样，而即使是相同的模型，只要改变一个参数，结果也可能大不一样。我们通过事件找出合适的参数，所以模型的构建与评估缺一不可。\n",
    "    -   之前使用AIC、交叉验证等方法评估模型，目标是减少泛化误差。\n",
    "    -   机器学习的主要任务就是估计泛化误差和评估模型，使用的大多是交叉验证等方法，一般不存在像AIC这样比较方便的准则。\n",
    "-   数据科学\n",
    "    -   处理所有数据相关问题的灵越叫做数据科学。它设计数据的获取、管理、应用等内容。\n",
    "    -   Python库的实现会变，但基础理论可以保持多年不变。"
   ]
  }
 ],
 "metadata": {
  "kernelspec": {
   "display_name": "Python 3",
   "language": "python",
   "name": "python3"
  },
  "language_info": {
   "codemirror_mode": {
    "name": "ipython",
    "version": 3
   },
   "file_extension": ".py",
   "mimetype": "text/x-python",
   "name": "python",
   "nbconvert_exporter": "python",
   "pygments_lexer": "ipython3",
   "version": "3.7.8"
  },
  "orig_nbformat": 4
 },
 "nbformat": 4,
 "nbformat_minor": 2
}
