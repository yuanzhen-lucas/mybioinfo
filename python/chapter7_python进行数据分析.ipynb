{
 "cells": [
  {
   "attachments": {},
   "cell_type": "markdown",
   "metadata": {},
   "source": [
    "# 7-1 机器学习基础\n",
    "机器学习是让计算机有学习能力\n",
    "-   有监督学习\n",
    "    -   有监督学习研究的是问题存在正确答案\n",
    "-   无监督学习\n",
    "    -   问题需要尝试\n",
    "-   强化学习\n",
    "    -   给定条件下寻找最大的回报行为\n",
    "-   规则学习\n",
    "    -   按照人们给定的规则预测结果\n",
    "\n",
    "## 机器学习和统计学的关系\n",
    "\n",
    "机器学习和统计学有着密切的关系。机器学习可以看作是统计学和计算机科学的结合，它在理论研究方面本质上还是以统计学的理论为核心，而在应用领域则更偏重于计算机的实现1。统计学是模型驱动的，而机器学习则是算法驱动的1。机器学习强调大规模应用和预测准确性，而统计学习则强调模型及其可解释性、精度和不确定性2。\n",
    ">[论统计学与机器学习的关系与发展前景](https://blog.csdn.net/ajksunke/article/details/53038457)\n",
    "\n",
    ">[机器学习和统计学习的区别：10个统计分析方法](https://blog.csdn.net/ajksunke/article/details/53038457)"
   ]
  },
  {
   "cell_type": "code",
   "execution_count": null,
   "metadata": {},
   "outputs": [],
   "source": [
    "# 7-1"
   ]
  }
 ],
 "metadata": {
  "language_info": {
   "name": "python"
  },
  "orig_nbformat": 4
 },
 "nbformat": 4,
 "nbformat_minor": 2
}
