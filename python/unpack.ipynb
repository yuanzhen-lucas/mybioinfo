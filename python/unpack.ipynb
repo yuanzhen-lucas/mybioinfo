{
 "cells": [
  {
   "cell_type": "markdown",
   "metadata": {},
   "source": [
    "# python有趣的解包用法\n",
    ">[unpack](https://zhuanlan.zhihu.com/p/33896402)\n",
    "\n",
    "> cookbook of python"
   ]
  },
  {
   "cell_type": "code",
   "execution_count": 3,
   "metadata": {},
   "outputs": [
    {
     "data": {
      "text/plain": [
       "'2018-1-1'"
      ]
     },
     "execution_count": 3,
     "metadata": {},
     "output_type": "execute_result"
    }
   ],
   "source": [
    "# source from \n",
    "name, age, date = ['Bob', 20, '2018-1-1']\n",
    "name\n",
    "age\n",
    "date"
   ]
  },
  {
   "cell_type": "code",
   "execution_count": 15,
   "metadata": {},
   "outputs": [
    {
     "data": {
      "text/plain": [
       "(1, 2, 3)"
      ]
     },
     "execution_count": 15,
     "metadata": {},
     "output_type": "execute_result"
    }
   ],
   "source": [
    "# objects of iterat..\n",
    "a, b, c = ['a', 'b', 'c']\n",
    "a\n",
    "\n",
    "a, b, c = enumerate(['a', 'b', 'c'])\n",
    "a, b, c\n",
    "\n",
    "# tuple \n",
    "a, b, c = ('a', 'b', 'c')\n",
    "\n",
    "# dict\n",
    "a, b, c = {'a': 1, 'b': 2, 'c': 3 }\n",
    "a\n",
    "\n",
    "a, b, c = {'a': 1, 'b': 2, 'c':3}.items()\n",
    "a\n",
    "\n",
    "# string\n",
    "a, b, c = 'abc'\n",
    "a\n",
    "\n",
    "# generator\n",
    "a, b, c = (x + 1 for x in range(3))\n",
    "a, b, c"
   ]
  },
  {
   "cell_type": "markdown",
   "metadata": {},
   "source": [
    "## 星号的使用"
   ]
  },
  {
   "cell_type": "code",
   "execution_count": 19,
   "metadata": {},
   "outputs": [
    {
     "data": {
      "text/plain": [
       "[{'1': 2}]"
      ]
     },
     "execution_count": 19,
     "metadata": {},
     "output_type": "execute_result"
    }
   ],
   "source": [
    "first, *new, last = [94, 85, 73, 46]\n",
    "new\n",
    "first, *new , last = [91, {\"1\": 2}, 3]\n",
    "new"
   ]
  },
  {
   "cell_type": "markdown",
   "metadata": {},
   "source": [
    "## 压包过程"
   ]
  },
  {
   "cell_type": "code",
   "execution_count": 21,
   "metadata": {},
   "outputs": [
    {
     "name": "stdout",
     "output_type": "stream",
     "text": [
      "('a', 1)\n",
      "('b', 2)\n",
      "('c', 3)\n",
      "1 4\n",
      "2 5\n",
      "3 6\n"
     ]
    }
   ],
   "source": [
    "a = ['a', 'b', 'c']\n",
    "b = [1, 2, 3]\n",
    "for i in zip(a, b):\n",
    "    print(i)\n",
    "\n",
    "# unpack & pack to relizated transform matrix\n",
    "a = [[1, 2, 3], [4, 5, 6]]\n",
    "for x, y in zip(*a):\n",
    "    print(x, y)"
   ]
  },
  {
   "cell_type": "markdown",
   "metadata": {},
   "source": [
    "## `_`的用法"
   ]
  },
  {
   "cell_type": "code",
   "execution_count": 26,
   "metadata": {},
   "outputs": [
    {
     "data": {
      "text/plain": [
       "[1, 2]"
      ]
     },
     "execution_count": 26,
     "metadata": {},
     "output_type": "execute_result"
    }
   ],
   "source": [
    "person = (\"Bob\", 20, 50, (11, 20, 2000))\n",
    "name, *_, (*_, year) = person\n",
    "name\n",
    "\n",
    "year\n",
    "*a, = 1, 2\n",
    "a"
   ]
  },
  {
   "cell_type": "markdown",
   "metadata": {},
   "source": [
    "## `*`之可变参数"
   ]
  },
  {
   "cell_type": "code",
   "execution_count": 28,
   "metadata": {},
   "outputs": [
    {
     "name": "stdout",
     "output_type": "stream",
     "text": [
      "(1, 2, 3, 4, 5)\n"
     ]
    }
   ],
   "source": [
    "def myfun(*num):\n",
    "    print(num)\n",
    "myfun(1, 2, 3, 4, 5,)"
   ]
  },
  {
   "cell_type": "markdown",
   "metadata": {},
   "source": [
    "## `*` 之关键字参数\n",
    "**的用法只能在函数定义中使用，"
   ]
  },
  {
   "cell_type": "code",
   "execution_count": 30,
   "metadata": {},
   "outputs": [
    {
     "name": "stdout",
     "output_type": "stream",
     "text": [
      "{'name': 'Bob', 'age': 20, 'weight': 50}\n"
     ]
    }
   ],
   "source": [
    "def myfun(**kw):\n",
    "    print(kw)\n",
    "\n",
    "myfun(name = 'Bob', age = 20, weight = 50)\n",
    "# "
   ]
  },
  {
   "cell_type": "markdown",
   "metadata": {},
   "source": [
    "## 可变参数与关键字参数的细节问题"
   ]
  },
  {
   "cell_type": "markdown",
   "metadata": {},
   "source": [
    "1. 函数传入实参，可变参数（*）之前的参数不能指定参数名\n"
   ]
  },
  {
   "cell_type": "code",
   "execution_count": 31,
   "metadata": {},
   "outputs": [
    {
     "ename": "SyntaxError",
     "evalue": "positional argument follows keyword argument (Temp/ipykernel_11968/3973618239.py, line 5)",
     "output_type": "error",
     "traceback": [
      "\u001b[1;36m  File \u001b[1;32m\"C:\\Users\\Cherry\\AppData\\Local\\Temp/ipykernel_11968/3973618239.py\"\u001b[1;36m, line \u001b[1;32m5\u001b[0m\n\u001b[1;33m    myfun(a = 1, 2, 4, 5)\u001b[0m\n\u001b[1;37m                ^\u001b[0m\n\u001b[1;31mSyntaxError\u001b[0m\u001b[1;31m:\u001b[0m positional argument follows keyword argument\n"
     ]
    }
   ],
   "source": [
    "def myfun(a, *b):\n",
    "    print(a)\n",
    "    print(b)\n",
    "\n",
    "myfun(a = 1, 2, 4, 5)"
   ]
  },
  {
   "cell_type": "markdown",
   "metadata": {},
   "source": [
    "2. 函数传入实参，可变参数（*）之后的参数必须指定参数名，否则就会被归到可变参数之中"
   ]
  },
  {
   "cell_type": "code",
   "execution_count": 36,
   "metadata": {},
   "outputs": [
    {
     "name": "stdout",
     "output_type": "stream",
     "text": [
      "1\n",
      "(2, 3, 4)\n",
      "None\n",
      "1\n",
      "(2, 3)\n",
      "4\n"
     ]
    }
   ],
   "source": [
    "def myfun(a, *b, c = None) :\n",
    "    print(a)\n",
    "    print(b)\n",
    "    print(c)\n",
    "\n",
    "myfun(1, 2, 3, 4)\n",
    "myfun(1, 2, 3, c = 4)"
   ]
  },
  {
   "cell_type": "markdown",
   "metadata": {},
   "source": [
    "2.2. 必须指定参数名，可以将所有的参数都放在可变参数之后，而可变参数就不用管它"
   ]
  },
  {
   "cell_type": "code",
   "execution_count": 37,
   "metadata": {},
   "outputs": [
    {
     "name": "stdout",
     "output_type": "stream",
     "text": [
      "1\n",
      "2\n"
     ]
    }
   ],
   "source": [
    "def myfun(*, a, b) :\n",
    "    print(a)\n",
    "    print(b)\n",
    "\n",
    "myfun(a = 1, b = 2)"
   ]
  },
  {
   "cell_type": "markdown",
   "metadata": {},
   "source": [
    "3. 关键字参数都只能作为最后一个参数，前面的参数按照位置赋值还是名称赋值都可以"
   ]
  },
  {
   "cell_type": "code",
   "execution_count": 38,
   "metadata": {},
   "outputs": [
    {
     "name": "stdout",
     "output_type": "stream",
     "text": [
      "1\n",
      "(2, 3)\n",
      "4\n",
      "{'m': 5, 'n': 6}\n"
     ]
    }
   ],
   "source": [
    "def myfun(a, *b, c, **d) :\n",
    "    print(a)\n",
    "    print(b)\n",
    "    print(c)\n",
    "    print(d)\n",
    "\n",
    "myfun(1, 2, 3, c = 4, m = 5, n =6)"
   ]
  },
  {
   "cell_type": "markdown",
   "metadata": {},
   "source": [
    "4. 可变参数与关键词参数共同使用以表示任意参数"
   ]
  },
  {
   "cell_type": "code",
   "execution_count": 39,
   "metadata": {},
   "outputs": [
    {
     "name": "stdout",
     "output_type": "stream",
     "text": [
      "I am using a decorator.\n",
      "1\n",
      "2\n"
     ]
    }
   ],
   "source": [
    "# 比如在装饰器中\n",
    "def mydecorator(func) :\n",
    "    def wrapper(*args, **kw) :\n",
    "        print(\"I am using a decorator.\")\n",
    "        return func(*args, **kw)\n",
    "    return wrapper\n",
    "\n",
    "@mydecorator\n",
    "def myfun(a, b) :\n",
    "    print(a)\n",
    "    print(b)\n",
    "\n",
    "myfun(1, b = 2)"
   ]
  },
  {
   "cell_type": "markdown",
   "metadata": {},
   "source": [
    "## 将解包作为参数传入函数中"
   ]
  },
  {
   "cell_type": "code",
   "execution_count": 47,
   "metadata": {},
   "outputs": [
    {
     "name": "stdout",
     "output_type": "stream",
     "text": [
      "3\n",
      "3\n",
      "3\n",
      "a b\n"
     ]
    },
    {
     "data": {
      "text/plain": [
       "\"Bob's age is 30\""
      ]
     },
     "execution_count": 47,
     "metadata": {},
     "output_type": "execute_result"
    }
   ],
   "source": [
    "def myfun(a, b) :\n",
    "    print(a + b)\n",
    "\n",
    "\n",
    "# list\n",
    "n = [1, 2]\n",
    "myfun(*n)\n",
    "\n",
    "# tuple\n",
    "m = (1, 2)\n",
    "myfun(*m)\n",
    "\n",
    "# dict\n",
    "mydict = {'a': 1, 'b': 2}\n",
    "myfun(**mydict)\n",
    "print(*mydict)\n",
    "\n",
    "# an Example\n",
    "bob = {'name': 'Bob', 'age': 30}\n",
    "\"{name}'s age is {age}\".format(**bob)"
   ]
  }
 ],
 "metadata": {
  "kernelspec": {
   "display_name": "Python 3.7.8 64-bit",
   "language": "python",
   "name": "python3"
  },
  "language_info": {
   "codemirror_mode": {
    "name": "ipython",
    "version": 3
   },
   "file_extension": ".py",
   "mimetype": "text/x-python",
   "name": "python",
   "nbconvert_exporter": "python",
   "pygments_lexer": "ipython3",
   "version": "3.7.8"
  },
  "orig_nbformat": 4,
  "vscode": {
   "interpreter": {
    "hash": "c7e4bfdc9e52f7cf38434a3b15902ea2a53c2a76de018dd37a57edb45a6169de"
   }
  }
 },
 "nbformat": 4,
 "nbformat_minor": 2
}
