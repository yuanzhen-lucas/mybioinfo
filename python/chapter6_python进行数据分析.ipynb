{
 "cells": [
  {
   "cell_type": "markdown",
   "metadata": {},
   "source": [
    "# 广义线性模型\n",
    "-   广义线性模型的一大特征就是它可以使用非正态分布\n",
    "-   正态分布之外的概率分布属于指数分布族"
   ]
  },
  {
   "cell_type": "markdown",
   "metadata": {},
   "source": [
    "## 组成\n",
    "-   总体服从的概率分布\n",
    "-   线性预测算子\n",
    "-   联系函数"
   ]
  },
  {
   "cell_type": "markdown",
   "metadata": {},
   "source": [
    "### 概率分布\n",
    "广义线性模型可用于正态分布、二项分布和泊松分布等多种概率分布。"
   ]
  },
  {
   "cell_type": "code",
   "execution_count": null,
   "metadata": {},
   "outputs": [],
   "source": []
  },
  {
   "cell_type": "markdown",
   "metadata": {},
   "source": [
    "### 线性预测算子\n",
    "线性关系式表示的解释变量\n",
    "比如: β0 + β1 X 气温(℃)\n",
    "\n",
    "β0 + β1 X 学习时间(minute)\n",
    "\n",
    "### 联系函数\n",
    "将响应变量和线性预测算子关联在一起。\n",
    "月份记录 = β0 + β1 X 学习时间(minute)"
   ]
  },
  {
   "cell_type": "code",
   "execution_count": null,
   "metadata": {},
   "outputs": [],
   "source": [
    "# 广义线性模型"
   ]
  }
 ],
 "metadata": {
  "language_info": {
   "name": "python"
  },
  "orig_nbformat": 4
 },
 "nbformat": 4,
 "nbformat_minor": 2
}
