{
 "cells": [
  {
   "cell_type": "markdown",
   "metadata": {},
   "source": [
    "# 广义线性模型\n",
    "-   广义线性模型的一大特征就是它可以使用非正态分布\n",
    "-   正态分布之外的概率分布属于指数分布族"
   ]
  },
  {
   "cell_type": "markdown",
   "metadata": {},
   "source": [
    "## 组成\n",
    "-   总体服从的概率分布\n",
    "-   线性预测算子\n",
    "-   联系函数"
   ]
  },
  {
   "cell_type": "markdown",
   "metadata": {},
   "source": [
    "### 概率分布\n",
    "广义线性模型可用于正态分布、二项分布和泊松分布等多种概率分布。"
   ]
  },
  {
   "cell_type": "code",
   "execution_count": null,
   "metadata": {},
   "outputs": [],
   "source": []
  },
  {
   "cell_type": "markdown",
   "metadata": {},
   "source": [
    "### 线性预测算子\n",
    "线性关系式表示的解释变量\n",
    "比如: β0 + β1 X 气温(℃)\n",
    "\n",
    "β0 + β1 X 学习时间(minute)\n",
    "\n",
    "### 联系函数\n",
    "将响应变量和线性预测算子关联在一起。\n",
    "月份记录 = β0 + β1 X 学习时间(minute)\n",
    "概率分布与联系函数的常用的组合如下：\n",
    "eg:\n",
    "\n",
    "    `概率分布` `联系函数`  `模型名称`\n",
    "\n",
    "    `正态分布` `恒等函数`  `正态线性模型`\n",
    "\n",
    "    `二项分布` `logit函数` `logistic回归模型`\n",
    "\n",
    "    `泊松分布` `对数函数`  `泊松回归模型`\n",
    "\n",
    "| 概率分布    | 联系函数   | 模型名称    |\n",
    "|    ------  |------     | ------      |\n",
    "|   正态分布  | 恒等函数  | 正态线性模型 |\n",
    "|   二项分布  | logit函数 | logistic回归模型 |\n",
    "|   泊松分布  | 对数函数   | 泊松回归模型 |\n"
   ]
  },
  {
   "cell_type": "code",
   "execution_count": 1,
   "metadata": {},
   "outputs": [],
   "source": [
    "# 广义线性模型"
   ]
  },
  {
   "cell_type": "markdown",
   "metadata": {},
   "source": [
    "## logistic回归"
   ]
  },
  {
   "cell_type": "code",
   "execution_count": 10,
   "metadata": {},
   "outputs": [],
   "source": [
    "import numpy as np\n",
    "import pandas as pd\n",
    "import seaborn as sns\n",
    "# 用于估计统计模型的库(部分版本会报出警告信息)\n",
    "import statsmodels.formula.api as smf\n",
    "import statsmodels.api as sm\n",
    "import scipy as sp"
   ]
  },
  {
   "cell_type": "code",
   "execution_count": 11,
   "metadata": {},
   "outputs": [
    {
     "data": {
      "text/plain": [
       "<AxesSubplot:xlabel='hours', ylabel='result'>"
      ]
     },
     "execution_count": 11,
     "metadata": {},
     "output_type": "execute_result"
    },
    {
     "data": {
      "image/png": "iVBORw0KGgoAAAANSUhEUgAAAYIAAAEGCAYAAABo25JHAAAAOXRFWHRTb2Z0d2FyZQBNYXRwbG90bGliIHZlcnNpb24zLjQuMiwgaHR0cHM6Ly9tYXRwbG90bGliLm9yZy8rg+JYAAAACXBIWXMAAAsTAAALEwEAmpwYAAAStklEQVR4nO3db7RddX3n8feHQAAxwtTcNg4hhmlTa6q2YBbawSJLsAb/hFVFC622dlnTB+LY0THFsYMOs/qgqbVdbaktFkdaFSaitqmmBVuprOUqSFBUIKWNoCbR26D8UdQpxn7nwdkwJ5d7k3tL9tk3/N6vte66e+/zO2d/ckn43L33Ob+dqkKS1K4jhg4gSRqWRSBJjbMIJKlxFoEkNc4ikKTGHTl0gIVavnx5rV69eugYknRYufnmm79eVVOzPXbYFcHq1avZvn370DEk6bCS5MtzPeapIUlqnEUgSY2zCCSpcRaBJDXOIpCkxlkEktS43oogyXuS7E1y6xyPJ8nvJ9mZ5PNJTu0riyRpbn0eEbwXWH+Ax88B1nRfG4F39ZhFkjSH3j5QVlXXJ1l9gCHnAn9Woxsi3JDkhCRPqqqv9ZVJ0sFt2rSJ6elpVqxYwebNm5vNsJhy9G3ITxafCOwaW9/dbXtEESTZyOiogVWrVk0knNSq6elp9uzZ03yGvnL8xNXXHNLXO5DPnfeCeY07LC4WV9VlVbWuqtZNTc06VYYk6d9pyCLYA5w0tr6y2yZJmqAhi2Ar8Ivdu4eeDdzv9QFJmrzerhEkuRI4E1ieZDfwNuAogKr6Y2Ab8EJgJ/Ad4Jf7yiJJmluf7xq64CCPF/C6vvYvSZqfw+JisSSpPxaBJDXOIpCkxlkEktQ4i0CSGmcRSFLjLAJJapxFIEmNswgkqXEWgSQ1ziKQpMZZBJLUOItAkhpnEUhS44a8Z7Gknu34zU8s+DkP3vPdh78v5PlPfevzFryvSdrywdMW/JwHHjgOOIIHHti1oOe/4uWfXvC+huQRgSQ1ziKQpMZZBJLUOItAkhpnEUhS4ywCSWqcRSBJjbMIJKlxFoEkNc4ikKTGWQSS1DiLQJIaZxFIUuMsAklqnEUgSY2zCCSpcRaBJDWu1yJIsj7JHUl2JrlolsdXJbkuyWeTfD7JC/vMI0l6pN6KIMkS4FLgHGAtcEGStTOG/QawpapOAc4H/qivPJKk2fV5RHAasLOq7qyqB4GrgHNnjCngCd3y8cBXe8wjSZpFnzevPxHYNba+G3jWjDFvB65N8nrgOODs2V4oyUZgI8CqVasOeVBJ/Xr729++oPH33HPPw98X+tyFjtfwF4svAN5bVSuBFwJ/nuQRmarqsqpaV1XrpqamJh5Skh7L+iyCPcBJY+sru23jXgNsAaiqfwCOAZb3mEmSNEOfRXATsCbJyUmWMroYvHXGmK8AZwEkeSqjIri7x0ySpBl6K4Kq2gdcCFwD7GD07qDbklySZEM37E3Aa5N8DrgSeHVVVV+ZJEmP1OfFYqpqG7BtxraLx5ZvB07vM4Mk6cCGvlgsSRqYRSBJjbMIJKlxFoEkNc4ikKTGWQSS1DiLQJIaZxFIUuMsAklqnEUgSY2zCCSpcRaBJDXOIpCkxlkEktS4Xqehlg4XmzZtYnp6mhUrVrB58+ZmM6hNFoEETE9Ps2fPzDuptpdBbbIIJO3nicccv9/3li1b9m/7fX+ssggk7efCU35+6AiLxote/N2hI0yEF4slqXEWgSQ1ziKQpMZZBJLUOItAkhpnEUhS4ywCSWqcRSBJjbMIJKlxFoEkNc4ikKTGWQSS1DiLQJIaZxFIUuN6LYIk65PckWRnkovmGPOKJLcnuS3JB/rMI0l6pN7uR5BkCXAp8HxgN3BTkq1VdfvYmDXAW4DTq+reJD/YVx5J0uz6PCI4DdhZVXdW1YPAVcC5M8a8Fri0qu4FqKq9PeaRJM2izyI4Edg1tr672zbuR4EfTfKpJDckWd9jHknSLIa+VeWRwBrgTGAlcH2Sp1fVfeODkmwENgKsWrVqwhEl6bGtzyOCPcBJY+sru23jdgNbq+p7VXUX8E+MimE/VXVZVa2rqnVTU1O9BZakFvVZBDcBa5KcnGQpcD6wdcaYv2B0NECS5YxOFd3ZYyZJ0gzzKoIkJ89n27iq2gdcCFwD7AC2VNVtSS5JsqEbdg3wjSS3A9cBb66qbyzkDyBJenTme43gQ8CpM7ZdDTzzQE+qqm3AthnbLh5bLuCN3ZckaQAHLIIkPwb8OHB8kpeOPfQE4Jg+g0mSJuNgRwRPAV4MnAC8ZGz7txh9BkCSdJg7YBFU1V8Cf5nkp6rqHyaUSZI0QQc7NfQHQHXLF8x8vKr+S0+5JEkTcrBTQ9snkkKSNJiDnRq6YlJBJEnDmNfbR5NcR3eKaFxVPe+QJ5IkTdR8P0fw38aWjwFeBuw79HEkSZM2ryKoqptnbPpUkk/3kEeSNGHzPTX0A2OrRzD6RPHxvSSSJE3UfE8N3czoGkEYnRK6C3hNX6EkSZMz31NDB5xgTpJ0+Jrv7KMvT7KsW/6NJB9OMnMSOknSYWi+9yP4H1X1rSTPAc4GLgfe1V8sSdKkzLcIvt99fxFwWVV9DFjaTyRJ0iTNtwj2JPkT4OeAbUmOXsBzJUmL2Hz/Z/4KRncTe0F3Y/kfAN7cVyhJbTv66KM59thjOfroo4eO0oT5vmvoO0n2As8B/pnRW0j/uc9gktr19Kc/fegITZnvu4beBvw68JZu01HA+/oKJUmanPmeGvpZYAPwbYCq+iqwrK9QkqTJmW8RPNjdaP6hm9Qc118kSdIkHbQIkgT4aPeuoROSvBb4W+DdfYeTJPXvoBeLq6qSvBx4I/BNRje0v7iqPt53OElS/+Y76dxngPuqyreMStJjzHyL4FnALyT5Mt0FY4CqekYvqSRJEzPfInhBrykkSYOZ7wfKvtx3EEnSMJwvSJIaZxFIUuMsAklqnEUgSY2zCCSpcRaBJDWu1yJIsj7JHUl2JrnoAONelqSSrOszjyTpkXorgiRLgEuBc4C1wAVJ1s4ybhnwBuDGvrJIkubW5xHBacDOqrqzqh4ErgLOnWXc/wJ+C/i/PWaRJM1hvlNM/HucCOwaW9/NaM6ihyU5FTipqj6WZM4J7ZJsBDYCrFq1qoeoeiz5wzf91YKfc9/Xv/3w94U8/8Lfecmcj/3mK89bUIZ79t4/+j79tQU/963vu3pB46Vxg10sTnIE8E7gTQcbW1WXVdW6qlo3NTXVfzhJakifRbAHOGlsfWW37SHLgKcBf5/kS8Czga1eMJakyeqzCG4C1iQ5OclS4Hxg60MPVtX9VbW8qlZX1WrgBmBDVW3vMZMkaYbeiqCq9gEXAtcAO4AtVXVbkkuSbOhrv5KkhenzYjFVtQ3YNmPbxXOMPbPPLJKk2fnJYklqnEUgSY2zCCSpcRaBJDXOIpCkxlkEktQ4i0CSGmcRSFLjLAJJapxFIEmNswgkqXEWgSQ1ziKQpMZZBJLUuF6nodbitmnTJqanp1mxYgWbN29uNoPUOougYdPT0+zZs+fgAx/jGaTWeWpIkhpnEUhS4ywCSWqcRSBJjbMIJKlxFoEkNc4ikKTGWQSS1DiLQJIaZxFIUuMsAklqnEUgSY2zCCSpcRaBJDXOIpCkxlkEktS4XosgyfokdyTZmeSiWR5/Y5Lbk3w+yd8leXKfeSRJj9RbESRZAlwKnAOsBS5IsnbGsM8C66rqGcDVgPcqlKQJ6/OI4DRgZ1XdWVUPAlcB544PqKrrquo73eoNwMoe80iSZtFnEZwI7Bpb391tm8trgL+e7YEkG5NsT7L97rvvPoQRJUmL4mJxklcC64Dfnu3xqrqsqtZV1bqpqanJhpOkx7gje3ztPcBJY+sru237SXI28FbguVX1rz3mkSTNos8jgpuANUlOTrIUOB/YOj4gySnAnwAbqmpvj1kkSXPorQiqah9wIXANsAPYUlW3JbkkyYZu2G8Djwc+mOSWJFvneDlJUk/6PDVEVW0Dts3YdvHY8tl97l+SdHCL4mKxJGk4FoEkNc4ikKTGWQSS1DiLQJIaZxFIUuMsAklqnEUgSY2zCCSpcRaBJDXOIpCkxlkEktQ4i0CSGmcRSFLjLAJJalyv9yPQ5Jz+B6cv+DlL71vKERzBrvt2Lej5n3r9p+Z87JNnPHdBGb575BJI+O7u3Qt+7nOv/+SCxkuanUUgAcctfcJ+34dwzJIj9vsuTYpFIAGn//BLh47AKU9cNnQENcpfPSSpcRaBJDXOIpCkxlkEktQ4i0CSGmcRSFLjLAJJapxFIEmNswgkqXEWgSQ1ziKQpMZZBJLUOItAkhpnEUhS4ywCSWpcr0WQZH2SO5LsTHLRLI8fneT/dI/fmGR1n3kkSY/UWxEkWQJcCpwDrAUuSLJ2xrDXAPdW1Y8Avwv8Vl95JEmz6/OI4DRgZ1XdWVUPAlcB584Ycy5wRbd8NXBWkvSYSZI0Q6qqnxdOzgPWV9WvdOuvAp5VVReOjbm1G7O7W/9iN+brM15rI7CxW30KcMejjLcc+PpBR/VrMWSAxZFjMWSAxZFjMWSAxZFjMWSAxZHjUGR4clVNzfbAYXHP4qq6DLjsUL1eku1Vte5Qvd7hmmGx5FgMGRZLjsWQYbHkWAwZFkuOvjP0eWpoD3DS2PrKbtusY5IcCRwPfKPHTJKkGfosgpuANUlOTrIUOB/YOmPMVuCXuuXzgE9UX+eqJEmz6u3UUFXtS3IhcA2wBHhPVd2W5BJge1VtBS4H/jzJTuAeRmUxCYfsNNOjsBgywOLIsRgywOLIsRgywOLIsRgywOLI0WuG3i4WS5IOD36yWJIaZxFIUuOaKoKDTXkxoQzvSbK3+wzFIJKclOS6JLcnuS3JGwbKcUySTyf5XJfjfw6Ro8uyJMlnk3x0wAxfSvKFJLck2T5QhhOSXJ3kH5PsSPJTA2R4SvczeOjrm0l+bYAc/7X7e3lrkiuTHDPpDF2ON3QZbuvt51BVTXwxumD9ReA/AUuBzwFrB8hxBnAqcOuAP4snAad2y8uAfxroZxHg8d3yUcCNwLMH+pm8EfgA8NEB/7t8CVg+1P67DFcAv9ItLwVOGDjPEmCa0YehJrnfE4G7gGO79S3Aqwf48z8NuBV4HKM39/wt8COHej8tHRHMZ8qL3lXV9YzeITWYqvpaVX2mW/4WsIPRX/xJ56iqeqBbPar7mvi7F5KsBF4E/Omk972YJDme0S8qlwNU1YNVdd+goeAs4ItV9eUB9n0kcGz3GafHAV8dIMNTgRur6jtVtQ/4JPDSQ72TlorgRGDX2PpuBvif32LTzfh6CqPfxofY/5IktwB7gY9X1RA5fg/YBPzbAPseV8C1SW7uplWZtJOBu4H/3Z0m+9Mkxw2QY9z5wJWT3mlV7QHeAXwF+Bpwf1VdO+kcjI4GfjrJE5M8Dngh+39Q95BoqQg0Q5LHAx8Cfq2qvjlEhqr6flX9JKNPnp+W5GmT3H+SFwN7q+rmSe53Ds+pqlMZzdj7uiRnTHj/RzI6bfmuqjoF+DYwyLU0gO6DqBuADw6w7//A6IzBycB/BI5L8spJ56iqHYxmZb4W+BvgFuD7h3o/LRXBfKa8aEaSoxiVwPur6sND5+lOQVwHrJ/wrk8HNiT5EqPThc9L8r4JZwAe/i2UqtoLfITR6cxJ2g3sHjsqu5pRMQzlHOAzVfUvA+z7bOCuqrq7qr4HfBj4zwPkoKour6pnVtUZwL2MrukdUi0VwXymvGhCN9X35cCOqnrngDmmkpzQLR8LPB/4x0lmqKq3VNXKqlrN6O/EJ6pq4r/5JTkuybKHloGfYXRaYGKqahrYleQp3aazgNsnmWGGCxjgtFDnK8Czkzyu+/dyFqNraROX5Ae776sYXR/4wKHex2Ex++ihUHNMeTHpHEmuBM4ElifZDbytqi6fcIzTgVcBX+jOzwP896raNuEcTwKu6G5idASwpaoGe/vmwH4I+Eh3O44jgQ9U1d8MkOP1wPu7X5buBH55gAwPleHzgV8dYv9VdWOSq4HPAPuAzzLcVBMfSvJE4HvA6/q4gO8UE5LUuJZODUmSZmERSFLjLAJJapxFIEmNswgkqXEWgTSLJKuHnCFWmiSLQJqQbvIyadGxCKS5LUny7m4e+GuTHJvkJ5PckOTzST7SzUlDkr9Psq5bXt5NWUGSVyfZmuQTwN8leVKS67t59m9N8tPD/fGkEYtAmtsa4NKq+nHgPuBlwJ8Bv15VzwC+ALxtHq9zKnBeVT0X+Hngmm6ivZ9gNImYNCgPVaW53VVVt3TLNwM/zOhGLZ/stl3B/GbG/HhVPXQPipuA93ST/v3F2OtLg/GIQJrbv44tfx844QBj9/H//z3NvKXhtx9a6G5MdAajmW/fm+QXH31M6dGxCKT5ux+4d+y8/qsY3TEKRreZfGa3fN5cL5DkycC/VNW7Gd0RbchpniXAU0PSQv0S8Mfd3aLGZ+d8B7Clu7PYxw7w/DOBNyf5HvAA4BGBBufso5LUOE8NSVLjLAJJapxFIEmNswgkqXEWgSQ1ziKQpMZZBJLUuP8HYkzt5nVwd6oAAAAASUVORK5CYII=",
      "text/plain": [
       "<Figure size 432x288 with 1 Axes>"
      ]
     },
     "metadata": {
      "needs_background": "light"
     },
     "output_type": "display_data"
    }
   ],
   "source": [
    "# 读取数据并可视化\n",
    "test_result = pd.read_csv(\"./data/6-3-1-logistic-regression.csv\")\n",
    "test_result.head(3)\n",
    "\n",
    "# 绘图\n",
    "sns.barplot(x = \"hours\", y = \"result\",\n",
    "                data = test_result)"
   ]
  },
  {
   "cell_type": "code",
   "execution_count": 12,
   "metadata": {},
   "outputs": [
    {
     "data": {
      "text/html": [
       "<div>\n",
       "<style scoped>\n",
       "    .dataframe tbody tr th:only-of-type {\n",
       "        vertical-align: middle;\n",
       "    }\n",
       "\n",
       "    .dataframe tbody tr th {\n",
       "        vertical-align: top;\n",
       "    }\n",
       "\n",
       "    .dataframe thead th {\n",
       "        text-align: right;\n",
       "    }\n",
       "</style>\n",
       "<table border=\"1\" class=\"dataframe\">\n",
       "  <thead>\n",
       "    <tr style=\"text-align: right;\">\n",
       "      <th></th>\n",
       "      <th>result</th>\n",
       "    </tr>\n",
       "    <tr>\n",
       "      <th>hours</th>\n",
       "      <th></th>\n",
       "    </tr>\n",
       "  </thead>\n",
       "  <tbody>\n",
       "    <tr>\n",
       "      <th>0</th>\n",
       "      <td>0.0</td>\n",
       "    </tr>\n",
       "    <tr>\n",
       "      <th>1</th>\n",
       "      <td>0.0</td>\n",
       "    </tr>\n",
       "    <tr>\n",
       "      <th>2</th>\n",
       "      <td>0.1</td>\n",
       "    </tr>\n",
       "    <tr>\n",
       "      <th>3</th>\n",
       "      <td>0.1</td>\n",
       "    </tr>\n",
       "    <tr>\n",
       "      <th>4</th>\n",
       "      <td>0.4</td>\n",
       "    </tr>\n",
       "    <tr>\n",
       "      <th>5</th>\n",
       "      <td>0.4</td>\n",
       "    </tr>\n",
       "    <tr>\n",
       "      <th>6</th>\n",
       "      <td>0.9</td>\n",
       "    </tr>\n",
       "    <tr>\n",
       "      <th>7</th>\n",
       "      <td>0.8</td>\n",
       "    </tr>\n",
       "    <tr>\n",
       "      <th>8</th>\n",
       "      <td>0.9</td>\n",
       "    </tr>\n",
       "    <tr>\n",
       "      <th>9</th>\n",
       "      <td>1.0</td>\n",
       "    </tr>\n",
       "  </tbody>\n",
       "</table>\n",
       "</div>"
      ],
      "text/plain": [
       "       result\n",
       "hours        \n",
       "0         0.0\n",
       "1         0.0\n",
       "2         0.1\n",
       "3         0.1\n",
       "4         0.4\n",
       "5         0.4\n",
       "6         0.9\n",
       "7         0.8\n",
       "8         0.9\n",
       "9         1.0"
      ]
     },
     "execution_count": 12,
     "metadata": {},
     "output_type": "execute_result"
    }
   ],
   "source": [
    "test_result.groupby(\"hours\").mean()"
   ]
  },
  {
   "cell_type": "markdown",
   "metadata": {},
   "source": [
    "### logistic 回归"
   ]
  },
  {
   "cell_type": "code",
   "execution_count": 13,
   "metadata": {},
   "outputs": [
    {
     "data": {
      "text/html": [
       "<table class=\"simpletable\">\n",
       "<caption>Generalized Linear Model Regression Results</caption>\n",
       "<tr>\n",
       "  <th>Dep. Variable:</th>        <td>result</td>      <th>  No. Observations:  </th>  <td>   100</td> \n",
       "</tr>\n",
       "<tr>\n",
       "  <th>Model:</th>                  <td>GLM</td>       <th>  Df Residuals:      </th>  <td>    98</td> \n",
       "</tr>\n",
       "<tr>\n",
       "  <th>Model Family:</th>        <td>Binomial</td>     <th>  Df Model:          </th>  <td>     1</td> \n",
       "</tr>\n",
       "<tr>\n",
       "  <th>Link Function:</th>         <td>logit</td>      <th>  Scale:             </th> <td>  1.0000</td>\n",
       "</tr>\n",
       "<tr>\n",
       "  <th>Method:</th>                <td>IRLS</td>       <th>  Log-Likelihood:    </th> <td> -34.014</td>\n",
       "</tr>\n",
       "<tr>\n",
       "  <th>Date:</th>            <td>Thu, 06 Apr 2023</td> <th>  Deviance:          </th> <td>  68.028</td>\n",
       "</tr>\n",
       "<tr>\n",
       "  <th>Time:</th>                <td>17:10:17</td>     <th>  Pearson chi2:      </th>  <td>  84.9</td> \n",
       "</tr>\n",
       "<tr>\n",
       "  <th>No. Iterations:</th>          <td>6</td>        <th>                     </th>     <td> </td>   \n",
       "</tr>\n",
       "<tr>\n",
       "  <th>Covariance Type:</th>     <td>nonrobust</td>    <th>                     </th>     <td> </td>   \n",
       "</tr>\n",
       "</table>\n",
       "<table class=\"simpletable\">\n",
       "<tr>\n",
       "      <td></td>         <th>coef</th>     <th>std err</th>      <th>z</th>      <th>P>|z|</th>  <th>[0.025</th>    <th>0.975]</th>  \n",
       "</tr>\n",
       "<tr>\n",
       "  <th>Intercept</th> <td>   -4.5587</td> <td>    0.901</td> <td>   -5.061</td> <td> 0.000</td> <td>   -6.324</td> <td>   -2.793</td>\n",
       "</tr>\n",
       "<tr>\n",
       "  <th>hours</th>     <td>    0.9289</td> <td>    0.174</td> <td>    5.345</td> <td> 0.000</td> <td>    0.588</td> <td>    1.270</td>\n",
       "</tr>\n",
       "</table>"
      ],
      "text/plain": [
       "<class 'statsmodels.iolib.summary.Summary'>\n",
       "\"\"\"\n",
       "                 Generalized Linear Model Regression Results                  \n",
       "==============================================================================\n",
       "Dep. Variable:                 result   No. Observations:                  100\n",
       "Model:                            GLM   Df Residuals:                       98\n",
       "Model Family:                Binomial   Df Model:                            1\n",
       "Link Function:                  logit   Scale:                          1.0000\n",
       "Method:                          IRLS   Log-Likelihood:                -34.014\n",
       "Date:                Thu, 06 Apr 2023   Deviance:                       68.028\n",
       "Time:                        17:10:17   Pearson chi2:                     84.9\n",
       "No. Iterations:                     6                                         \n",
       "Covariance Type:            nonrobust                                         \n",
       "==============================================================================\n",
       "                 coef    std err          z      P>|z|      [0.025      0.975]\n",
       "------------------------------------------------------------------------------\n",
       "Intercept     -4.5587      0.901     -5.061      0.000      -6.324      -2.793\n",
       "hours          0.9289      0.174      5.345      0.000       0.588       1.270\n",
       "==============================================================================\n",
       "\"\"\""
      ]
     },
     "execution_count": 13,
     "metadata": {},
     "output_type": "execute_result"
    }
   ],
   "source": [
    "from cgi import test\n",
    "from tkinter.font import families\n",
    "\n",
    "\n",
    "mod_glm = smf.glm(formula = \"result ~ hours\",\n",
    "                  data = test_result,\n",
    "                  family = sm.families.Binomial()).fit()\n",
    "mod_glm.summary()"
   ]
  },
  {
   "cell_type": "code",
   "execution_count": 14,
   "metadata": {},
   "outputs": [
    {
     "data": {
      "text/plain": [
       "<seaborn.axisgrid.FacetGrid at 0x2955ebc5c88>"
      ]
     },
     "execution_count": 14,
     "metadata": {},
     "output_type": "execute_result"
    },
    {
     "data": {
      "image/png": "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",
      "text/plain": [
       "<Figure size 360x360 with 1 Axes>"
      ]
     },
     "metadata": {
      "needs_background": "light"
     },
     "output_type": "display_data"
    }
   ],
   "source": [
    "sns.lmplot(x = \"hours\", y = \"result\",\n",
    "           data = test_result,\n",
    "           logistic = True,\n",
    "           scatter_kws= {\"color\":\"gray\"},\n",
    "           line_kws={\"color\":\"blue\"},\n",
    "           x_jitter=0.1, y_jitter=0.02)"
   ]
  },
  {
   "cell_type": "markdown",
   "metadata": {},
   "source": [
    "## 预测成功概率"
   ]
  },
  {
   "cell_type": "code",
   "execution_count": 15,
   "metadata": {},
   "outputs": [
    {
     "data": {
      "text/plain": [
       "0    0.010367\n",
       "1    0.025836\n",
       "2    0.062920\n",
       "3    0.145291\n",
       "4    0.300876\n",
       "5    0.521427\n",
       "6    0.733929\n",
       "7    0.874741\n",
       "8    0.946467\n",
       "9    0.978147\n",
       "dtype: float64"
      ]
     },
     "execution_count": 15,
     "metadata": {},
     "output_type": "execute_result"
    }
   ],
   "source": [
    "# 0 ~ 9 的公差为1的等差数列\n",
    "exp_val = pd.DataFrame({\n",
    "    \"hours\": np.arange(0, 10, 1)\n",
    "})\n",
    "# 成功概率的预测值\n",
    "pred = mod_glm.predict(exp_val)\n",
    "pred"
   ]
  },
  {
   "cell_type": "markdown",
   "metadata": {},
   "source": [
    "### 优势\n",
    "成功和失败概率的比值**优势**,\n",
    "p/(1-p)\n",
    "$$\n",
    "优势 = \\frac{p}{(1 - p)}\n",
    "$$\n",
    ">优势的对数叫做*对数优势*\n",
    "\n",
    ">>[如何优雅地在Markdown中输入数学公式](https://blog.csdn.net/m0_37167788/article/details/78809779)\n",
    "\n",
    "logit函数也可以看作将成功概率转换成对数优势的函数\n",
    "优势比，对数优势比"
   ]
  },
  {
   "cell_type": "code",
   "execution_count": null,
   "metadata": {},
   "outputs": [],
   "source": [
    "# logistic回归系数与优势比的关系\n",
    "# learn time up to 1 hour\n",
    "exp_val_1 = pd.DataFrame({\"hours\":[1]})\n",
    "pre_1 = mod_glm.predict(exp_val_1)\n",
    "\n",
    "# learn time ups to 2 hours\n",
    "exp_val_2 = pd.DataFrame({\"hours\":{2}})\n",
    "pre_2 = mod_glm.predict(exp_val_2)"
   ]
  },
  {
   "cell_type": "markdown",
   "metadata": {},
   "source": [
    "## 广义线性模型的评估\n",
    "当总体不符合正态分布时，残差的处理方法会有很大的不同\n",
    "\n",
    "残差是表现数据与模型不契合的程度的重要指标"
   ]
  },
  {
   "cell_type": "code",
<<<<<<< HEAD
   "execution_count": null,
=======
   "execution_count": 2,
>>>>>>> 77cb48310e33812928cf21f85236eea65940f7b7
   "metadata": {},
   "outputs": [],
   "source": [
    "import numpy as np\n",
    "import pandas as pd\n",
    "import scipy as sp\n",
    "from scipy import stats\n",
    "# 用于绘图的库\n",
    "from matplotlib import pyplot as plt\n",
    "import seaborn as sns\n",
    "sns.set()\n",
    "# 用于估计统计模型的库（部分版本会报出警告信息）\n",
    "import statsmodels.formula.api as smf\n",
    "import statsmodels.api as sm\n",
    "# 设置浮点数精度\n",
    "%precision 3\n",
    "# 在Jupter Notebook 里显示图形\n",
    "%matplotlib inline\n"
   ]
  },
  {
   "cell_type": "code",
<<<<<<< HEAD
   "execution_count": null,
=======
   "execution_count": 3,
>>>>>>> 77cb48310e33812928cf21f85236eea65940f7b7
   "metadata": {},
   "outputs": [],
   "source": [
    "# 读取数据\n",
    "test_result = pd.read_csv('data/6-3-1-logistic-regression.csv')\n",
    "# 模型化\n",
    "mod_glm = smf.glm(\"result ~ hours\", data = test_result, family =sm.families.Binomial()).fit()"
   ]
  },
  {
   "cell_type": "markdown",
   "metadata": {},
   "source": [
    "### 皮尔逊残差\n",
    "二项分布的皮尔逊残差计算公式如下:\n",
    "$$\n",
    "{Pearson\\ residual} = \\frac{y - N\\hat{p}}{\\sqrt{N\\hat{p}(1 - \\hat{p})}}\n",
    "$$\n",
    "y是响应变量，N是试验次数，$\\hat{p}$(由mod_glm.predict()得到的预测值)是估计的成功概率"
   ]
  },
  {
   "cell_type": "markdown",
   "metadata": {},
   "source": [
    "皮尔逊残差的平方和叫做**皮尔逊残差统计量**"
   ]
  },
  {
   "cell_type": "code",
<<<<<<< HEAD
   "execution_count": null,
=======
   "execution_count": 5,
>>>>>>> 77cb48310e33812928cf21f85236eea65940f7b7
   "metadata": {},
   "outputs": [
    {
     "data": {
      "text/plain": [
       "0   -0.102351\n",
       "1   -0.102351\n",
       "2   -0.102351\n",
       "3   -0.102351\n",
       "4   -0.102351\n",
       "Name: result, dtype: float64"
      ]
     },
     "execution_count": 5,
     "metadata": {},
     "output_type": "execute_result"
    }
   ],
   "source": [
    "# 预测的成功概率\n",
    "pred = mod_glm.predict()\n",
    "# 响应变量（合格情况）\n",
    "y = test_result.result\n",
    "# 皮尔逊残差\n",
    "pearson_resid = (y - pred) / np.sqrt(pred * (1 - pred))\n",
    "pearson_resid.head(5)\n"
   ]
<<<<<<< HEAD
  },
  {
   "attachments": {},
   "cell_type": "markdown",
   "metadata": {},
   "source": [
    "### 模型偏差\n",
    "模型偏差（deviance)是评估模型切合度的指标。模型偏差越大，契合度越大。模型偏差使用了似然函数的演绎，最大似然法所得的结果等于使得模型偏差最小的参数估计的结果。\n",
    "似然比检验（Likelihood Ratio Test）是一种常用的统计检验方法，用于比较两个或多个模型的拟合优度。\n",
    "\n",
    "在似然比检验中，我们假设有两个模型，一个是简单模型，另一个是复杂模型。然后分别计算这两个模型的最大似然估计值，然后比较它们之间的差异，从而得到一个统计量。这个统计量的分布可以用来检验两个模型的差异是否显著，即是否有足够的证据来拒绝简单模型，接受复杂模型。\n",
    "\n",
    "似然比检验通常用于比较两个或多个线性回归模型、广义线性模型等等。在实际应用中，似然比检验可以用来判断一个新模型是否比之前的模型更好，或者用来选择最佳的模型。\n",
    "\n",
    "模型偏差的差值检验也叫做似然比检验。使用R中的anova函数可以进行方差分析和似然比检验。"
   ]
  },
  {
   "attachments": {},
   "cell_type": "markdown",
   "metadata": {},
   "source": [
    "#### 偏差残差\n",
    "二项分布的偏差残差平方和就是模型偏差\n"
   ]
  },
  {
   "cell_type": "code",
   "execution_count": null,
   "metadata": {},
   "outputs": [],
   "source": [
    "# 预测成功的概率\n",
    "pred = mod_glm.predict()\n",
    "# 响应变量\n",
    "y = test_result.result\n",
    "# 与完美预测了合格情况时的对数似然的差值\n",
    "resid_tmp = 0 - sp.log(\n",
    "    sp.stats.binom.pmf(k = y, n = 1, p = pred)\n",
    ")\n",
    "# 偏差残差\n",
    "deviance_resid = sp.sqrt(\n",
    "    2 * resid_tmp\n",
    ") * np.sign(y - pred)\n",
    "# 打印结果\n",
    "deviance_resid.head(3)\n"
   ]
  },
  {
   "attachments": {},
   "cell_type": "markdown",
   "metadata": {},
   "source": [
    "### 交叉熵误差\n",
    "交叉熵误差（Cross-entropy error）是一种常用的损失函数，通常用于分类问题中。它的定义如下：\n",
    "\n",
    "$$\n",
    "E=-\\sum_{i}y_i \\log(\\hat{y_i})\n",
    "$$\n",
    "\n",
    "其中，$y_i$ 表示真实标签的第 $i$ 个元素，$\\hat{y_i}$ 表示预测标签的第 $i$ 个元素。这里假设标签是 one-hot 编码的形式，即每个标签只有一个元素为 1，其余元素为 0。\n",
    "\n",
    "交叉熵误差的意义是衡量预测标签和真实标签之间的差异性，值越小表示预测结果越接近真实结果。当预测标签和真实标签完全一致时，交叉熵误差为 0。\n",
    "\n",
    "交叉熵误差在深度学习中广泛应用，尤其是在神经网络的训练中。在训练神经网络时，我们通常使用反向传播算法来计算梯度，并更新网络参数，使得交叉熵误差不断减小，从而提高模型的预测能力。\n"
   ]
=======
>>>>>>> 77cb48310e33812928cf21f85236eea65940f7b7
  }
 ],
 "metadata": {
  "kernelspec": {
   "display_name": "Python 3.7.8 64-bit",
   "language": "python",
   "name": "python3"
  },
  "language_info": {
   "codemirror_mode": {
    "name": "ipython",
    "version": 3
   },
   "file_extension": ".py",
   "mimetype": "text/x-python",
   "name": "python",
   "nbconvert_exporter": "python",
   "pygments_lexer": "ipython3",
   "version": "3.7.8"
  },
  "orig_nbformat": 4,
  "vscode": {
   "interpreter": {
    "hash": "c7e4bfdc9e52f7cf38434a3b15902ea2a53c2a76de018dd37a57edb45a6169de"
   }
  }
 },
 "nbformat": 4,
 "nbformat_minor": 2
}
