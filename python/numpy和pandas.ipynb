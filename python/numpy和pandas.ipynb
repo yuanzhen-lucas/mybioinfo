{
 "cells": [
  {
   "cell_type": "markdown",
   "source": [
    "# 认识numpy 和 pandas \r\n",
    "\r\n",
    "## 区别\r\n",
    "- numpy 主要使用array类，它的矩阵计算十分强大；\r\n",
    "- pandas 主要使用DataFrame（实际上是ndarray）类，这个类用来管理数据。"
   ],
   "metadata": {}
  },
  {
   "cell_type": "code",
   "execution_count": 4,
   "source": [
    "# /usr/bin/python 3.7.8 64-bit\r\n",
    "# -- encoding = utf-8 ---\r\n",
    "import pandas as pd\r\n",
    "import numpy as np\r\n",
    "\r\n",
    "# 列表\r\n",
    "sample_array = np.array([1,2,3,4,5])\r\n",
    "sample_array\r\n",
    "\r\n",
    "# 对数组进行的运算会作用到数组的每个元素上\r\n",
    "sample_array + 2\r\n",
    "\r\n",
    "# 如果放置不同类型的数据，那么它就会有小情绪\r\n",
    "# 就会变成字符串\r\n",
    "np.array([1, 2, \"Q\"])\r\n",
    "\r\n",
    "# 二维数组\r\n",
    "sample_array_2 = np.array(\r\n",
    "    [[1,2,3,4,5],\r\n",
    "    [6,7,8, 9, 10]]\r\n",
    ")\r\n",
    "sample_array_2\r\n",
    "\r\n",
    "# 行数和列数\r\n",
    "sample_array_2.shape\r\n"
   ],
   "outputs": [
    {
     "output_type": "execute_result",
     "data": {
      "text/plain": [
       "(2, 5)"
      ]
     },
     "metadata": {},
     "execution_count": 4
    }
   ],
   "metadata": {}
  },
  {
   "cell_type": "markdown",
   "source": [
    "- 等差数列"
   ],
   "metadata": {}
  },
  {
   "cell_type": "code",
   "execution_count": 5,
   "source": [
    "import pandas as pd\r\n",
    "import numpy as np\r\n",
    "\r\n",
    "#  等差数列\r\n",
    "# 其实range 和 arange还是有很大的区别的\r\n",
    "np.arange(start = 1, stop = 6, step = 0.2)"
   ],
   "outputs": [
    {
     "output_type": "execute_result",
     "data": {
      "text/plain": [
       "array([1. , 1.2, 1.4, 1.6, 1.8, 2. , 2.2, 2.4, 2.6, 2.8, 3. , 3.2, 3.4,\n",
       "       3.6, 3.8, 4. , 4.2, 4.4, 4.6, 4.8, 5. , 5.2, 5.4, 5.6, 5.8])"
      ]
     },
     "metadata": {},
     "execution_count": 5
    }
   ],
   "metadata": {}
  },
  {
   "cell_type": "markdown",
   "source": [
    "- 多种生成数组的方式"
   ],
   "metadata": {}
  },
  {
   "cell_type": "code",
   "execution_count": 6,
   "source": [
    "np.tile(\"A\", 5)\r\n",
    "np.tile(0, 4)\r\n",
    "# 生成只有0的数组\r\n",
    "np.zeros(4)\r\n",
    "np.zeros([2,3])\r\n",
    "# 生成只有1的数组\r\n",
    "np.ones(3)"
   ],
   "outputs": [
    {
     "output_type": "execute_result",
     "data": {
      "text/plain": [
       "array([1., 1., 1.])"
      ]
     },
     "metadata": {},
     "execution_count": 6
    }
   ],
   "metadata": {}
  },
  {
   "cell_type": "markdown",
   "source": [
    "-   切片(slice)"
   ],
   "metadata": {}
  },
  {
   "cell_type": "code",
   "execution_count": 7,
   "source": [
    "import pandas as pd\r\n",
    "import numpy as np\r\n",
    "d1_array = np.array([1,2,3,4,5])\r\n",
    "d1_array\r\n",
    "d1_array[1:3]\r\n",
    "d2_array = np.array(\r\n",
    "    [[1,2,3,4,5],\r\n",
    "    [6,7,8,9,10]]\r\n",
    ")\r\n",
    "d2_array\r\n",
    "d2_array[0,3]\r\n",
    "d2_array[1, 2:4]"
   ],
   "outputs": [
    {
     "output_type": "execute_result",
     "data": {
      "text/plain": [
       "array([8, 9])"
      ]
     },
     "metadata": {},
     "execution_count": 7
    }
   ],
   "metadata": {}
  },
  {
   "cell_type": "markdown",
   "source": [
    "### 数据帧(DataFrame)\r\n",
    "-   列操作\r\n",
    "-   行操作"
   ],
   "metadata": {}
  },
  {
   "cell_type": "code",
   "execution_count": null,
   "source": [
    "import pandas as pd\r\n",
    "import numpy as np\r\n",
    "sample_df = pd.DataFrame({\r\n",
    "    'col1' : sample_array,\r\n",
    "    'col2' : sample_array * 2,\r\n",
    "    'clo3' : [\"A\", \"B\", \"C\", \"D\", \"E\"]\r\n",
    "})\r\n",
    "sample_df\r\n",
    "# print(sample_df)\r\n",
    "# 数据帧的列操作，点操作符\r\n",
    "# print(sample_df.col2)\r\n",
    "# 这个和下面的是一致的，方括号操作符\r\n",
    "# print(sample_df[\"col2\"])\r\n",
    "print(sample_df[[\"col2\",\"clo3\"]])\r\n",
    "# 删除指定的列\r\n",
    "print(sample_df.drop(\"col1\",axis=1))\r\n",
    "# 数据帧的行操作\r\n",
    "print(sample_df.head(n = 5))\r\n",
    "# 可以使用sample_df的query 函数更灵活地提取数据\r\n",
    "print(sample_df.query('col2 == 8'))\r\n",
    "# 其实这个query函数有点儿类似数据库操作，记住这点就行啦。\r\n",
    "print(sample_df.query('clo3 == \"A\" | clo3 == \"E\"'))\r\n",
    "print(sample_df.query('clo3 == \"A\" & col1 ==1'))\r\n",
    "# 注意[]方括号的使用\r\n",
    "print(sample_df.query('clo3 == \"A\" ')[['col1','col2','clo3']])"
   ],
   "outputs": [],
   "metadata": {}
  },
  {
   "cell_type": "markdown",
   "source": [
    "### 连接数据帧"
   ],
   "metadata": {}
  },
  {
   "cell_type": "code",
   "execution_count": null,
   "source": [
    "import pandas as pd\r\n",
    "import numpy as np\r\n",
    "df_1 = pd.DataFrame({\r\n",
    "    'col1':np.array([1,2,3]),\r\n",
    "    'col2':np.array([\"A\",\"B\",\"C\"])\r\n",
    "})\r\n",
    "df_2 = pd.DataFrame({\r\n",
    "    'col1':np.array([4,5,6]),\r\n",
    "    'col2':np.array([\"D\",\"E\",\"F\"])\r\n",
    "})\r\n",
    "print(pd.concat([df_1, df_2]))\r\n",
    "# 横向连接\r\n",
    "temp = pd.concat([df_1, df_2], axis=1)\r\n",
    "\r\n",
    "print(temp)"
   ],
   "outputs": [],
   "metadata": {}
  },
  {
   "cell_type": "markdown",
   "source": [
    "### 序列(series)"
   ],
   "metadata": {}
  },
  {
   "cell_type": "code",
   "execution_count": 40,
   "source": [
    "print(type(sample_df))\r\n",
    "# 如果取出来一列，其实上面有提示\r\n",
    "# type(sample_df.col1)  \r\n",
    "type(sample_df['col1'])\r\n",
    "type(sample_df.col1.values)\r\n",
    "# 这时候就变成了numpy 类型"
   ],
   "outputs": [
    {
     "output_type": "stream",
     "name": "stdout",
     "text": [
      "<class 'pandas.core.frame.DataFrame'>\n"
     ]
    },
    {
     "output_type": "execute_result",
     "data": {
      "text/plain": [
       "numpy.ndarray"
      ]
     },
     "metadata": {},
     "execution_count": 40
    }
   ],
   "metadata": {}
  },
  {
   "cell_type": "markdown",
   "source": [
    "## 函数文档（类似说明书）"
   ],
   "metadata": {}
  },
  {
   "cell_type": "code",
   "execution_count": 42,
   "source": [
    "# 这个仁者见仁，智者见智，网上搜索也行\r\n",
    "help(sample_df.query)"
   ],
   "outputs": [
    {
     "output_type": "stream",
     "name": "stdout",
     "text": [
      "Help on method query in module pandas.core.frame:\n",
      "\n",
      "query(expr, inplace=False, **kwargs) method of pandas.core.frame.DataFrame instance\n",
      "    Query the columns of a DataFrame with a boolean expression.\n",
      "    \n",
      "    Parameters\n",
      "    ----------\n",
      "    expr : str\n",
      "        The query string to evaluate.\n",
      "    \n",
      "        You can refer to variables\n",
      "        in the environment by prefixing them with an '@' character like\n",
      "        ``@a + b``.\n",
      "    \n",
      "        You can refer to column names that are not valid Python variable names\n",
      "        by surrounding them in backticks. Thus, column names containing spaces\n",
      "        or punctuations (besides underscores) or starting with digits must be\n",
      "        surrounded by backticks. (For example, a column named \"Area (cm^2) would\n",
      "        be referenced as `Area (cm^2)`). Column names which are Python keywords\n",
      "        (like \"list\", \"for\", \"import\", etc) cannot be used.\n",
      "    \n",
      "        For example, if one of your columns is called ``a a`` and you want\n",
      "        to sum it with ``b``, your query should be ```a a` + b``.\n",
      "    \n",
      "        .. versionadded:: 0.25.0\n",
      "            Backtick quoting introduced.\n",
      "    \n",
      "        .. versionadded:: 1.0.0\n",
      "            Expanding functionality of backtick quoting for more than only spaces.\n",
      "    \n",
      "    inplace : bool\n",
      "        Whether the query should modify the data in place or return\n",
      "        a modified copy.\n",
      "    **kwargs\n",
      "        See the documentation for :func:`eval` for complete details\n",
      "        on the keyword arguments accepted by :meth:`DataFrame.query`.\n",
      "    \n",
      "    Returns\n",
      "    -------\n",
      "    DataFrame or None\n",
      "        DataFrame resulting from the provided query expression or\n",
      "        None if ``inplace=True``.\n",
      "    \n",
      "    See Also\n",
      "    --------\n",
      "    eval : Evaluate a string describing operations on\n",
      "        DataFrame columns.\n",
      "    DataFrame.eval : Evaluate a string describing operations on\n",
      "        DataFrame columns.\n",
      "    \n",
      "    Notes\n",
      "    -----\n",
      "    The result of the evaluation of this expression is first passed to\n",
      "    :attr:`DataFrame.loc` and if that fails because of a\n",
      "    multidimensional key (e.g., a DataFrame) then the result will be passed\n",
      "    to :meth:`DataFrame.__getitem__`.\n",
      "    \n",
      "    This method uses the top-level :func:`eval` function to\n",
      "    evaluate the passed query.\n",
      "    \n",
      "    The :meth:`~pandas.DataFrame.query` method uses a slightly\n",
      "    modified Python syntax by default. For example, the ``&`` and ``|``\n",
      "    (bitwise) operators have the precedence of their boolean cousins,\n",
      "    :keyword:`and` and :keyword:`or`. This *is* syntactically valid Python,\n",
      "    however the semantics are different.\n",
      "    \n",
      "    You can change the semantics of the expression by passing the keyword\n",
      "    argument ``parser='python'``. This enforces the same semantics as\n",
      "    evaluation in Python space. Likewise, you can pass ``engine='python'``\n",
      "    to evaluate an expression using Python itself as a backend. This is not\n",
      "    recommended as it is inefficient compared to using ``numexpr`` as the\n",
      "    engine.\n",
      "    \n",
      "    The :attr:`DataFrame.index` and\n",
      "    :attr:`DataFrame.columns` attributes of the\n",
      "    :class:`~pandas.DataFrame` instance are placed in the query namespace\n",
      "    by default, which allows you to treat both the index and columns of the\n",
      "    frame as a column in the frame.\n",
      "    The identifier ``index`` is used for the frame index; you can also\n",
      "    use the name of the index to identify it in a query. Please note that\n",
      "    Python keywords may not be used as identifiers.\n",
      "    \n",
      "    For further details and examples see the ``query`` documentation in\n",
      "    :ref:`indexing <indexing.query>`.\n",
      "    \n",
      "    *Backtick quoted variables*\n",
      "    \n",
      "    Backtick quoted variables are parsed as literal Python code and\n",
      "    are converted internally to a Python valid identifier.\n",
      "    This can lead to the following problems.\n",
      "    \n",
      "    During parsing a number of disallowed characters inside the backtick\n",
      "    quoted string are replaced by strings that are allowed as a Python identifier.\n",
      "    These characters include all operators in Python, the space character, the\n",
      "    question mark, the exclamation mark, the dollar sign, and the euro sign.\n",
      "    For other characters that fall outside the ASCII range (U+0001..U+007F)\n",
      "    and those that are not further specified in PEP 3131,\n",
      "    the query parser will raise an error.\n",
      "    This excludes whitespace different than the space character,\n",
      "    but also the hashtag (as it is used for comments) and the backtick\n",
      "    itself (backtick can also not be escaped).\n",
      "    \n",
      "    In a special case, quotes that make a pair around a backtick can\n",
      "    confuse the parser.\n",
      "    For example, ```it's` > `that's``` will raise an error,\n",
      "    as it forms a quoted string (``'s > `that'``) with a backtick inside.\n",
      "    \n",
      "    See also the Python documentation about lexical analysis\n",
      "    (https://docs.python.org/3/reference/lexical_analysis.html)\n",
      "    in combination with the source code in :mod:`pandas.core.computation.parsing`.\n",
      "    \n",
      "    Examples\n",
      "    --------\n",
      "    >>> df = pd.DataFrame({'A': range(1, 6),\n",
      "    ...                    'B': range(10, 0, -2),\n",
      "    ...                    'C C': range(10, 5, -1)})\n",
      "    >>> df\n",
      "       A   B  C C\n",
      "    0  1  10   10\n",
      "    1  2   8    9\n",
      "    2  3   6    8\n",
      "    3  4   4    7\n",
      "    4  5   2    6\n",
      "    >>> df.query('A > B')\n",
      "       A  B  C C\n",
      "    4  5  2    6\n",
      "    \n",
      "    The previous expression is equivalent to\n",
      "    \n",
      "    >>> df[df.A > df.B]\n",
      "       A  B  C C\n",
      "    4  5  2    6\n",
      "    \n",
      "    For columns with spaces in their name, you can use backtick quoting.\n",
      "    \n",
      "    >>> df.query('B == `C C`')\n",
      "       A   B  C C\n",
      "    0  1  10   10\n",
      "    \n",
      "    The previous expression is equivalent to\n",
      "    \n",
      "    >>> df[df.B == df['C C']]\n",
      "       A   B  C C\n",
      "    0  1  10   10\n",
      "\n"
     ]
    }
   ],
   "metadata": {}
  }
 ],
 "metadata": {
  "orig_nbformat": 4,
  "language_info": {
   "name": "python",
   "version": "3.7.8",
   "mimetype": "text/x-python",
   "codemirror_mode": {
    "name": "ipython",
    "version": 3
   },
   "pygments_lexer": "ipython3",
   "nbconvert_exporter": "python",
   "file_extension": ".py"
  },
  "kernelspec": {
   "name": "python3",
   "display_name": "Python 3.7.8 64-bit"
  },
  "interpreter": {
   "hash": "5eb28d37f67e3c7de6734a9961b262f30b15700927acf945dd85fe9d5c2ccba0"
  }
 },
 "nbformat": 4,
 "nbformat_minor": 2
}